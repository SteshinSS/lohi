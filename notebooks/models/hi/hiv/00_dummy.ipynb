{
 "cells": [
  {
   "cell_type": "code",
   "execution_count": 1,
   "metadata": {},
   "outputs": [],
   "source": [
    "import pandas as pd\n",
    "import numpy as np\n",
    "from sklearn.dummy import DummyClassifier"
   ]
  },
  {
   "cell_type": "code",
   "execution_count": 2,
   "metadata": {},
   "outputs": [
    {
     "name": "stderr",
     "output_type": "stream",
     "text": [
      "Skipped loading some Tensorflow models, missing a dependency. No module named 'tensorflow'\n",
      "Skipped loading modules with pytorch-geometric dependency, missing a dependency. No module named 'torch_geometric'\n",
      "Skipped loading modules with pytorch-geometric dependency, missing a dependency. cannot import name 'DMPNN' from 'deepchem.models.torch_models' (/home/steshin/miniconda3/envs/lohi_benchmark/lib/python3.10/site-packages/deepchem/models/torch_models/__init__.py)\n",
      "Skipped loading some Jax models, missing a dependency. No module named 'jax'\n"
     ]
    }
   ],
   "source": [
    "import sys\n",
    "sys.path.append('../../../../code')\n",
    "\n",
    "from metrics import get_hi_metrics"
   ]
  },
  {
   "cell_type": "code",
   "execution_count": 3,
   "metadata": {},
   "outputs": [],
   "source": [
    "def fit_predict(train, test):\n",
    "    model = DummyClassifier()\n",
    "    model.fit(None, train['value'])\n",
    "\n",
    "    train_preds = model.predict_log_proba(train)[:, 1]\n",
    "    train_with_preds = train.copy()\n",
    "    train_with_preds['preds'] = train_preds\n",
    "\n",
    "    test_preds = model.predict_log_proba(test)[:, 1]\n",
    "    test_with_preds = test.copy()\n",
    "    test_with_preds['preds'] = test_preds\n",
    "    return train_with_preds, test_with_preds"
   ]
  },
  {
   "cell_type": "code",
   "execution_count": 5,
   "metadata": {},
   "outputs": [
    {
     "name": "stdout",
     "output_type": "stream",
     "text": [
      "Split 1\n",
      "Train metrics:\n",
      "{'roc_auc': 0.5, 'bedroc': 0.02111359748043381, 'prc_auc': 0.03816258919469929}\n",
      "Test metrics:\n",
      "{'roc_auc': 0.5, 'bedroc': 0.24901446615992587, 'prc_auc': 0.04332866063463744}\n",
      "\n",
      "Split 2\n",
      "Train metrics:\n",
      "{'roc_auc': 0.5, 'bedroc': 0.021974255339144138, 'prc_auc': 0.03211213762344696}\n",
      "Test metrics:\n",
      "{'roc_auc': 0.5, 'bedroc': 0.02487905896176488, 'prc_auc': 0.05542813455657492}\n",
      "\n",
      "Split 3\n",
      "Train metrics:\n",
      "{'roc_auc': 0.5, 'bedroc': 0.029983353693370792, 'prc_auc': 0.04937878305192737}\n",
      "Test metrics:\n",
      "{'roc_auc': 0.5, 'bedroc': 0.023551320742681736, 'prc_auc': 0.02089704383282365}\n",
      "\n"
     ]
    }
   ],
   "source": [
    "for i in [1, 2, 3]:\n",
    "    train = pd.read_csv(f'../../../../data/hi/hiv/train_{i}.csv', index_col=0)\n",
    "    test = pd.read_csv(f'../../../../data/hi/hiv/test_{i}.csv', index_col=0)\n",
    "    train_with_preds, test_with_preds = fit_predict(train, test)\n",
    "    \n",
    "    print(f'Split {i}')\n",
    "    print('Train metrics:')\n",
    "    print(get_hi_metrics(train_with_preds, train_with_preds['preds']))\n",
    "    print('Test metrics:')\n",
    "    print(get_hi_metrics(test_with_preds, test_with_preds['preds']))\n",
    "    print()\n",
    "\n",
    "    train_with_preds.to_csv(f'../../../../predictions/hi/hiv/dummy/train_{i}.csv')\n",
    "    test_with_preds.to_csv(f'../../../../predictions/hi/hiv/dummy/test_{i}.csv')\n"
   ]
  },
  {
   "cell_type": "code",
   "execution_count": null,
   "metadata": {},
   "outputs": [],
   "source": []
  }
 ],
 "metadata": {
  "kernelspec": {
   "display_name": "lohi_benchmark",
   "language": "python",
   "name": "python3"
  },
  "language_info": {
   "codemirror_mode": {
    "name": "ipython",
    "version": 3
   },
   "file_extension": ".py",
   "mimetype": "text/x-python",
   "name": "python",
   "nbconvert_exporter": "python",
   "pygments_lexer": "ipython3",
   "version": "3.10.9"
  },
  "orig_nbformat": 4,
  "vscode": {
   "interpreter": {
    "hash": "6866b008e29a6b93725c754ff35518c878854bf4c51b70cc5a6a33e53883e114"
   }
  }
 },
 "nbformat": 4,
 "nbformat_minor": 2
}
