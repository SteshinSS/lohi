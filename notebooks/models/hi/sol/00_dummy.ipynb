{
 "cells": [
  {
   "cell_type": "code",
   "execution_count": 1,
   "metadata": {},
   "outputs": [],
   "source": [
    "import pandas as pd\n",
    "import numpy as np\n",
    "from sklearn.dummy import DummyClassifier"
   ]
  },
  {
   "cell_type": "code",
   "execution_count": 2,
   "metadata": {},
   "outputs": [
    {
     "name": "stderr",
     "output_type": "stream",
     "text": [
      "Skipped loading some Tensorflow models, missing a dependency. No module named 'tensorflow'\n",
      "\u001b[34m\u001b[1mwandb\u001b[0m: \u001b[33mWARNING\u001b[0m W&B installed but not logged in.  Run `wandb login` or set the WANDB_API_KEY env variable.\n",
      "Skipped loading modules with pytorch-geometric dependency, missing a dependency. No module named 'torch_geometric'\n",
      "Skipped loading modules with pytorch-geometric dependency, missing a dependency. cannot import name 'DMPNN' from 'deepchem.models.torch_models' (/home/simon/miniconda3/envs/lohi_benchmark/lib/python3.10/site-packages/deepchem/models/torch_models/__init__.py)\n",
      "Skipped loading some Jax models, missing a dependency. No module named 'jax'\n"
     ]
    }
   ],
   "source": [
    "import sys\n",
    "sys.path.append('../../../../code')\n",
    "\n",
    "from metrics import get_hi_metrics"
   ]
  },
  {
   "cell_type": "code",
   "execution_count": 3,
   "metadata": {},
   "outputs": [],
   "source": [
    "def fit_predict(train, test):\n",
    "    model = DummyClassifier()\n",
    "    model.fit(None, train['value'])\n",
    "\n",
    "    train_preds = model.predict_log_proba(train)[:, 1]\n",
    "    train_with_preds = train.copy()\n",
    "    train_with_preds['preds'] = train_preds\n",
    "\n",
    "    test_preds = model.predict_log_proba(test)[:, 1]\n",
    "    test_with_preds = test.copy()\n",
    "    test_with_preds['preds'] = test_preds\n",
    "    return train_with_preds, test_with_preds"
   ]
  },
  {
   "cell_type": "code",
   "execution_count": 4,
   "metadata": {},
   "outputs": [
    {
     "name": "stdout",
     "output_type": "stream",
     "text": [
      "Split 1\n",
      "Train metrics:\n",
      "{'roc_auc': 0.5, 'bedroc': 0.25483269033213063, 'prc_auc': 0.21359223300970873}\n",
      "Test metrics:\n",
      "{'roc_auc': 0.5, 'bedroc': 0.3007246675614542, 'prc_auc': 0.21914008321775313}\n",
      "\n",
      "Split 2\n",
      "Train metrics:\n",
      "{'roc_auc': 0.5, 'bedroc': 0.2548327031607953, 'prc_auc': 0.21151178918169208}\n",
      "Test metrics:\n",
      "{'roc_auc': 0.5, 'bedroc': 0.4340563633896145, 'prc_auc': 0.22330097087378642}\n",
      "\n",
      "Split 3\n",
      "Train metrics:\n",
      "{'roc_auc': 0.5, 'bedroc': 0.34419539753798367, 'prc_auc': 0.22122052704576978}\n",
      "Test metrics:\n",
      "{'roc_auc': 0.5, 'bedroc': 0.3359730956645167, 'prc_auc': 0.20388349514563106}\n",
      "\n"
     ]
    }
   ],
   "source": [
    "for i in [1, 2, 3]:\n",
    "    train = pd.read_csv(f'../../../../data/hi/sol/train_{i}.csv', index_col=0)\n",
    "    test = pd.read_csv(f'../../../../data/hi/sol/test_{i}.csv', index_col=0)\n",
    "    train_with_preds, test_with_preds = fit_predict(train, test)\n",
    "    \n",
    "    print(f'Split {i}')\n",
    "    print('Train metrics:')\n",
    "    print(get_hi_metrics(train_with_preds, train_with_preds['preds']))\n",
    "    print('Test metrics:')\n",
    "    print(get_hi_metrics(test_with_preds, test_with_preds['preds']))\n",
    "    print()\n",
    "\n",
    "    train_with_preds.to_csv(f'../../../../predictions/hi/sol/dummy/train_{i}.csv')\n",
    "    test_with_preds.to_csv(f'../../../../predictions/hi/sol/dummy/test_{i}.csv')\n"
   ]
  },
  {
   "cell_type": "code",
   "execution_count": null,
   "metadata": {},
   "outputs": [],
   "source": []
  }
 ],
 "metadata": {
  "kernelspec": {
   "display_name": "lohi_benchmark",
   "language": "python",
   "name": "python3"
  },
  "language_info": {
   "codemirror_mode": {
    "name": "ipython",
    "version": 3
   },
   "file_extension": ".py",
   "mimetype": "text/x-python",
   "name": "python",
   "nbconvert_exporter": "python",
   "pygments_lexer": "ipython3",
   "version": "3.10.12"
  },
  "orig_nbformat": 4
 },
 "nbformat": 4,
 "nbformat_minor": 2
}
