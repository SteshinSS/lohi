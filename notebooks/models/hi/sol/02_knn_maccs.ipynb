{
 "cells": [
  {
   "cell_type": "code",
   "execution_count": 1,
   "metadata": {},
   "outputs": [],
   "source": [
    "import pandas as pd\n",
    "import numpy as np\n",
    "from rdkit import Chem\n",
    "from rdkit.Chem import MACCSkeys\n",
    "from rdkit.Chem import AllChem\n",
    "\n",
    "from sklearn.neighbors import KNeighborsClassifier\n",
    "from sklearn.model_selection import PredefinedSplit, GridSearchCV"
   ]
  },
  {
   "cell_type": "code",
   "execution_count": 2,
   "metadata": {},
   "outputs": [
    {
     "name": "stderr",
     "output_type": "stream",
     "text": [
      "Skipped loading some Tensorflow models, missing a dependency. No module named 'tensorflow'\n",
      "\u001b[34m\u001b[1mwandb\u001b[0m: \u001b[33mWARNING\u001b[0m W&B installed but not logged in.  Run `wandb login` or set the WANDB_API_KEY env variable.\n",
      "Skipped loading modules with pytorch-geometric dependency, missing a dependency. No module named 'torch_geometric'\n",
      "Skipped loading modules with pytorch-geometric dependency, missing a dependency. cannot import name 'DMPNN' from 'deepchem.models.torch_models' (/home/simon/miniconda3/envs/lohi_benchmark/lib/python3.10/site-packages/deepchem/models/torch_models/__init__.py)\n",
      "Skipped loading some Jax models, missing a dependency. No module named 'jax'\n"
     ]
    }
   ],
   "source": [
    "import sys\n",
    "sys.path.append('../../../../code')\n",
    "\n",
    "from metrics import get_hi_metrics"
   ]
  },
  {
   "cell_type": "code",
   "execution_count": 3,
   "metadata": {},
   "outputs": [
    {
     "data": {
      "text/html": [
       "<div>\n",
       "<style scoped>\n",
       "    .dataframe tbody tr th:only-of-type {\n",
       "        vertical-align: middle;\n",
       "    }\n",
       "\n",
       "    .dataframe tbody tr th {\n",
       "        vertical-align: top;\n",
       "    }\n",
       "\n",
       "    .dataframe thead th {\n",
       "        text-align: right;\n",
       "    }\n",
       "</style>\n",
       "<table border=\"1\" class=\"dataframe\">\n",
       "  <thead>\n",
       "    <tr style=\"text-align: right;\">\n",
       "      <th></th>\n",
       "      <th>Unnamed: 0</th>\n",
       "      <th>smiles</th>\n",
       "      <th>value</th>\n",
       "    </tr>\n",
       "  </thead>\n",
       "  <tbody>\n",
       "    <tr>\n",
       "      <th>0</th>\n",
       "      <td>2089</td>\n",
       "      <td>O=C(CN1C(=O)CCC1=O)Nc1ccc(F)c(F)c1F</td>\n",
       "      <td>False</td>\n",
       "    </tr>\n",
       "    <tr>\n",
       "      <th>1</th>\n",
       "      <td>2099</td>\n",
       "      <td>COc1ccc(-c2nnc(NC(=O)c3ccc4ccccc4c3)o2)cc1OC</td>\n",
       "      <td>True</td>\n",
       "    </tr>\n",
       "    <tr>\n",
       "      <th>2</th>\n",
       "      <td>61</td>\n",
       "      <td>O=C(Nc1ccc2ccccc2n1)c1ccc(N2CCOC2=O)cc1</td>\n",
       "      <td>True</td>\n",
       "    </tr>\n",
       "    <tr>\n",
       "      <th>3</th>\n",
       "      <td>89</td>\n",
       "      <td>Cc1c[nH]c(=O)n1-c1ccc(C(=O)Nc2ccc3ccccc3n2)cc1</td>\n",
       "      <td>True</td>\n",
       "    </tr>\n",
       "    <tr>\n",
       "      <th>4</th>\n",
       "      <td>97</td>\n",
       "      <td>O=C(C1CCC(O)CC1)N1CCCN(c2ccc(F)cc2)CC1</td>\n",
       "      <td>False</td>\n",
       "    </tr>\n",
       "    <tr>\n",
       "      <th>...</th>\n",
       "      <td>...</td>\n",
       "      <td>...</td>\n",
       "      <td>...</td>\n",
       "    </tr>\n",
       "    <tr>\n",
       "      <th>1437</th>\n",
       "      <td>2143</td>\n",
       "      <td>N#CCCn1nc(C(F)(F)F)cc1O</td>\n",
       "      <td>False</td>\n",
       "    </tr>\n",
       "    <tr>\n",
       "      <th>1438</th>\n",
       "      <td>2147</td>\n",
       "      <td>Cc1ccccc1N1C(=O)c2ccc(C(=O)NC(C)(C)C)cc2C1=O</td>\n",
       "      <td>False</td>\n",
       "    </tr>\n",
       "    <tr>\n",
       "      <th>1439</th>\n",
       "      <td>2160</td>\n",
       "      <td>CC(C)(C)C(=O)Nc1sc2c(c1C#N)CCC2</td>\n",
       "      <td>True</td>\n",
       "    </tr>\n",
       "    <tr>\n",
       "      <th>1440</th>\n",
       "      <td>2165</td>\n",
       "      <td>C[C@@H](c1ccc(F)cc1)n1nnc2cnc3ccc(-c4ccc5ocnc5...</td>\n",
       "      <td>True</td>\n",
       "    </tr>\n",
       "    <tr>\n",
       "      <th>1441</th>\n",
       "      <td>2169</td>\n",
       "      <td>CCc1noc(COc2c(C)ccnc2Cl)n1</td>\n",
       "      <td>False</td>\n",
       "    </tr>\n",
       "  </tbody>\n",
       "</table>\n",
       "<p>1442 rows × 3 columns</p>\n",
       "</div>"
      ],
      "text/plain": [
       "      Unnamed: 0                                             smiles  value\n",
       "0           2089                O=C(CN1C(=O)CCC1=O)Nc1ccc(F)c(F)c1F  False\n",
       "1           2099       COc1ccc(-c2nnc(NC(=O)c3ccc4ccccc4c3)o2)cc1OC   True\n",
       "2             61            O=C(Nc1ccc2ccccc2n1)c1ccc(N2CCOC2=O)cc1   True\n",
       "3             89     Cc1c[nH]c(=O)n1-c1ccc(C(=O)Nc2ccc3ccccc3n2)cc1   True\n",
       "4             97             O=C(C1CCC(O)CC1)N1CCCN(c2ccc(F)cc2)CC1  False\n",
       "...          ...                                                ...    ...\n",
       "1437        2143                            N#CCCn1nc(C(F)(F)F)cc1O  False\n",
       "1438        2147       Cc1ccccc1N1C(=O)c2ccc(C(=O)NC(C)(C)C)cc2C1=O  False\n",
       "1439        2160                    CC(C)(C)C(=O)Nc1sc2c(c1C#N)CCC2   True\n",
       "1440        2165  C[C@@H](c1ccc(F)cc1)n1nnc2cnc3ccc(-c4ccc5ocnc5...   True\n",
       "1441        2169                         CCc1noc(COc2c(C)ccnc2Cl)n1  False\n",
       "\n",
       "[1442 rows x 3 columns]"
      ]
     },
     "execution_count": 3,
     "metadata": {},
     "output_type": "execute_result"
    }
   ],
   "source": [
    "train = pd.read_csv('../../../../data/hi/sol/train_1.csv')\n",
    "test = pd.read_csv('../../../../data/hi/sol/test_1.csv')\n",
    "\n",
    "train"
   ]
  },
  {
   "cell_type": "code",
   "execution_count": 4,
   "metadata": {},
   "outputs": [],
   "source": [
    "from scipy.spatial.distance import jaccard\n",
    "\n",
    "\n",
    "def run_knn_gridsearch_tanimoto(train_fps, test_fps):\n",
    "    split_index = [-1] * len(train_fps) + [0] * len(test_fps)\n",
    "    pds = PredefinedSplit(test_fold = split_index)\n",
    "\n",
    "    X = train_fps + test_fps\n",
    "    y = train['value'].to_list() + test['value'].to_list()\n",
    "\n",
    "    params = {\n",
    "        'n_neighbors': [3, 5, 7, 10, 12, 15],\n",
    "        'weights': ['uniform', 'distance'],\n",
    "    }\n",
    "    knn = KNeighborsClassifier(metric=jaccard)\n",
    "\n",
    "    grid_search = GridSearchCV(knn, params, cv=pds, refit=False, scoring='average_precision', verbose=3)\n",
    "    grid_search.fit(X, y)\n",
    "\n",
    "    best_params = grid_search.best_params_\n",
    "    knn = KNeighborsClassifier(n_neighbors=best_params['n_neighbors'], weights=best_params['weights'], metric=jaccard)\n",
    "    knn.fit(train_fps, train['value'])\n",
    "\n",
    "    train_preds = knn.predict_proba(train_fps)[:, 1]\n",
    "    train_metrics = get_hi_metrics(train, train_preds)\n",
    "\n",
    "    test_preds = knn.predict_proba(test_fps)[:, 1]\n",
    "    test_metrics = get_hi_metrics(test, test_preds)\n",
    "    return train_metrics, test_metrics\n"
   ]
  },
  {
   "cell_type": "code",
   "execution_count": 5,
   "metadata": {},
   "outputs": [
    {
     "name": "stdout",
     "output_type": "stream",
     "text": [
      "Fitting 1 folds for each of 12 candidates, totalling 12 fits\n",
      "[CV 1/1] END ....n_neighbors=3, weights=uniform;, score=0.315 total time=   5.3s\n",
      "[CV 1/1] END ...n_neighbors=3, weights=distance;, score=0.335 total time=   5.2s\n",
      "[CV 1/1] END ....n_neighbors=5, weights=uniform;, score=0.339 total time=   5.3s\n",
      "[CV 1/1] END ...n_neighbors=5, weights=distance;, score=0.369 total time=   5.2s\n",
      "[CV 1/1] END ....n_neighbors=7, weights=uniform;, score=0.359 total time=   5.2s\n",
      "[CV 1/1] END ...n_neighbors=7, weights=distance;, score=0.392 total time=   5.2s\n",
      "[CV 1/1] END ...n_neighbors=10, weights=uniform;, score=0.388 total time=   5.2s\n",
      "[CV 1/1] END ..n_neighbors=10, weights=distance;, score=0.409 total time=   5.2s\n",
      "[CV 1/1] END ...n_neighbors=12, weights=uniform;, score=0.385 total time=   5.2s\n",
      "[CV 1/1] END ..n_neighbors=12, weights=distance;, score=0.410 total time=   5.2s\n",
      "[CV 1/1] END ...n_neighbors=15, weights=uniform;, score=0.393 total time=   5.2s\n",
      "[CV 1/1] END ..n_neighbors=15, weights=distance;, score=0.415 total time=   5.2s\n",
      "{'roc_auc': 0.9999985684509495, 'bedroc': 1.0000000000000022, 'prc_auc': 0.9999894927079394}\n",
      "{'roc_auc': 0.7335476763270905, 'bedroc': 0.5234510956765817, 'prc_auc': 0.41540082548325313}\n"
     ]
    }
   ],
   "source": [
    "train_mols = [Chem.MolFromSmiles(x) for x in train['smiles']]\n",
    "train_maccs_fps = [Chem.MACCSkeys.GenMACCSKeys(x) for x in train_mols]\n",
    "\n",
    "test_mols = [Chem.MolFromSmiles(x) for x in test['smiles']]\n",
    "test_maccs_fps = [Chem.MACCSkeys.GenMACCSKeys(x) for x in test_mols]\n",
    "\n",
    "train_metrics, test_metrics = run_knn_gridsearch_tanimoto(train_maccs_fps, test_maccs_fps)\n",
    "print(train_metrics)\n",
    "print(test_metrics)"
   ]
  },
  {
   "attachments": {},
   "cell_type": "markdown",
   "metadata": {},
   "source": [
    "# Final Evaluation"
   ]
  },
  {
   "cell_type": "code",
   "execution_count": 6,
   "metadata": {},
   "outputs": [],
   "source": [
    "def fit_predict(train, test):\n",
    "    train_mols = [Chem.MolFromSmiles(x) for x in train['smiles']]\n",
    "    train_morgan_fps = [Chem.MACCSkeys.GenMACCSKeys(x) for x in train_mols]\n",
    "\n",
    "    test_mols = [Chem.MolFromSmiles(x) for x in test['smiles']]\n",
    "    test_morgan_fps = [Chem.MACCSkeys.GenMACCSKeys(x) for x in test_mols]\n",
    "\n",
    "    knn = KNeighborsClassifier(n_neighbors=15, weights='distance', metric=jaccard)\n",
    "    knn.fit(train_morgan_fps, train['value'])\n",
    "\n",
    "    train_result = train.copy()\n",
    "    train_result['preds'] = knn.predict_proba(train_morgan_fps)[:, 1]\n",
    "\n",
    "    test_result = test.copy()\n",
    "    test_result['preds'] = knn.predict_proba(test_morgan_fps)[:, 1]\n",
    "\n",
    "    return train_result, test_result\n"
   ]
  },
  {
   "cell_type": "code",
   "execution_count": 7,
   "metadata": {},
   "outputs": [],
   "source": [
    "for i in [1, 2, 3]:\n",
    "    train = pd.read_csv(f'../../../../data/hi/sol/train_{i}.csv')\n",
    "    test = pd.read_csv(f'../../../../data/hi/sol/test_{i}.csv')\n",
    "\n",
    "    train_preds, test_preds = fit_predict(train, test)\n",
    "    train_preds.to_csv(f'../../../../predictions/hi/sol/knn_maccs/train_{i}.csv')\n",
    "    test_preds.to_csv(f'../../../../predictions/hi/sol/knn_maccs/test_{i}.csv')\n"
   ]
  },
  {
   "cell_type": "code",
   "execution_count": null,
   "metadata": {},
   "outputs": [],
   "source": []
  }
 ],
 "metadata": {
  "kernelspec": {
   "display_name": "lohi_benchmark",
   "language": "python",
   "name": "python3"
  },
  "language_info": {
   "codemirror_mode": {
    "name": "ipython",
    "version": 3
   },
   "file_extension": ".py",
   "mimetype": "text/x-python",
   "name": "python",
   "nbconvert_exporter": "python",
   "pygments_lexer": "ipython3",
   "version": "3.10.12"
  },
  "orig_nbformat": 4
 },
 "nbformat": 4,
 "nbformat_minor": 2
}
