{
 "cells": [
  {
   "cell_type": "code",
   "execution_count": 1,
   "metadata": {},
   "outputs": [],
   "source": [
    "import pandas as pd\n",
    "import numpy as np\n",
    "from rdkit import Chem\n",
    "from rdkit.Chem import AllChem\n",
    "\n",
    "from sklearn.neighbors import KNeighborsClassifier\n",
    "from sklearn.model_selection import PredefinedSplit, GridSearchCV"
   ]
  },
  {
   "cell_type": "code",
   "execution_count": 2,
   "metadata": {},
   "outputs": [
    {
     "name": "stderr",
     "output_type": "stream",
     "text": [
      "Skipped loading some Tensorflow models, missing a dependency. No module named 'tensorflow'\n",
      "Skipped loading modules with pytorch-geometric dependency, missing a dependency. No module named 'torch_geometric'\n",
      "Skipped loading modules with pytorch-geometric dependency, missing a dependency. cannot import name 'DMPNN' from 'deepchem.models.torch_models' (/home/steshin/miniconda3/envs/lohi_benchmark/lib/python3.10/site-packages/deepchem/models/torch_models/__init__.py)\n",
      "Skipped loading some Jax models, missing a dependency. No module named 'jax'\n"
     ]
    }
   ],
   "source": [
    "import sys\n",
    "sys.path.append('../../../../code')\n",
    "\n",
    "from metrics import get_hi_metrics"
   ]
  },
  {
   "cell_type": "code",
   "execution_count": 3,
   "metadata": {},
   "outputs": [
    {
     "data": {
      "text/html": [
       "<div>\n",
       "<style scoped>\n",
       "    .dataframe tbody tr th:only-of-type {\n",
       "        vertical-align: middle;\n",
       "    }\n",
       "\n",
       "    .dataframe tbody tr th {\n",
       "        vertical-align: top;\n",
       "    }\n",
       "\n",
       "    .dataframe thead th {\n",
       "        text-align: right;\n",
       "    }\n",
       "</style>\n",
       "<table border=\"1\" class=\"dataframe\">\n",
       "  <thead>\n",
       "    <tr style=\"text-align: right;\">\n",
       "      <th></th>\n",
       "      <th>Unnamed: 0</th>\n",
       "      <th>smiles</th>\n",
       "      <th>value</th>\n",
       "    </tr>\n",
       "  </thead>\n",
       "  <tbody>\n",
       "    <tr>\n",
       "      <th>0</th>\n",
       "      <td>383</td>\n",
       "      <td>CC(C)Oc1ccccc1N1CCN(Cc2cccc(C(=O)N3CCCCC3)c2)CC1</td>\n",
       "      <td>True</td>\n",
       "    </tr>\n",
       "    <tr>\n",
       "      <th>1</th>\n",
       "      <td>386</td>\n",
       "      <td>CC(C)Oc1ccccc1N1CCN(Cc2cccc(CN3CCCCC3=O)c2)CC1</td>\n",
       "      <td>True</td>\n",
       "    </tr>\n",
       "    <tr>\n",
       "      <th>2</th>\n",
       "      <td>389</td>\n",
       "      <td>CC(C)Oc1ccccc1N1CCN(Cc2ccccc2CN2CCCCC2=O)CC1</td>\n",
       "      <td>True</td>\n",
       "    </tr>\n",
       "    <tr>\n",
       "      <th>3</th>\n",
       "      <td>2695</td>\n",
       "      <td>COc1ccccc1N1CCN(CC2COCC(c3ccccc3)(c3ccccc3)O2)CC1</td>\n",
       "      <td>True</td>\n",
       "    </tr>\n",
       "    <tr>\n",
       "      <th>4</th>\n",
       "      <td>2995</td>\n",
       "      <td>COc1ccccc1N1CCN(C[C@H]2OCCOC2(c2ccccc2)c2ccccc...</td>\n",
       "      <td>False</td>\n",
       "    </tr>\n",
       "    <tr>\n",
       "      <th>...</th>\n",
       "      <td>...</td>\n",
       "      <td>...</td>\n",
       "      <td>...</td>\n",
       "    </tr>\n",
       "    <tr>\n",
       "      <th>2380</th>\n",
       "      <td>5444</td>\n",
       "      <td>O=C1c2ccccc2C(=O)N1CCCCN1CCCN(C(c2ccccc2)c2ccc...</td>\n",
       "      <td>True</td>\n",
       "    </tr>\n",
       "    <tr>\n",
       "      <th>2381</th>\n",
       "      <td>4391</td>\n",
       "      <td>O=C(CCC(=O)c1ccccc1)NCCc1c[nH]c2ccccc12</td>\n",
       "      <td>False</td>\n",
       "    </tr>\n",
       "    <tr>\n",
       "      <th>2382</th>\n",
       "      <td>4397</td>\n",
       "      <td>O=C(CCCC(=O)c1ccccc1)NCCc1c[nH]c2ccccc12</td>\n",
       "      <td>False</td>\n",
       "    </tr>\n",
       "    <tr>\n",
       "      <th>2383</th>\n",
       "      <td>5999</td>\n",
       "      <td>OC12C3C4CC5C6C4C1C6C(C53)N2CC1CCCCC1</td>\n",
       "      <td>False</td>\n",
       "    </tr>\n",
       "    <tr>\n",
       "      <th>2384</th>\n",
       "      <td>5458</td>\n",
       "      <td>O=C1c2ccccc2CCCN1CCN1CCC(n2c(O)nc3cc(F)ccc32)CC1</td>\n",
       "      <td>True</td>\n",
       "    </tr>\n",
       "  </tbody>\n",
       "</table>\n",
       "<p>2385 rows × 3 columns</p>\n",
       "</div>"
      ],
      "text/plain": [
       "      Unnamed: 0                                             smiles  value\n",
       "0            383   CC(C)Oc1ccccc1N1CCN(Cc2cccc(C(=O)N3CCCCC3)c2)CC1   True\n",
       "1            386     CC(C)Oc1ccccc1N1CCN(Cc2cccc(CN3CCCCC3=O)c2)CC1   True\n",
       "2            389       CC(C)Oc1ccccc1N1CCN(Cc2ccccc2CN2CCCCC2=O)CC1   True\n",
       "3           2695  COc1ccccc1N1CCN(CC2COCC(c3ccccc3)(c3ccccc3)O2)CC1   True\n",
       "4           2995  COc1ccccc1N1CCN(C[C@H]2OCCOC2(c2ccccc2)c2ccccc...  False\n",
       "...          ...                                                ...    ...\n",
       "2380        5444  O=C1c2ccccc2C(=O)N1CCCCN1CCCN(C(c2ccccc2)c2ccc...   True\n",
       "2381        4391            O=C(CCC(=O)c1ccccc1)NCCc1c[nH]c2ccccc12  False\n",
       "2382        4397           O=C(CCCC(=O)c1ccccc1)NCCc1c[nH]c2ccccc12  False\n",
       "2383        5999               OC12C3C4CC5C6C4C1C6C(C53)N2CC1CCCCC1  False\n",
       "2384        5458   O=C1c2ccccc2CCCN1CCN1CCC(n2c(O)nc3cc(F)ccc32)CC1   True\n",
       "\n",
       "[2385 rows x 3 columns]"
      ]
     },
     "execution_count": 3,
     "metadata": {},
     "output_type": "execute_result"
    }
   ],
   "source": [
    "train = pd.read_csv('../../../../data/hi/drd2/train_1.csv')\n",
    "test = pd.read_csv('../../../../data/hi/drd2/test_1.csv')\n",
    "\n",
    "train"
   ]
  },
  {
   "attachments": {},
   "cell_type": "markdown",
   "metadata": {},
   "source": [
    "# Hyperparameter Optimization"
   ]
  },
  {
   "cell_type": "code",
   "execution_count": 4,
   "metadata": {},
   "outputs": [],
   "source": [
    "from scipy.spatial.distance import jaccard\n",
    "\n",
    "\n",
    "def run_knn_gridsearch_tanimoto(train_fps, test_fps):\n",
    "    split_index = [-1] * len(train_fps) + [0] * len(test_fps)\n",
    "    pds = PredefinedSplit(test_fold = split_index)\n",
    "\n",
    "    X = train_fps + test_fps\n",
    "    y = train['value'].to_list() + test['value'].to_list()\n",
    "\n",
    "    params = {\n",
    "        'n_neighbors': [3, 5, 7, 10],\n",
    "        'weights': ['uniform', 'distance'],\n",
    "    }\n",
    "    knn = KNeighborsClassifier(metric=jaccard)\n",
    "\n",
    "    grid_search = GridSearchCV(knn, params, cv=pds, refit=False, scoring='average_precision', verbose=3)\n",
    "    grid_search.fit(X, y)\n",
    "\n",
    "    best_params = grid_search.best_params_\n",
    "    knn = KNeighborsClassifier(n_neighbors=best_params['n_neighbors'], weights=best_params['weights'], metric=jaccard)\n",
    "    knn.fit(train_fps, train['value'])\n",
    "\n",
    "    train_preds = knn.predict_proba(train_fps)[:, 1]\n",
    "    train_metrics = get_hi_metrics(train, train_preds)\n",
    "\n",
    "    test_preds = knn.predict_proba(test_fps)[:, 1]\n",
    "    test_metrics = get_hi_metrics(test, test_preds)\n",
    "    return train_metrics, test_metrics\n"
   ]
  },
  {
   "cell_type": "code",
   "execution_count": 5,
   "metadata": {},
   "outputs": [
    {
     "name": "stdout",
     "output_type": "stream",
     "text": [
      "Fitting 1 folds for each of 8 candidates, totalling 8 fits\n",
      "[CV 1/1] END ....n_neighbors=3, weights=uniform;, score=0.671 total time=  51.8s\n",
      "[CV 1/1] END ...n_neighbors=3, weights=distance;, score=0.678 total time=  49.3s\n",
      "[CV 1/1] END ....n_neighbors=5, weights=uniform;, score=0.693 total time=  48.0s\n",
      "[CV 1/1] END ...n_neighbors=5, weights=distance;, score=0.704 total time=  47.3s\n",
      "[CV 1/1] END ....n_neighbors=7, weights=uniform;, score=0.695 total time=  49.2s\n",
      "[CV 1/1] END ...n_neighbors=7, weights=distance;, score=0.705 total time=  49.1s\n",
      "[CV 1/1] END ...n_neighbors=10, weights=uniform;, score=0.693 total time=  48.0s\n",
      "[CV 1/1] END ..n_neighbors=10, weights=distance;, score=0.705 total time=  47.9s\n",
      "{'roc_auc': 0.9999567973814131, 'bedroc': 0.9999999999999962, 'prc_auc': 0.999970168536563}\n",
      "{'roc_auc': 0.6211048815130448, 'bedroc': 0.8292465849244126, 'prc_auc': 0.7048994757526279}\n"
     ]
    }
   ],
   "source": [
    "train_mols = [Chem.MolFromSmiles(x) for x in train['smiles']]\n",
    "train_morgan_fps = [AllChem.GetMorganFingerprintAsBitVect(x, 2, 1024) for x in train_mols]\n",
    "\n",
    "test_mols = [Chem.MolFromSmiles(x) for x in test['smiles']]\n",
    "test_morgan_fps = [AllChem.GetMorganFingerprintAsBitVect(x, 2, 1024) for x in test_mols]\n",
    "\n",
    "train_metrics, test_metrics = run_knn_gridsearch_tanimoto(train_morgan_fps, test_morgan_fps)\n",
    "print(train_metrics)\n",
    "print(test_metrics)"
   ]
  },
  {
   "attachments": {},
   "cell_type": "markdown",
   "metadata": {},
   "source": [
    "# Final Evaluation"
   ]
  },
  {
   "cell_type": "code",
   "execution_count": 6,
   "metadata": {},
   "outputs": [],
   "source": [
    "def fit_predict(train, test):\n",
    "    train_mols = [Chem.MolFromSmiles(x) for x in train['smiles']]\n",
    "    train_morgan_fps = [AllChem.GetMorganFingerprintAsBitVect(x, 2, 1024) for x in train_mols]\n",
    "\n",
    "    test_mols = [Chem.MolFromSmiles(x) for x in test['smiles']]\n",
    "    test_morgan_fps = [AllChem.GetMorganFingerprintAsBitVect(x, 2, 1024) for x in test_mols]\n",
    "\n",
    "    knn = KNeighborsClassifier(n_neighbors=5, weights='distance', metric=jaccard)\n",
    "    knn.fit(train_morgan_fps, train['value'])\n",
    "\n",
    "    train_result = train.copy()\n",
    "    train_result['preds'] = knn.predict_proba(train_morgan_fps)[:, 1]\n",
    "\n",
    "    test_result = test.copy()\n",
    "    test_result['preds'] = knn.predict_proba(test_morgan_fps)[:, 1]\n",
    "\n",
    "    return train_result, test_result\n"
   ]
  },
  {
   "cell_type": "code",
   "execution_count": 7,
   "metadata": {},
   "outputs": [],
   "source": [
    "for i in [1, 2, 3]:\n",
    "    train = pd.read_csv(f'../../../../data/hi/drd2/train_{i}.csv')\n",
    "    test = pd.read_csv(f'../../../../data/hi/drd2/test_{i}.csv')\n",
    "\n",
    "    train_preds, test_preds = fit_predict(train, test)\n",
    "    train_preds.to_csv(f'../../../../predictions/hi/drd2/knn_ecfp4/train_{i}.csv')\n",
    "    test_preds.to_csv(f'../../../../predictions/hi/drd2/knn_ecfp4/test_{i}.csv')\n"
   ]
  },
  {
   "cell_type": "code",
   "execution_count": null,
   "metadata": {},
   "outputs": [],
   "source": []
  }
 ],
 "metadata": {
  "kernelspec": {
   "display_name": "lohi_benchmark",
   "language": "python",
   "name": "python3"
  },
  "language_info": {
   "codemirror_mode": {
    "name": "ipython",
    "version": 3
   },
   "file_extension": ".py",
   "mimetype": "text/x-python",
   "name": "python",
   "nbconvert_exporter": "python",
   "pygments_lexer": "ipython3",
   "version": "3.10.9"
  },
  "orig_nbformat": 4
 },
 "nbformat": 4,
 "nbformat_minor": 2
}
