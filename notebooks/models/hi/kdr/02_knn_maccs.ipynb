{
 "cells": [
  {
   "cell_type": "code",
   "execution_count": 1,
   "metadata": {},
   "outputs": [],
   "source": [
    "import pandas as pd\n",
    "import numpy as np\n",
    "from rdkit import Chem\n",
    "from rdkit.Chem import MACCSkeys\n",
    "from rdkit.Chem import AllChem\n",
    "\n",
    "from sklearn.neighbors import KNeighborsClassifier\n",
    "from sklearn.model_selection import PredefinedSplit, GridSearchCV"
   ]
  },
  {
   "cell_type": "code",
   "execution_count": 2,
   "metadata": {},
   "outputs": [
    {
     "name": "stderr",
     "output_type": "stream",
     "text": [
      "Skipped loading some Tensorflow models, missing a dependency. No module named 'tensorflow'\n",
      "\u001b[34m\u001b[1mwandb\u001b[0m: \u001b[33mWARNING\u001b[0m W&B installed but not logged in.  Run `wandb login` or set the WANDB_API_KEY env variable.\n",
      "Skipped loading modules with pytorch-geometric dependency, missing a dependency. No module named 'torch_geometric'\n",
      "Skipped loading modules with pytorch-geometric dependency, missing a dependency. cannot import name 'DMPNN' from 'deepchem.models.torch_models' (/home/simon/miniconda3/envs/lohi_benchmark/lib/python3.10/site-packages/deepchem/models/torch_models/__init__.py)\n",
      "Skipped loading some Jax models, missing a dependency. No module named 'jax'\n"
     ]
    }
   ],
   "source": [
    "import sys\n",
    "sys.path.append('../../../../code')\n",
    "\n",
    "from metrics import get_hi_metrics"
   ]
  },
  {
   "cell_type": "code",
   "execution_count": 3,
   "metadata": {},
   "outputs": [
    {
     "data": {
      "text/html": [
       "<div>\n",
       "<style scoped>\n",
       "    .dataframe tbody tr th:only-of-type {\n",
       "        vertical-align: middle;\n",
       "    }\n",
       "\n",
       "    .dataframe tbody tr th {\n",
       "        vertical-align: top;\n",
       "    }\n",
       "\n",
       "    .dataframe thead th {\n",
       "        text-align: right;\n",
       "    }\n",
       "</style>\n",
       "<table border=\"1\" class=\"dataframe\">\n",
       "  <thead>\n",
       "    <tr style=\"text-align: right;\">\n",
       "      <th></th>\n",
       "      <th>Unnamed: 0</th>\n",
       "      <th>smiles</th>\n",
       "      <th>value</th>\n",
       "    </tr>\n",
       "  </thead>\n",
       "  <tbody>\n",
       "    <tr>\n",
       "      <th>0</th>\n",
       "      <td>0</td>\n",
       "      <td>Brc1ccc(-c2nc3ccc(Nc4ccnc5ccccc45)cc3[nH]2)cc1</td>\n",
       "      <td>True</td>\n",
       "    </tr>\n",
       "    <tr>\n",
       "      <th>1</th>\n",
       "      <td>1064</td>\n",
       "      <td>CCc1ccc(-c2nc3ccc(Nc4ccnc5ccccc45)cc3[nH]2)cc1</td>\n",
       "      <td>False</td>\n",
       "    </tr>\n",
       "    <tr>\n",
       "      <th>2</th>\n",
       "      <td>1065</td>\n",
       "      <td>CCc1ccc(-c2nc3ccc(Nc4ncnc5ccccc45)cc3[nH]2)cc1</td>\n",
       "      <td>False</td>\n",
       "    </tr>\n",
       "    <tr>\n",
       "      <th>3</th>\n",
       "      <td>3722</td>\n",
       "      <td>COc1ccccc1-c1nc2ccc(Nc3ccnc4ccccc34)cc2[nH]1</td>\n",
       "      <td>False</td>\n",
       "    </tr>\n",
       "    <tr>\n",
       "      <th>4</th>\n",
       "      <td>4159</td>\n",
       "      <td>Cc1ccc(-c2nc3ccc(Nc4ccnc5ccccc45)cc3[nH]2)cc1</td>\n",
       "      <td>False</td>\n",
       "    </tr>\n",
       "    <tr>\n",
       "      <th>...</th>\n",
       "      <td>...</td>\n",
       "      <td>...</td>\n",
       "      <td>...</td>\n",
       "    </tr>\n",
       "    <tr>\n",
       "      <th>495</th>\n",
       "      <td>454</td>\n",
       "      <td>CC(C)S(=O)(=O)c1ccccc1Nc1nc(Nc2cccc(NC(=O)CN)c...</td>\n",
       "      <td>False</td>\n",
       "    </tr>\n",
       "    <tr>\n",
       "      <th>496</th>\n",
       "      <td>1850</td>\n",
       "      <td>COC(=O)c1cn2ncnc(Oc3ccc4[nH]c(C)cc4c3F)c2c1C</td>\n",
       "      <td>True</td>\n",
       "    </tr>\n",
       "    <tr>\n",
       "      <th>497</th>\n",
       "      <td>4120</td>\n",
       "      <td>Cc1cc2c(F)c(Oc3ncnn4cc(OCCCNS(C)(=O)=O)c(C)c34...</td>\n",
       "      <td>True</td>\n",
       "    </tr>\n",
       "    <tr>\n",
       "      <th>498</th>\n",
       "      <td>2979</td>\n",
       "      <td>COc1cc2c(Oc3ccc(N/C=C4\\C(=O)NC(=O)N(c5ccc(C)cc...</td>\n",
       "      <td>True</td>\n",
       "    </tr>\n",
       "    <tr>\n",
       "      <th>499</th>\n",
       "      <td>2986</td>\n",
       "      <td>COc1cc2c(Oc3ccc(NC(=O)NS(=O)(=O)Cc4ccc(F)cc4)c...</td>\n",
       "      <td>True</td>\n",
       "    </tr>\n",
       "  </tbody>\n",
       "</table>\n",
       "<p>500 rows × 3 columns</p>\n",
       "</div>"
      ],
      "text/plain": [
       "     Unnamed: 0                                             smiles  value\n",
       "0             0     Brc1ccc(-c2nc3ccc(Nc4ccnc5ccccc45)cc3[nH]2)cc1   True\n",
       "1          1064     CCc1ccc(-c2nc3ccc(Nc4ccnc5ccccc45)cc3[nH]2)cc1  False\n",
       "2          1065     CCc1ccc(-c2nc3ccc(Nc4ncnc5ccccc45)cc3[nH]2)cc1  False\n",
       "3          3722       COc1ccccc1-c1nc2ccc(Nc3ccnc4ccccc34)cc2[nH]1  False\n",
       "4          4159      Cc1ccc(-c2nc3ccc(Nc4ccnc5ccccc45)cc3[nH]2)cc1  False\n",
       "..          ...                                                ...    ...\n",
       "495         454  CC(C)S(=O)(=O)c1ccccc1Nc1nc(Nc2cccc(NC(=O)CN)c...  False\n",
       "496        1850       COC(=O)c1cn2ncnc(Oc3ccc4[nH]c(C)cc4c3F)c2c1C   True\n",
       "497        4120  Cc1cc2c(F)c(Oc3ncnn4cc(OCCCNS(C)(=O)=O)c(C)c34...   True\n",
       "498        2979  COc1cc2c(Oc3ccc(N/C=C4\\C(=O)NC(=O)N(c5ccc(C)cc...   True\n",
       "499        2986  COc1cc2c(Oc3ccc(NC(=O)NS(=O)(=O)Cc4ccc(F)cc4)c...   True\n",
       "\n",
       "[500 rows x 3 columns]"
      ]
     },
     "execution_count": 3,
     "metadata": {},
     "output_type": "execute_result"
    }
   ],
   "source": [
    "train = pd.read_csv('../../../../data/hi/kdr/train_1.csv')\n",
    "test = pd.read_csv('../../../../data/hi/kdr/test_1.csv')\n",
    "\n",
    "train"
   ]
  },
  {
   "cell_type": "code",
   "execution_count": 4,
   "metadata": {},
   "outputs": [],
   "source": [
    "from scipy.spatial.distance import jaccard\n",
    "\n",
    "\n",
    "def run_knn_gridsearch_tanimoto(train_fps, test_fps):\n",
    "    split_index = [-1] * len(train_fps) + [0] * len(test_fps)\n",
    "    pds = PredefinedSplit(test_fold = split_index)\n",
    "\n",
    "    X = train_fps + test_fps\n",
    "    y = train['value'].to_list() + test['value'].to_list()\n",
    "\n",
    "    params = {\n",
    "        'n_neighbors': [3, 5, 7, 10, 12, 15],\n",
    "        'weights': ['uniform', 'distance'],\n",
    "    }\n",
    "    knn = KNeighborsClassifier(metric=jaccard)\n",
    "\n",
    "    grid_search = GridSearchCV(knn, params, cv=pds, refit=False, scoring='average_precision', verbose=3)\n",
    "    grid_search.fit(X, y)\n",
    "\n",
    "    best_params = grid_search.best_params_\n",
    "    knn = KNeighborsClassifier(n_neighbors=best_params['n_neighbors'], weights=best_params['weights'], metric=jaccard)\n",
    "    knn.fit(train_fps, train['value'])\n",
    "\n",
    "    train_preds = knn.predict_proba(train_fps)[:, 1]\n",
    "    train_metrics = get_hi_metrics(train, train_preds)\n",
    "\n",
    "    test_preds = knn.predict_proba(test_fps)[:, 1]\n",
    "    test_metrics = get_hi_metrics(test, test_preds)\n",
    "    return train_metrics, test_metrics\n"
   ]
  },
  {
   "cell_type": "code",
   "execution_count": 5,
   "metadata": {},
   "outputs": [
    {
     "name": "stdout",
     "output_type": "stream",
     "text": [
      "Fitting 1 folds for each of 12 candidates, totalling 12 fits\n",
      "[CV 1/1] END ....n_neighbors=3, weights=uniform;, score=0.550 total time=  13.0s\n",
      "[CV 1/1] END ...n_neighbors=3, weights=distance;, score=0.547 total time=  12.2s\n",
      "[CV 1/1] END ....n_neighbors=5, weights=uniform;, score=0.544 total time=  12.4s\n",
      "[CV 1/1] END ...n_neighbors=5, weights=distance;, score=0.537 total time=  12.3s\n",
      "[CV 1/1] END ....n_neighbors=7, weights=uniform;, score=0.542 total time=  11.7s\n",
      "[CV 1/1] END ...n_neighbors=7, weights=distance;, score=0.536 total time=  11.9s\n",
      "[CV 1/1] END ...n_neighbors=10, weights=uniform;, score=0.538 total time=  12.5s\n",
      "[CV 1/1] END ..n_neighbors=10, weights=distance;, score=0.532 total time=  12.7s\n",
      "[CV 1/1] END ...n_neighbors=12, weights=uniform;, score=0.533 total time=  11.8s\n",
      "[CV 1/1] END ..n_neighbors=12, weights=distance;, score=0.526 total time=   9.6s\n",
      "[CV 1/1] END ...n_neighbors=15, weights=uniform;, score=0.528 total time=   9.7s\n",
      "[CV 1/1] END ..n_neighbors=15, weights=distance;, score=0.522 total time=   9.3s\n",
      "{'roc_auc': 0.982294633965585, 'bedroc': 1.0000000000000018, 'prc_auc': 0.9912924154652325}\n",
      "{'roc_auc': 0.4371330615152691, 'bedroc': 0.8797346005207821, 'prc_auc': 0.5504805528846225}\n"
     ]
    }
   ],
   "source": [
    "train_mols = [Chem.MolFromSmiles(x) for x in train['smiles']]\n",
    "train_maccs_fps = [Chem.MACCSkeys.GenMACCSKeys(x) for x in train_mols]\n",
    "\n",
    "test_mols = [Chem.MolFromSmiles(x) for x in test['smiles']]\n",
    "test_maccs_fps = [Chem.MACCSkeys.GenMACCSKeys(x) for x in test_mols]\n",
    "\n",
    "train_metrics, test_metrics = run_knn_gridsearch_tanimoto(train_maccs_fps, test_maccs_fps)\n",
    "print(train_metrics)\n",
    "print(test_metrics)"
   ]
  },
  {
   "attachments": {},
   "cell_type": "markdown",
   "metadata": {},
   "source": [
    "# Final Evaluation"
   ]
  },
  {
   "cell_type": "code",
   "execution_count": 6,
   "metadata": {},
   "outputs": [],
   "source": [
    "def fit_predict(train, test):\n",
    "    train_mols = [Chem.MolFromSmiles(x) for x in train['smiles']]\n",
    "    train_morgan_fps = [Chem.MACCSkeys.GenMACCSKeys(x) for x in train_mols]\n",
    "\n",
    "    test_mols = [Chem.MolFromSmiles(x) for x in test['smiles']]\n",
    "    test_morgan_fps = [Chem.MACCSkeys.GenMACCSKeys(x) for x in test_mols]\n",
    "\n",
    "    knn = KNeighborsClassifier(n_neighbors=3, weights='distance', metric=jaccard)\n",
    "    knn.fit(train_morgan_fps, train['value'])\n",
    "\n",
    "    train_result = train.copy()\n",
    "    train_result['preds'] = knn.predict_proba(train_morgan_fps)[:, 1]\n",
    "\n",
    "    test_result = test.copy()\n",
    "    test_result['preds'] = knn.predict_proba(test_morgan_fps)[:, 1]\n",
    "\n",
    "    return train_result, test_result\n"
   ]
  },
  {
   "cell_type": "code",
   "execution_count": 7,
   "metadata": {},
   "outputs": [],
   "source": [
    "for i in [1, 2, 3]:\n",
    "    train = pd.read_csv(f'../../../../data/hi/kdr/train_{i}.csv')\n",
    "    test = pd.read_csv(f'../../../../data/hi/kdr/test_{i}.csv')\n",
    "\n",
    "    train_preds, test_preds = fit_predict(train, test)\n",
    "    train_preds.to_csv(f'../../../../predictions/hi/kdr/knn_maccs/train_{i}.csv')\n",
    "    test_preds.to_csv(f'../../../../predictions/hi/kdr/knn_maccs/test_{i}.csv')\n"
   ]
  },
  {
   "cell_type": "code",
   "execution_count": null,
   "metadata": {},
   "outputs": [],
   "source": []
  }
 ],
 "metadata": {
  "kernelspec": {
   "display_name": "lohi_benchmark",
   "language": "python",
   "name": "python3"
  },
  "language_info": {
   "codemirror_mode": {
    "name": "ipython",
    "version": 3
   },
   "file_extension": ".py",
   "mimetype": "text/x-python",
   "name": "python",
   "nbconvert_exporter": "python",
   "pygments_lexer": "ipython3",
   "version": "3.10.12"
  },
  "orig_nbformat": 4
 },
 "nbformat": 4,
 "nbformat_minor": 2
}
