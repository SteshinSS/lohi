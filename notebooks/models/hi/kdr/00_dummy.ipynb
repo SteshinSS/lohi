{
 "cells": [
  {
   "cell_type": "code",
   "execution_count": 4,
   "metadata": {},
   "outputs": [],
   "source": [
    "import pandas as pd\n",
    "import numpy as np\n",
    "from sklearn.dummy import DummyClassifier"
   ]
  },
  {
   "cell_type": "code",
   "execution_count": 5,
   "metadata": {},
   "outputs": [],
   "source": [
    "import sys\n",
    "sys.path.append('../../../../code')\n",
    "\n",
    "from metrics import get_hi_metrics"
   ]
  },
  {
   "cell_type": "code",
   "execution_count": 6,
   "metadata": {},
   "outputs": [],
   "source": [
    "def fit_predict(train, test):\n",
    "    model = DummyClassifier()\n",
    "    model.fit(None, train['value'])\n",
    "\n",
    "    train_preds = model.predict_log_proba(train)[:, 1]\n",
    "    train_with_preds = train.copy()\n",
    "    train_with_preds['preds'] = train_preds\n",
    "\n",
    "    test_preds = model.predict_log_proba(test)[:, 1]\n",
    "    test_with_preds = test.copy()\n",
    "    test_with_preds['preds'] = test_preds\n",
    "    return train_with_preds, test_with_preds"
   ]
  },
  {
   "cell_type": "code",
   "execution_count": 7,
   "metadata": {},
   "outputs": [
    {
     "name": "stdout",
     "output_type": "stream",
     "text": [
      "Split 1\n",
      "Train metrics:\n",
      "{'roc_auc': 0.5, 'bedroc': 0.2878604612754006, 'prc_auc': 0.778}\n",
      "Test metrics:\n",
      "{'roc_auc': 0.5, 'bedroc': 0.7940804329824662, 'prc_auc': 0.584403080872914}\n",
      "\n",
      "Split 2\n",
      "Train metrics:\n",
      "{'roc_auc': 0.5, 'bedroc': 0.15319447193577282, 'prc_auc': 0.108}\n",
      "Test metrics:\n",
      "{'roc_auc': 0.5, 'bedroc': 0.7943221142605781, 'prc_auc': 0.71904}\n",
      "\n",
      "Split 3\n",
      "Train metrics:\n",
      "{'roc_auc': 0.5, 'bedroc': 0.7538766210701365, 'prc_auc': 0.874}\n",
      "Test metrics:\n",
      "{'roc_auc': 0.5, 'bedroc': 0.14704247540715984, 'prc_auc': 0.524288840262582}\n",
      "\n"
     ]
    }
   ],
   "source": [
    "for i in [1, 2, 3]:\n",
    "    train = pd.read_csv(f'../../../../data/hi/kdr/train_{i}.csv', index_col=0)\n",
    "    test = pd.read_csv(f'../../../../data/hi/kdr/test_{i}.csv', index_col=0)\n",
    "    train_with_preds, test_with_preds = fit_predict(train, test)\n",
    "    \n",
    "    print(f'Split {i}')\n",
    "    print('Train metrics:')\n",
    "    print(get_hi_metrics(train_with_preds, train_with_preds['preds']))\n",
    "    print('Test metrics:')\n",
    "    print(get_hi_metrics(test_with_preds, test_with_preds['preds']))\n",
    "    print()\n",
    "\n",
    "    train_with_preds.to_csv(f'../../../../predictions/hi/kdr/dummy/train_{i}.csv')\n",
    "    test_with_preds.to_csv(f'../../../../predictions/hi/kdr/dummy/test_{i}.csv')\n"
   ]
  },
  {
   "cell_type": "code",
   "execution_count": null,
   "metadata": {},
   "outputs": [],
   "source": []
  }
 ],
 "metadata": {
  "kernelspec": {
   "display_name": "lohi_benchmark",
   "language": "python",
   "name": "python3"
  },
  "language_info": {
   "codemirror_mode": {
    "name": "ipython",
    "version": 3
   },
   "file_extension": ".py",
   "mimetype": "text/x-python",
   "name": "python",
   "nbconvert_exporter": "python",
   "pygments_lexer": "ipython3",
   "version": "3.10.12"
  },
  "orig_nbformat": 4
 },
 "nbformat": 4,
 "nbformat_minor": 2
}
