{
 "cells": [
  {
   "cell_type": "code",
   "execution_count": 1,
   "metadata": {},
   "outputs": [
    {
     "name": "stderr",
     "output_type": "stream",
     "text": [
      "Skipped loading some Tensorflow models, missing a dependency. No module named 'tensorflow'\n",
      "Skipped loading modules with pytorch-lightning dependency, missing a dependency. No module named 'pytorch_lightning'\n",
      "Skipped loading some Jax models, missing a dependency. No module named 'jax'\n"
     ]
    }
   ],
   "source": [
    "import pandas as pd\n",
    "import numpy as np\n",
    "import matplotlib.pyplot as plt\n",
    "from rdkit import Chem\n",
    "import deepchem as dc\n",
    "from tqdm import tqdm"
   ]
  },
  {
   "cell_type": "code",
   "execution_count": 2,
   "metadata": {},
   "outputs": [],
   "source": [
    "import sys\n",
    "sys.path.append('../../code')\n",
    "\n",
    "from splits import get_nearest_mols"
   ]
  },
  {
   "attachments": {},
   "cell_type": "markdown",
   "metadata": {},
   "source": [
    "# MolData"
   ]
  },
  {
   "cell_type": "code",
   "execution_count": 3,
   "metadata": {},
   "outputs": [
    {
     "name": "stderr",
     "output_type": "stream",
     "text": [
      "/tmp/ipykernel_1580825/2157940996.py:5: DtypeWarning: Columns (1) have mixed types. Specify dtype option on import or set low_memory=False.\n",
      "  data = pd.read_csv('../../../Transilico-MolData-7300272/Data/all_molecular_data.csv')\n"
     ]
    },
    {
     "data": {
      "text/html": [
       "<div>\n",
       "<style scoped>\n",
       "    .dataframe tbody tr th:only-of-type {\n",
       "        vertical-align: middle;\n",
       "    }\n",
       "\n",
       "    .dataframe tbody tr th {\n",
       "        vertical-align: top;\n",
       "    }\n",
       "\n",
       "    .dataframe thead th {\n",
       "        text-align: right;\n",
       "    }\n",
       "</style>\n",
       "<table border=\"1\" class=\"dataframe\">\n",
       "  <thead>\n",
       "    <tr style=\"text-align: right;\">\n",
       "      <th></th>\n",
       "      <th>smiles</th>\n",
       "      <th>PUBCHEM_CID</th>\n",
       "      <th>activity_1554</th>\n",
       "      <th>activity_2732</th>\n",
       "      <th>activity_1085</th>\n",
       "      <th>activity_1236</th>\n",
       "      <th>activity_1274</th>\n",
       "      <th>activity_781</th>\n",
       "      <th>activity_422</th>\n",
       "      <th>activity_1224905</th>\n",
       "      <th>...</th>\n",
       "      <th>activity_743199</th>\n",
       "      <th>activity_743219</th>\n",
       "      <th>activity_743226</th>\n",
       "      <th>activity_743227</th>\n",
       "      <th>activity_743228</th>\n",
       "      <th>activity_743239</th>\n",
       "      <th>activity_743240</th>\n",
       "      <th>activity_743241</th>\n",
       "      <th>activity_743242</th>\n",
       "      <th>split</th>\n",
       "    </tr>\n",
       "  </thead>\n",
       "  <tbody>\n",
       "    <tr>\n",
       "      <th>0</th>\n",
       "      <td>Cc1ccccc1Cn1c(=O)n(-c2ccccc2)c(=O)c2ccc(C(=O)N...</td>\n",
       "      <td>15944820</td>\n",
       "      <td>0.0</td>\n",
       "      <td>1.0</td>\n",
       "      <td>0.0</td>\n",
       "      <td>0.0</td>\n",
       "      <td>0.0</td>\n",
       "      <td>0.0</td>\n",
       "      <td>NaN</td>\n",
       "      <td>NaN</td>\n",
       "      <td>...</td>\n",
       "      <td>NaN</td>\n",
       "      <td>NaN</td>\n",
       "      <td>NaN</td>\n",
       "      <td>NaN</td>\n",
       "      <td>NaN</td>\n",
       "      <td>NaN</td>\n",
       "      <td>NaN</td>\n",
       "      <td>NaN</td>\n",
       "      <td>NaN</td>\n",
       "      <td>train</td>\n",
       "    </tr>\n",
       "    <tr>\n",
       "      <th>1</th>\n",
       "      <td>CCN(CC)S(=O)(=O)c1csc(C(=O)Nc2ccccn2)c1</td>\n",
       "      <td>648487</td>\n",
       "      <td>0.0</td>\n",
       "      <td>0.0</td>\n",
       "      <td>0.0</td>\n",
       "      <td>0.0</td>\n",
       "      <td>0.0</td>\n",
       "      <td>0.0</td>\n",
       "      <td>0.0</td>\n",
       "      <td>NaN</td>\n",
       "      <td>...</td>\n",
       "      <td>NaN</td>\n",
       "      <td>NaN</td>\n",
       "      <td>NaN</td>\n",
       "      <td>NaN</td>\n",
       "      <td>NaN</td>\n",
       "      <td>NaN</td>\n",
       "      <td>NaN</td>\n",
       "      <td>NaN</td>\n",
       "      <td>NaN</td>\n",
       "      <td>train</td>\n",
       "    </tr>\n",
       "    <tr>\n",
       "      <th>2</th>\n",
       "      <td>COc1ccc(/C=C(\\NC(=O)c2ccc(Cl)cc2)C(=O)NCCCN2CC...</td>\n",
       "      <td>2891740</td>\n",
       "      <td>0.0</td>\n",
       "      <td>NaN</td>\n",
       "      <td>NaN</td>\n",
       "      <td>NaN</td>\n",
       "      <td>NaN</td>\n",
       "      <td>NaN</td>\n",
       "      <td>NaN</td>\n",
       "      <td>NaN</td>\n",
       "      <td>...</td>\n",
       "      <td>NaN</td>\n",
       "      <td>NaN</td>\n",
       "      <td>NaN</td>\n",
       "      <td>NaN</td>\n",
       "      <td>NaN</td>\n",
       "      <td>NaN</td>\n",
       "      <td>NaN</td>\n",
       "      <td>NaN</td>\n",
       "      <td>NaN</td>\n",
       "      <td>train</td>\n",
       "    </tr>\n",
       "    <tr>\n",
       "      <th>3</th>\n",
       "      <td>COc1cccc(OCc2nnc(SCC(=O)N3c4ccccc4Sc4ccc(Cl)cc...</td>\n",
       "      <td>1134840</td>\n",
       "      <td>0.0</td>\n",
       "      <td>0.0</td>\n",
       "      <td>0.0</td>\n",
       "      <td>0.0</td>\n",
       "      <td>0.0</td>\n",
       "      <td>0.0</td>\n",
       "      <td>NaN</td>\n",
       "      <td>NaN</td>\n",
       "      <td>...</td>\n",
       "      <td>NaN</td>\n",
       "      <td>NaN</td>\n",
       "      <td>NaN</td>\n",
       "      <td>NaN</td>\n",
       "      <td>NaN</td>\n",
       "      <td>NaN</td>\n",
       "      <td>NaN</td>\n",
       "      <td>NaN</td>\n",
       "      <td>NaN</td>\n",
       "      <td>train</td>\n",
       "    </tr>\n",
       "    <tr>\n",
       "      <th>4</th>\n",
       "      <td>O=C(Oc1ccc(N(Cc2cccs2)C2=NS(=O)(=O)c3ccccc32)c...</td>\n",
       "      <td>990838</td>\n",
       "      <td>0.0</td>\n",
       "      <td>0.0</td>\n",
       "      <td>0.0</td>\n",
       "      <td>0.0</td>\n",
       "      <td>0.0</td>\n",
       "      <td>0.0</td>\n",
       "      <td>NaN</td>\n",
       "      <td>NaN</td>\n",
       "      <td>...</td>\n",
       "      <td>NaN</td>\n",
       "      <td>NaN</td>\n",
       "      <td>NaN</td>\n",
       "      <td>NaN</td>\n",
       "      <td>NaN</td>\n",
       "      <td>NaN</td>\n",
       "      <td>NaN</td>\n",
       "      <td>NaN</td>\n",
       "      <td>NaN</td>\n",
       "      <td>train</td>\n",
       "    </tr>\n",
       "    <tr>\n",
       "      <th>...</th>\n",
       "      <td>...</td>\n",
       "      <td>...</td>\n",
       "      <td>...</td>\n",
       "      <td>...</td>\n",
       "      <td>...</td>\n",
       "      <td>...</td>\n",
       "      <td>...</td>\n",
       "      <td>...</td>\n",
       "      <td>...</td>\n",
       "      <td>...</td>\n",
       "      <td>...</td>\n",
       "      <td>...</td>\n",
       "      <td>...</td>\n",
       "      <td>...</td>\n",
       "      <td>...</td>\n",
       "      <td>...</td>\n",
       "      <td>...</td>\n",
       "      <td>...</td>\n",
       "      <td>...</td>\n",
       "      <td>...</td>\n",
       "      <td>...</td>\n",
       "    </tr>\n",
       "    <tr>\n",
       "      <th>1429984</th>\n",
       "      <td>CO/N=C1/C[C@]2(C[C@@H]3C[C@@H](C/C=C(\\C)C[C@@H...</td>\n",
       "      <td>44134376</td>\n",
       "      <td>NaN</td>\n",
       "      <td>NaN</td>\n",
       "      <td>NaN</td>\n",
       "      <td>NaN</td>\n",
       "      <td>NaN</td>\n",
       "      <td>NaN</td>\n",
       "      <td>NaN</td>\n",
       "      <td>NaN</td>\n",
       "      <td>...</td>\n",
       "      <td>NaN</td>\n",
       "      <td>NaN</td>\n",
       "      <td>NaN</td>\n",
       "      <td>NaN</td>\n",
       "      <td>NaN</td>\n",
       "      <td>NaN</td>\n",
       "      <td>NaN</td>\n",
       "      <td>NaN</td>\n",
       "      <td>NaN</td>\n",
       "      <td>train</td>\n",
       "    </tr>\n",
       "    <tr>\n",
       "      <th>1429985</th>\n",
       "      <td>CO/N=C(/C(=O)OC)c1ccccc1CO/N=C(\\C)c1cccc(C(F)(...</td>\n",
       "      <td>11664966</td>\n",
       "      <td>NaN</td>\n",
       "      <td>NaN</td>\n",
       "      <td>NaN</td>\n",
       "      <td>NaN</td>\n",
       "      <td>NaN</td>\n",
       "      <td>NaN</td>\n",
       "      <td>NaN</td>\n",
       "      <td>NaN</td>\n",
       "      <td>...</td>\n",
       "      <td>NaN</td>\n",
       "      <td>NaN</td>\n",
       "      <td>NaN</td>\n",
       "      <td>NaN</td>\n",
       "      <td>NaN</td>\n",
       "      <td>NaN</td>\n",
       "      <td>NaN</td>\n",
       "      <td>NaN</td>\n",
       "      <td>NaN</td>\n",
       "      <td>train</td>\n",
       "    </tr>\n",
       "    <tr>\n",
       "      <th>1429986</th>\n",
       "      <td>CCOP(=O)(OCC)SCS(=O)(=O)C(C)(C)C</td>\n",
       "      <td>14671598</td>\n",
       "      <td>NaN</td>\n",
       "      <td>NaN</td>\n",
       "      <td>NaN</td>\n",
       "      <td>NaN</td>\n",
       "      <td>NaN</td>\n",
       "      <td>NaN</td>\n",
       "      <td>NaN</td>\n",
       "      <td>NaN</td>\n",
       "      <td>...</td>\n",
       "      <td>NaN</td>\n",
       "      <td>NaN</td>\n",
       "      <td>NaN</td>\n",
       "      <td>NaN</td>\n",
       "      <td>NaN</td>\n",
       "      <td>NaN</td>\n",
       "      <td>NaN</td>\n",
       "      <td>NaN</td>\n",
       "      <td>NaN</td>\n",
       "      <td>train</td>\n",
       "    </tr>\n",
       "    <tr>\n",
       "      <th>1429987</th>\n",
       "      <td>CCCC[Sn](CCCC)CCCC</td>\n",
       "      <td>3032732</td>\n",
       "      <td>NaN</td>\n",
       "      <td>NaN</td>\n",
       "      <td>NaN</td>\n",
       "      <td>NaN</td>\n",
       "      <td>NaN</td>\n",
       "      <td>NaN</td>\n",
       "      <td>NaN</td>\n",
       "      <td>NaN</td>\n",
       "      <td>...</td>\n",
       "      <td>NaN</td>\n",
       "      <td>NaN</td>\n",
       "      <td>NaN</td>\n",
       "      <td>NaN</td>\n",
       "      <td>NaN</td>\n",
       "      <td>NaN</td>\n",
       "      <td>NaN</td>\n",
       "      <td>NaN</td>\n",
       "      <td>NaN</td>\n",
       "      <td>train</td>\n",
       "    </tr>\n",
       "    <tr>\n",
       "      <th>1429988</th>\n",
       "      <td>O=S(=O)([O-])c1ccc(N=Nc2cc(S(=O)(=O)[O-])c3ccc...</td>\n",
       "      <td>19118</td>\n",
       "      <td>NaN</td>\n",
       "      <td>NaN</td>\n",
       "      <td>NaN</td>\n",
       "      <td>NaN</td>\n",
       "      <td>NaN</td>\n",
       "      <td>NaN</td>\n",
       "      <td>NaN</td>\n",
       "      <td>NaN</td>\n",
       "      <td>...</td>\n",
       "      <td>NaN</td>\n",
       "      <td>NaN</td>\n",
       "      <td>NaN</td>\n",
       "      <td>NaN</td>\n",
       "      <td>NaN</td>\n",
       "      <td>NaN</td>\n",
       "      <td>NaN</td>\n",
       "      <td>NaN</td>\n",
       "      <td>NaN</td>\n",
       "      <td>train</td>\n",
       "    </tr>\n",
       "  </tbody>\n",
       "</table>\n",
       "<p>1429989 rows × 603 columns</p>\n",
       "</div>"
      ],
      "text/plain": [
       "                                                    smiles PUBCHEM_CID  \\\n",
       "0        Cc1ccccc1Cn1c(=O)n(-c2ccccc2)c(=O)c2ccc(C(=O)N...    15944820   \n",
       "1                  CCN(CC)S(=O)(=O)c1csc(C(=O)Nc2ccccn2)c1      648487   \n",
       "2        COc1ccc(/C=C(\\NC(=O)c2ccc(Cl)cc2)C(=O)NCCCN2CC...     2891740   \n",
       "3        COc1cccc(OCc2nnc(SCC(=O)N3c4ccccc4Sc4ccc(Cl)cc...     1134840   \n",
       "4        O=C(Oc1ccc(N(Cc2cccs2)C2=NS(=O)(=O)c3ccccc32)c...      990838   \n",
       "...                                                    ...         ...   \n",
       "1429984  CO/N=C1/C[C@]2(C[C@@H]3C[C@@H](C/C=C(\\C)C[C@@H...    44134376   \n",
       "1429985  CO/N=C(/C(=O)OC)c1ccccc1CO/N=C(\\C)c1cccc(C(F)(...    11664966   \n",
       "1429986                   CCOP(=O)(OCC)SCS(=O)(=O)C(C)(C)C    14671598   \n",
       "1429987                                 CCCC[Sn](CCCC)CCCC     3032732   \n",
       "1429988  O=S(=O)([O-])c1ccc(N=Nc2cc(S(=O)(=O)[O-])c3ccc...       19118   \n",
       "\n",
       "         activity_1554  activity_2732  activity_1085  activity_1236  \\\n",
       "0                  0.0            1.0            0.0            0.0   \n",
       "1                  0.0            0.0            0.0            0.0   \n",
       "2                  0.0            NaN            NaN            NaN   \n",
       "3                  0.0            0.0            0.0            0.0   \n",
       "4                  0.0            0.0            0.0            0.0   \n",
       "...                ...            ...            ...            ...   \n",
       "1429984            NaN            NaN            NaN            NaN   \n",
       "1429985            NaN            NaN            NaN            NaN   \n",
       "1429986            NaN            NaN            NaN            NaN   \n",
       "1429987            NaN            NaN            NaN            NaN   \n",
       "1429988            NaN            NaN            NaN            NaN   \n",
       "\n",
       "         activity_1274  activity_781  activity_422  activity_1224905  ...  \\\n",
       "0                  0.0           0.0           NaN               NaN  ...   \n",
       "1                  0.0           0.0           0.0               NaN  ...   \n",
       "2                  NaN           NaN           NaN               NaN  ...   \n",
       "3                  0.0           0.0           NaN               NaN  ...   \n",
       "4                  0.0           0.0           NaN               NaN  ...   \n",
       "...                ...           ...           ...               ...  ...   \n",
       "1429984            NaN           NaN           NaN               NaN  ...   \n",
       "1429985            NaN           NaN           NaN               NaN  ...   \n",
       "1429986            NaN           NaN           NaN               NaN  ...   \n",
       "1429987            NaN           NaN           NaN               NaN  ...   \n",
       "1429988            NaN           NaN           NaN               NaN  ...   \n",
       "\n",
       "         activity_743199  activity_743219  activity_743226  activity_743227  \\\n",
       "0                    NaN              NaN              NaN              NaN   \n",
       "1                    NaN              NaN              NaN              NaN   \n",
       "2                    NaN              NaN              NaN              NaN   \n",
       "3                    NaN              NaN              NaN              NaN   \n",
       "4                    NaN              NaN              NaN              NaN   \n",
       "...                  ...              ...              ...              ...   \n",
       "1429984              NaN              NaN              NaN              NaN   \n",
       "1429985              NaN              NaN              NaN              NaN   \n",
       "1429986              NaN              NaN              NaN              NaN   \n",
       "1429987              NaN              NaN              NaN              NaN   \n",
       "1429988              NaN              NaN              NaN              NaN   \n",
       "\n",
       "         activity_743228  activity_743239  activity_743240  activity_743241  \\\n",
       "0                    NaN              NaN              NaN              NaN   \n",
       "1                    NaN              NaN              NaN              NaN   \n",
       "2                    NaN              NaN              NaN              NaN   \n",
       "3                    NaN              NaN              NaN              NaN   \n",
       "4                    NaN              NaN              NaN              NaN   \n",
       "...                  ...              ...              ...              ...   \n",
       "1429984              NaN              NaN              NaN              NaN   \n",
       "1429985              NaN              NaN              NaN              NaN   \n",
       "1429986              NaN              NaN              NaN              NaN   \n",
       "1429987              NaN              NaN              NaN              NaN   \n",
       "1429988              NaN              NaN              NaN              NaN   \n",
       "\n",
       "         activity_743242  split  \n",
       "0                    NaN  train  \n",
       "1                    NaN  train  \n",
       "2                    NaN  train  \n",
       "3                    NaN  train  \n",
       "4                    NaN  train  \n",
       "...                  ...    ...  \n",
       "1429984              NaN  train  \n",
       "1429985              NaN  train  \n",
       "1429986              NaN  train  \n",
       "1429987              NaN  train  \n",
       "1429988              NaN  train  \n",
       "\n",
       "[1429989 rows x 603 columns]"
      ]
     },
     "execution_count": 3,
     "metadata": {},
     "output_type": "execute_result"
    }
   ],
   "source": [
    "# Note: this dataset is too large to be loaded into the repository.\n",
    "# You can find the dataset in the paper: https://jcheminf.biomedcentral.com/articles/10.1186/s13321-022-00590-y\n",
    "# Or at the official Zenodo: https://zenodo.org/record/6021605\n",
    "\n",
    "data = pd.read_csv('../../../Transilico-MolData-7300272/Data/all_molecular_data.csv') \n",
    "data"
   ]
  },
  {
   "cell_type": "code",
   "execution_count": 4,
   "metadata": {},
   "outputs": [
    {
     "data": {
      "text/plain": [
       "0.0    302757\n",
       "1.0       516\n",
       "Name: activity_1554, dtype: int64"
      ]
     },
     "execution_count": 4,
     "metadata": {},
     "output_type": "execute_result"
    }
   ],
   "source": [
    "data['activity_1554'].value_counts()"
   ]
  },
  {
   "cell_type": "code",
   "execution_count": 5,
   "metadata": {},
   "outputs": [
    {
     "data": {
      "text/plain": [
       "train         1143981\n",
       "test           143004\n",
       "validation     143004\n",
       "Name: split, dtype: int64"
      ]
     },
     "execution_count": 5,
     "metadata": {},
     "output_type": "execute_result"
    }
   ],
   "source": [
    "data['split'].value_counts()"
   ]
  },
  {
   "cell_type": "code",
   "execution_count": 6,
   "metadata": {},
   "outputs": [],
   "source": [
    "train_smiles = data[data['split'] == 'train']['smiles'][:30000]\n",
    "test_smiles = data[data['split'] == 'test']['smiles'][:30000]"
   ]
  },
  {
   "cell_type": "code",
   "execution_count": 7,
   "metadata": {},
   "outputs": [],
   "source": [
    "train_smiles = train_smiles.to_list()\n",
    "test_smiles = test_smiles.to_list()"
   ]
  },
  {
   "cell_type": "code",
   "execution_count": 8,
   "metadata": {},
   "outputs": [],
   "source": [
    "nearest_dist, nearest_idx = get_nearest_mols(test_smiles, train_smiles, return_idx=True)"
   ]
  },
  {
   "cell_type": "code",
   "execution_count": 9,
   "metadata": {},
   "outputs": [
    {
     "data": {
      "text/plain": [
       "Text(0.5, 1.0, 'The nearest distance between train and test')"
      ]
     },
     "execution_count": 9,
     "metadata": {},
     "output_type": "execute_result"
    },
    {
     "data": {
      "image/png": "[encoded data removed]",
      "text/plain": [
       "<Figure size 640x480 with 1 Axes>"
      ]
     },
     "metadata": {},
     "output_type": "display_data"
    }
   ],
   "source": [
    "plt.hist(nearest_dist, bins=50)\n",
    "plt.title('The nearest distance between train and test')"
   ]
  },
  {
   "cell_type": "code",
   "execution_count": 10,
   "metadata": {},
   "outputs": [
    {
     "data": {
      "text/plain": [
       "0.8753"
      ]
     },
     "execution_count": 10,
     "metadata": {},
     "output_type": "execute_result"
    }
   ],
   "source": [
    "(np.array(nearest_dist) > 0.4).mean()"
   ]
  },
  {
   "cell_type": "code",
   "execution_count": 11,
   "metadata": {},
   "outputs": [
    {
     "data": {
      "text/plain": [
       "[608,\n",
       " 2294,\n",
       " 3399,\n",
       " 3621,\n",
       " 5247,\n",
       " 7234,\n",
       " 7290,\n",
       " 8210,\n",
       " 8936,\n",
       " 8962,\n",
       " 9658,\n",
       " 10539,\n",
       " 10578,\n",
       " 10964,\n",
       " 11356,\n",
       " 12245,\n",
       " 12664,\n",
       " 13032,\n",
       " 13117,\n",
       " 13341,\n",
       " 14591,\n",
       " 15143,\n",
       " 15195,\n",
       " 18707,\n",
       " 21844,\n",
       " 24095,\n",
       " 24114,\n",
       " 24453,\n",
       " 27774,\n",
       " 28325,\n",
       " 29747]"
      ]
     },
     "execution_count": 11,
     "metadata": {},
     "output_type": "execute_result"
    }
   ],
   "source": [
    "similar_idx = []\n",
    "for i, sim in enumerate(nearest_dist):\n",
    "    if sim > 0.99:\n",
    "        similar_idx.append(i)\n",
    "similar_idx"
   ]
  },
  {
   "cell_type": "code",
   "execution_count": 12,
   "metadata": {},
   "outputs": [
    {
     "data": {
      "image/png": "[encoded data removed]",
      "text/plain": [
       "<IPython.core.display.Image object>"
      ]
     },
     "execution_count": 12,
     "metadata": {},
     "output_type": "execute_result"
    }
   ],
   "source": [
    "# Looking for the most similar molecules\n",
    "test_idx = similar_idx[5]\n",
    "train_idx = nearest_idx[test_idx]\n",
    "\n",
    "train_similar = train_smiles[train_idx]\n",
    "test_similar = test_smiles[test_idx]\n",
    "\n",
    "from rdkit import Chem\n",
    "from rdkit.Chem import Draw\n",
    "\n",
    "def draw_molecules(train_smiles, test_smiles):\n",
    "    # Convert SMILES to RDKit molecule objects\n",
    "    train_mol = Chem.MolFromSmiles(train_smiles)\n",
    "    test_mol = Chem.MolFromSmiles(test_smiles)\n",
    "\n",
    "    # Check if the molecules were created successfully\n",
    "    if train_mol is None or test_mol is None:\n",
    "        print(\"One or both of the provided SMILES strings are invalid.\")\n",
    "        return\n",
    "\n",
    "    # Create a list of the molecule objects\n",
    "    mols = [train_mol, test_mol]\n",
    "    labels = ['train', 'test']\n",
    "\n",
    "    # Draw the molecules in a 1x2 grid\n",
    "    img = Draw.MolsToGridImage(mols, molsPerRow=2, subImgSize=(500, 500), legends=labels)\n",
    "\n",
    "    # Display the image\n",
    "    return img\n",
    "\n",
    "draw_molecules(train_similar, test_similar)"
   ]
  },
  {
   "cell_type": "code",
   "execution_count": 13,
   "metadata": {},
   "outputs": [
    {
     "data": {
      "image/png": "[encoded data removed]",
      "text/plain": [
       "<rdkit.Chem.rdchem.Mol at 0x7f6eaf8ed850>"
      ]
     },
     "execution_count": 13,
     "metadata": {},
     "output_type": "execute_result"
    }
   ],
   "source": [
    "Chem.MolFromSmiles(train_similar)"
   ]
  },
  {
   "cell_type": "code",
   "execution_count": 14,
   "metadata": {},
   "outputs": [
    {
     "data": {
      "image/png": "[encoded data removed]",
      "text/plain": [
       "<rdkit.Chem.rdchem.Mol at 0x7f6eaf8eee30>"
      ]
     },
     "execution_count": 14,
     "metadata": {},
     "output_type": "execute_result"
    }
   ],
   "source": [
    "Chem.MolFromSmiles(test_similar)"
   ]
  },
  {
   "cell_type": "code",
   "execution_count": null,
   "metadata": {},
   "outputs": [],
   "source": []
  }
 ],
 "metadata": {
  "kernelspec": {
   "display_name": "lohi_benchmark",
   "language": "python",
   "name": "python3"
  },
  "language_info": {
   "codemirror_mode": {
    "name": "ipython",
    "version": 3
   },
   "file_extension": ".py",
   "mimetype": "text/x-python",
   "name": "python",
   "nbconvert_exporter": "python",
   "pygments_lexer": "ipython3",
   "version": "3.10.9"
  },
  "orig_nbformat": 4
 },
 "nbformat": 4,
 "nbformat_minor": 2
}
