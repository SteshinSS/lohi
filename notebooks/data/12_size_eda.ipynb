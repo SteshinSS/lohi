{
 "cells": [
  {
   "cell_type": "code",
   "execution_count": 1,
   "metadata": {},
   "outputs": [],
   "source": [
    "import pandas as pd"
   ]
  },
  {
   "cell_type": "code",
   "execution_count": 2,
   "metadata": {},
   "outputs": [
    {
     "name": "stdout",
     "output_type": "stream",
     "text": [
      "train_1.csv 2385\n",
      "train_2.csv 2381\n",
      "train_3.csv 2384\n",
      "test_1.csv 1190\n",
      "test_2.csv 1194\n",
      "test_3.csv 1191\n"
     ]
    }
   ],
   "source": [
    "files = [\n",
    "    'train_1.csv',\n",
    "    'train_2.csv',\n",
    "    'train_3.csv',\n",
    "    'test_1.csv',\n",
    "    'test_2.csv',\n",
    "    'test_3.csv',\n",
    "]\n",
    "\n",
    "for file in files:\n",
    "    data = pd.read_csv('../../data/hi/drd2/' + file)\n",
    "    print(file, len(data))"
   ]
  },
  {
   "cell_type": "code",
   "execution_count": 3,
   "metadata": {},
   "outputs": [
    {
     "name": "stdout",
     "output_type": "stream",
     "text": [
      "train_1.csv 15696\n",
      "train_2.csv 15695\n",
      "train_3.csv 15695\n",
      "test_1.csv 7847\n",
      "test_2.csv 7848\n",
      "test_3.csv 7848\n"
     ]
    }
   ],
   "source": [
    "for file in files:\n",
    "    data = pd.read_csv('../../data/hi/hiv/' + file)\n",
    "    print(file, len(data))"
   ]
  },
  {
   "cell_type": "code",
   "execution_count": 4,
   "metadata": {},
   "outputs": [
    {
     "name": "stdout",
     "output_type": "stream",
     "text": [
      "train_1.csv 2206\n",
      "train_2.csv 2128\n",
      "train_3.csv 2257\n",
      "test_1.csv 267\n",
      "test_2.csv 267\n",
      "test_3.csv 262\n"
     ]
    }
   ],
   "source": [
    "for file in files:\n",
    "    data = pd.read_csv('../../data/lo/drd2/' + file)\n",
    "    print(file, len(data))"
   ]
  },
  {
   "cell_type": "code",
   "execution_count": 5,
   "metadata": {},
   "outputs": [
    {
     "name": "stdout",
     "output_type": "stream",
     "text": [
      "train_1.csv 3313\n",
      "train_2.csv 3313\n",
      "train_3.csv 3313\n",
      "test_1.csv 406\n",
      "test_2.csv 406\n",
      "test_3.csv 406\n"
     ]
    }
   ],
   "source": [
    "for file in files:\n",
    "    data = pd.read_csv('../../data/lo/kcnh2/' + file)\n",
    "    print(file, len(data))"
   ]
  },
  {
   "cell_type": "code",
   "execution_count": null,
   "metadata": {},
   "outputs": [],
   "source": []
  }
 ],
 "metadata": {
  "kernelspec": {
   "display_name": "lohi_benchmark",
   "language": "python",
   "name": "python3"
  },
  "language_info": {
   "codemirror_mode": {
    "name": "ipython",
    "version": 3
   },
   "file_extension": ".py",
   "mimetype": "text/x-python",
   "name": "python",
   "nbconvert_exporter": "python",
   "pygments_lexer": "ipython3",
   "version": "3.10.9"
  },
  "orig_nbformat": 4
 },
 "nbformat": 4,
 "nbformat_minor": 2
}
