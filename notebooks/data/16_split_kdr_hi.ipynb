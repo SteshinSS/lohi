{
 "cells": [
  {
   "cell_type": "code",
   "execution_count": 1,
   "metadata": {},
   "outputs": [],
   "source": [
    "import pandas as pd\n",
    "import numpy as np\n",
    "import matplotlib.pyplot as plt\n",
    "from matplotlib_venn import venn3\n",
    "import networkx as nx"
   ]
  },
  {
   "cell_type": "code",
   "execution_count": 2,
   "metadata": {},
   "outputs": [],
   "source": [
    "import sys\n",
    "sys.path.append('../../code')\n",
    "\n",
    "import min_vertex_k_cut"
   ]
  },
  {
   "cell_type": "code",
   "execution_count": 3,
   "metadata": {},
   "outputs": [
    {
     "data": {
      "text/html": [
       "<div>\n",
       "<style scoped>\n",
       "    .dataframe tbody tr th:only-of-type {\n",
       "        vertical-align: middle;\n",
       "    }\n",
       "\n",
       "    .dataframe tbody tr th {\n",
       "        vertical-align: top;\n",
       "    }\n",
       "\n",
       "    .dataframe thead th {\n",
       "        text-align: right;\n",
       "    }\n",
       "</style>\n",
       "<table border=\"1\" class=\"dataframe\">\n",
       "  <thead>\n",
       "    <tr style=\"text-align: right;\">\n",
       "      <th></th>\n",
       "      <th>smiles</th>\n",
       "      <th>value</th>\n",
       "    </tr>\n",
       "  </thead>\n",
       "  <tbody>\n",
       "    <tr>\n",
       "      <th>0</th>\n",
       "      <td>Brc1ccc(-c2nc3ccc(Nc4ccnc5ccccc45)cc3[nH]2)cc1</td>\n",
       "      <td>True</td>\n",
       "    </tr>\n",
       "    <tr>\n",
       "      <th>1</th>\n",
       "      <td>Brc1ccc(-c2nc3ccc(Nc4ncnc5ccccc45)cc3[nH]2)cc1</td>\n",
       "      <td>True</td>\n",
       "    </tr>\n",
       "    <tr>\n",
       "      <th>2</th>\n",
       "      <td>Brc1cccc(Nc2ncnc3ccc(NCc4ccc5c(c4)OCCCO5)cc23)c1</td>\n",
       "      <td>False</td>\n",
       "    </tr>\n",
       "    <tr>\n",
       "      <th>3</th>\n",
       "      <td>C#CC(C)OC1=CC(=O)C(Nc2ncnc3cc(OCCCN4CCCC4)c(OC...</td>\n",
       "      <td>True</td>\n",
       "    </tr>\n",
       "    <tr>\n",
       "      <th>4</th>\n",
       "      <td>C#CC(OC1=CC(=O)C(Nc2ncnc3cc(OCCCN4CCCC4)c(OC)c...</td>\n",
       "      <td>True</td>\n",
       "    </tr>\n",
       "    <tr>\n",
       "      <th>...</th>\n",
       "      <td>...</td>\n",
       "      <td>...</td>\n",
       "    </tr>\n",
       "    <tr>\n",
       "      <th>6272</th>\n",
       "      <td>c1cn(Cc2ccc3c(c2)-c2[nH]nc(-c4ccsc4)c2C3)cn1</td>\n",
       "      <td>True</td>\n",
       "    </tr>\n",
       "    <tr>\n",
       "      <th>6273</th>\n",
       "      <td>c1cnc(CCc2ccncc2)c(-c2nnc(NCc3ccc4c(c3)OCO4)o2)c1</td>\n",
       "      <td>True</td>\n",
       "    </tr>\n",
       "    <tr>\n",
       "      <th>6274</th>\n",
       "      <td>c1cnc(CCc2ccncc2)c(-c2nnc(Nc3cnc4ccccc4c3)o2)c1</td>\n",
       "      <td>True</td>\n",
       "    </tr>\n",
       "    <tr>\n",
       "      <th>6275</th>\n",
       "      <td>c1cncc(-c2cnn3cc(-c4ccc(OCCN5CCCCC5)cc4)cnc23)c1</td>\n",
       "      <td>True</td>\n",
       "    </tr>\n",
       "    <tr>\n",
       "      <th>6276</th>\n",
       "      <td>c1csc(-c2n[nH]c3c2Cc2ccccc2-3)c1</td>\n",
       "      <td>True</td>\n",
       "    </tr>\n",
       "  </tbody>\n",
       "</table>\n",
       "<p>6277 rows × 2 columns</p>\n",
       "</div>"
      ],
      "text/plain": [
       "                                                 smiles  value\n",
       "0        Brc1ccc(-c2nc3ccc(Nc4ccnc5ccccc45)cc3[nH]2)cc1   True\n",
       "1        Brc1ccc(-c2nc3ccc(Nc4ncnc5ccccc45)cc3[nH]2)cc1   True\n",
       "2      Brc1cccc(Nc2ncnc3ccc(NCc4ccc5c(c4)OCCCO5)cc23)c1  False\n",
       "3     C#CC(C)OC1=CC(=O)C(Nc2ncnc3cc(OCCCN4CCCC4)c(OC...   True\n",
       "4     C#CC(OC1=CC(=O)C(Nc2ncnc3cc(OCCCN4CCCC4)c(OC)c...   True\n",
       "...                                                 ...    ...\n",
       "6272       c1cn(Cc2ccc3c(c2)-c2[nH]nc(-c4ccsc4)c2C3)cn1   True\n",
       "6273  c1cnc(CCc2ccncc2)c(-c2nnc(NCc3ccc4c(c3)OCO4)o2)c1   True\n",
       "6274    c1cnc(CCc2ccncc2)c(-c2nnc(Nc3cnc4ccccc4c3)o2)c1   True\n",
       "6275   c1cncc(-c2cnn3cc(-c4ccc(OCCN5CCCCC5)cc4)cnc23)c1   True\n",
       "6276                   c1csc(-c2n[nH]c3c2Cc2ccccc2-3)c1   True\n",
       "\n",
       "[6277 rows x 2 columns]"
      ]
     },
     "execution_count": 3,
     "metadata": {},
     "output_type": "execute_result"
    }
   ],
   "source": [
    "kdr_hi = pd.read_csv('../../data/raw/kdr_hi.csv', index_col=0)\n",
    "kdr_hi"
   ]
  },
  {
   "cell_type": "code",
   "execution_count": 4,
   "metadata": {},
   "outputs": [],
   "source": [
    "smiles = kdr_hi['smiles'].to_list()\n",
    "threshold = 0.4\n",
    "\n",
    "neighborhood_graph = min_vertex_k_cut.get_neighborhood_graph(smiles, threshold)\n",
    "main_component, small_components = min_vertex_k_cut.get_main_component(neighborhood_graph)\n",
    "\n",
    "old_nodes_to_new = dict(zip(main_component.nodes(), range(main_component.number_of_nodes())))\n",
    "new_nodes_to_old = {v: k for k, v in old_nodes_to_new.items()}\n",
    "main_component = nx.relabel_nodes(main_component, old_nodes_to_new)"
   ]
  },
  {
   "cell_type": "code",
   "execution_count": 5,
   "metadata": {},
   "outputs": [
    {
     "name": "stdout",
     "output_type": "stream",
     "text": [
      "0.9 5270 123.22542694497153\n",
      "0.8 3313 65.42952007244189\n",
      "0.7 1590 28.057861635220124\n",
      "0.6 854 15.704918032786885\n",
      "0.5 506 11.1699604743083\n",
      "0.4 295 9.152542372881356\n"
     ]
    }
   ],
   "source": [
    "for coarse_threhold in [0.90, 0.80, 0.70, 0.60, 0.50, 0.40]:\n",
    "    coarsed_main_component, _ = min_vertex_k_cut.coarse_graph(main_component, coarse_threhold)\n",
    "    node_degrees = list(dict(coarsed_main_component.degree()).values())\n",
    "    print(coarse_threhold, len(coarsed_main_component), np.mean(node_degrees))"
   ]
  },
  {
   "cell_type": "code",
   "execution_count": 6,
   "metadata": {},
   "outputs": [],
   "source": [
    "coarsed_main_component, node_to_cluster = min_vertex_k_cut.coarse_graph(main_component, 0.4)"
   ]
  },
  {
   "cell_type": "code",
   "execution_count": 7,
   "metadata": {},
   "outputs": [
    {
     "name": "stdout",
     "output_type": "stream",
     "text": [
      "Total molecules: 5710\n",
      "Min size of a partition: 856\n",
      "Welcome to the CBC MILP Solver \n",
      "Version: Trunk\n",
      "Build Date: Oct 24 2021 \n",
      "\n",
      "Starting solution of the Linear programming relaxation problem using Primal Simplex\n",
      "\n",
      "Coin0506I Presolve 7513 (-885) rows, 885 (0) columns and 16200 (-1770) elements\n",
      "Clp1000I sum of infeasibilities 4.1514e-06 - average 5.52563e-10, 0 fixed columns\n",
      "Coin0506I Presolve 7513 (0) rows, 885 (0) columns and 16200 (0) elements\n",
      "Clp0029I End of values pass after 885 iterations\n",
      "Clp0000I Optimal - objective value 5710\n",
      "Clp0000I Optimal - objective value 5710\n",
      "Clp0000I Optimal - objective value 5710\n",
      "Coin0511I After Postsolve, objective 5710, infeasibilities - dual 0 (0), primal 0 (0)\n",
      "Clp0032I Optimal objective 5710 - 0 iterations time 0.302, Presolve 0.00, Idiot 0.30\n",
      "\n",
      "Starting MIP optimization\n",
      "Cgl0003I 0 fixed, 0 tightened bounds, 6032 strengthened rows, 0 substitutions\n",
      "Cgl0003I 0 fixed, 0 tightened bounds, 1132 strengthened rows, 0 substitutions\n",
      "Cgl0003I 0 fixed, 0 tightened bounds, 51 strengthened rows, 0 substitutions\n",
      "Cgl0004I processed model has 6116 rows, 885 columns (885 integer (885 of which binary)) and 19224 elements\n",
      "Coin3009W Conflict graph built in 0.010 seconds, density: 0.517%\n",
      "Cgl0015I Clique Strengthening extended 0 cliques, 0 were dominated\n",
      "Cbc0045I Nauty: 8532 orbits (9 useful covering 18 variables), 3 generators, group size: 8 - sparse size 60510 - took 0.023144 seconds\n",
      "Cbc0038I Initial state - 885 integers unsatisfied sum - 176.897\n",
      "Cbc0038I Pass   1: (0.59 seconds) suminf.   59.27677 (226) obj. -4722.4 iterations 1553\n",
      "Cbc0038I Pass   2: (0.62 seconds) suminf.   39.57341 (110) obj. -4233.73 iterations 196\n",
      "Cbc0038I Pass   3: (0.63 seconds) suminf.   32.58399 (166) obj. -4110.58 iterations 114\n",
      "Cbc0038I Pass   4: (0.64 seconds) suminf.   30.07545 (153) obj. -3853.71 iterations 91\n",
      "Cbc0038I Pass   5: (0.66 seconds) suminf.   15.34659 (46) obj. -3419.75 iterations 215\n",
      "Cbc0038I Pass   6: (0.66 seconds) suminf.   14.65842 (44) obj. -3408.05 iterations 22\n",
      "Cbc0038I Pass   7: (0.67 seconds) suminf.    8.81896 (29) obj. -3227.2 iterations 65\n",
      "Cbc0038I Pass   8: (0.67 seconds) suminf.    8.81896 (29) obj. -3227.2 iterations 5\n",
      "Cbc0038I Pass   9: (0.67 seconds) suminf.    2.91509 (6) obj. -3099.05 iterations 42\n",
      "Cbc0038I Pass  10: (0.68 seconds) suminf.    2.80754 (7) obj. -3073.02 iterations 4\n",
      "Cbc0038I Pass  11: (0.68 seconds) suminf.    1.40566 (3) obj. -3192.66 iterations 7\n",
      "Cbc0038I Pass  12: (0.68 seconds) suminf.    1.40566 (3) obj. -3192.66 iterations 0\n",
      "Cbc0038I Pass  13: (0.68 seconds) suminf.    0.97170 (2) obj. -3097 iterations 3\n",
      "Cbc0038I Pass  14: (0.68 seconds) suminf.    0.93711 (2) obj. -3097 iterations 2\n",
      "Cbc0038I Pass  15: (0.69 seconds) suminf.   16.51243 (52) obj. -2728.2 iterations 236\n",
      "Cbc0038I Pass  16: (0.70 seconds) suminf.    4.47624 (12) obj. -2698.43 iterations 176\n",
      "Cbc0038I Pass  17: (0.71 seconds) suminf.    4.21425 (12) obj. -2698.43 iterations 3\n",
      "Cbc0038I Pass  18: (0.71 seconds) suminf.    0.33659 (2) obj. -2981 iterations 15\n",
      "Cbc0038I Solution found of -2981\n",
      "Cbc0038I Before mini branch and bound, 0 integers at bound fixed and 0 continuous\n",
      "Cbc0038I Full problem 6116 rows 885 columns, reduced to 6116 rows 885 columns - 48 fixed gives 1742, 486 - ok now\n",
      "Cbc0038I Full problem 6116 rows 885 columns, reduced to 1742 rows 486 columns\n",
      "Cbc0038I Mini branch and bound improved solution from -2981 to -3630 (2.18 seconds)\n",
      "Cbc0038I Round again with cutoff of -3838.9\n",
      "Cbc0038I Pass  19: (2.19 seconds) suminf.   59.27677 (226) obj. -4722.4 iterations 0\n",
      "Cbc0038I Pass  20: (2.21 seconds) suminf.   39.57341 (110) obj. -4233.73 iterations 250\n",
      "Cbc0038I Pass  21: (2.23 seconds) suminf.   32.77974 (165) obj. -3899.64 iterations 128\n",
      "Cbc0038I Pass  22: (2.23 seconds) suminf.   30.16831 (164) obj. -3867.33 iterations 20\n",
      "Cbc0038I Pass  23: (2.26 seconds) suminf.   17.22610 (60) obj. -3838.9 iterations 304\n",
      "Cbc0038I Pass  24: (2.27 seconds) suminf.   16.61995 (57) obj. -3838.9 iterations 117\n",
      "Cbc0038I Pass  25: (2.28 seconds) suminf.   16.26967 (55) obj. -3838.9 iterations 101\n",
      "Cbc0038I Pass  26: (2.29 seconds) suminf.   16.21096 (54) obj. -3838.9 iterations 64\n",
      "Cbc0038I Pass  27: (2.30 seconds) suminf.   14.08302 (45) obj. -3838.9 iterations 143\n",
      "Cbc0038I Pass  28: (2.31 seconds) suminf.   13.92785 (46) obj. -3838.9 iterations 83\n",
      "Cbc0038I Pass  29: (2.32 seconds) suminf.   11.83120 (38) obj. -3838.9 iterations 92\n",
      "Cbc0038I Pass  30: (2.32 seconds) suminf.   11.83118 (38) obj. -3838.9 iterations 8\n",
      "Cbc0038I Pass  31: (2.33 seconds) suminf.    9.85603 (28) obj. -3838.9 iterations 101\n",
      "Cbc0038I Pass  32: (2.33 seconds) suminf.    9.85226 (27) obj. -3838.9 iterations 27\n",
      "Cbc0038I Pass  33: (2.33 seconds) suminf.    9.85226 (27) obj. -3838.9 iterations 0\n",
      "Cbc0038I Pass  34: (2.34 seconds) suminf.   10.66830 (27) obj. -3838.9 iterations 126\n",
      "Cbc0038I Pass  35: (2.34 seconds) suminf.   10.29270 (28) obj. -3838.9 iterations 66\n",
      "Cbc0038I Pass  36: (2.35 seconds) suminf.    9.50845 (30) obj. -3838.9 iterations 34\n",
      "Cbc0038I Pass  37: (2.35 seconds) suminf.    9.50845 (30) obj. -3838.9 iterations 4\n",
      "Cbc0038I Pass  38: (2.36 seconds) suminf.   10.14960 (27) obj. -3838.9 iterations 125\n",
      "Cbc0038I Pass  39: (2.36 seconds) suminf.   10.14960 (27) obj. -3838.9 iterations 42\n",
      "Cbc0038I Pass  40: (2.37 seconds) suminf.   10.14960 (27) obj. -3838.9 iterations 2\n",
      "Cbc0038I Pass  41: (2.37 seconds) suminf.   10.14960 (27) obj. -3838.9 iterations 10\n",
      "Cbc0038I Pass  42: (2.37 seconds) suminf.   10.32496 (27) obj. -3838.9 iterations 67\n",
      "Cbc0038I Pass  43: (2.38 seconds) suminf.   10.32230 (27) obj. -3838.9 iterations 23\n",
      "Cbc0038I Pass  44: (2.38 seconds) suminf.    9.86035 (27) obj. -3838.9 iterations 50\n",
      "Cbc0038I Pass  45: (2.38 seconds) suminf.    9.86035 (27) obj. -3838.9 iterations 7\n",
      "Cbc0038I Pass  46: (2.39 seconds) suminf.   10.58182 (28) obj. -3838.9 iterations 92\n",
      "Cbc0038I Pass  47: (2.40 seconds) suminf.   10.12690 (29) obj. -3838.9 iterations 39\n",
      "Cbc0038I Pass  48: (2.40 seconds) suminf.   10.12690 (29) obj. -3838.9 iterations 5\n",
      "Cbc0038I No solution found this major pass\n",
      "Cbc0038I Before mini branch and bound, 0 integers at bound fixed and 0 continuous\n",
      "Cbc0038I Full problem 6116 rows 885 columns, reduced to 6116 rows 885 columns - 117 fixed gives 1084, 325 - ok now\n",
      "Cbc0038I Full problem 6116 rows 885 columns, reduced to 1084 rows 325 columns\n",
      "Cbc0038I Mini branch and bound improved solution from -3630 to -3696 (3.10 seconds)\n",
      "Cbc0038I Round again with cutoff of -4213.12\n",
      "Cbc0038I Pass  48: (3.11 seconds) suminf.   59.27677 (226) obj. -4722.4 iterations 0\n",
      "Cbc0038I Pass  49: (3.13 seconds) suminf.   39.57341 (110) obj. -4233.73 iterations 250\n",
      "Cbc0038I Pass  50: (3.15 seconds) suminf.   33.88853 (170) obj. -4213.12 iterations 151\n",
      "Cbc0038I Pass  51: (3.16 seconds) suminf.   31.43463 (182) obj. -4213.12 iterations 41\n",
      "Cbc0038I Pass  52: (3.16 seconds) suminf.   31.43463 (182) obj. -4213.12 iterations 0\n",
      "Cbc0038I Pass  53: (3.17 seconds) suminf.   27.47502 (179) obj. -4213.12 iterations 96\n",
      "Cbc0038I Pass  54: (3.19 seconds) suminf.   24.43690 (76) obj. -4213.12 iterations 127\n",
      "Cbc0038I Pass  55: (3.23 seconds) suminf.   26.23399 (166) obj. -4213.12 iterations 260\n",
      "Cbc0038I Pass  56: (3.23 seconds) suminf.   24.94531 (165) obj. -4213.12 iterations 46\n",
      "Cbc0038I Pass  57: (3.24 seconds) suminf.   24.94531 (165) obj. -4213.12 iterations 12\n",
      "Cbc0038I Pass  58: (3.28 seconds) suminf.   25.13837 (170) obj. -4213.12 iterations 283\n",
      "Cbc0038I Pass  59: (3.28 seconds) suminf.   24.65596 (169) obj. -4213.12 iterations 29\n",
      "Cbc0038I Pass  60: (3.31 seconds) suminf.   25.09872 (161) obj. -4213.12 iterations 227\n",
      "Cbc0038I Pass  61: (3.39 seconds) suminf.   47.63422 (212) obj. -4213.12 iterations 620\n",
      "Cbc0038I Pass  62: (3.42 seconds) suminf.   30.72558 (135) obj. -4213.12 iterations 344\n",
      "Cbc0038I Pass  63: (3.43 seconds) suminf.   30.72162 (136) obj. -4213.12 iterations 19\n",
      "Cbc0038I Pass  64: (3.43 seconds) suminf.   30.72162 (136) obj. -4213.12 iterations 1\n",
      "Cbc0038I Pass  65: (3.49 seconds) suminf.   47.98393 (194) obj. -4213.12 iterations 536\n",
      "Cbc0038I Pass  66: (3.52 seconds) suminf.   29.55003 (126) obj. -4213.12 iterations 289\n",
      "Cbc0038I Pass  67: (3.52 seconds) suminf.   28.72229 (131) obj. -4213.12 iterations 40\n",
      "Cbc0038I Pass  68: (3.53 seconds) suminf.   28.48900 (132) obj. -4213.12 iterations 42\n",
      "Cbc0038I Pass  69: (3.54 seconds) suminf.   28.21053 (132) obj. -4213.12 iterations 12\n",
      "Cbc0038I Pass  70: (3.55 seconds) suminf.   26.09815 (119) obj. -4213.12 iterations 86\n",
      "Cbc0038I Pass  71: (3.56 seconds) suminf.   25.81548 (118) obj. -4213.12 iterations 50\n",
      "Cbc0038I Pass  72: (3.56 seconds) suminf.   25.91101 (114) obj. -4213.12 iterations 56\n",
      "Cbc0038I Pass  73: (3.57 seconds) suminf.   25.64265 (122) obj. -4213.12 iterations 71\n",
      "Cbc0038I Pass  74: (3.58 seconds) suminf.   25.41765 (124) obj. -4213.12 iterations 43\n",
      "Cbc0038I Pass  75: (3.58 seconds) suminf.   25.41765 (124) obj. -4213.12 iterations 10\n",
      "Cbc0038I Pass  76: (3.59 seconds) suminf.   25.32540 (120) obj. -4213.12 iterations 37\n",
      "Cbc0038I Pass  77: (3.59 seconds) suminf.   25.32540 (120) obj. -4213.12 iterations 18\n",
      "Cbc0038I No solution found this major pass\n",
      "Cbc0038I Before mini branch and bound, 0 integers at bound fixed and 0 continuous\n",
      "Cbc0038I Full problem 6116 rows 885 columns, reduced to 6116 rows 885 columns - 117 fixed gives 1084, 325 - ok now\n",
      "Cbc0038I Mini branch and bound did not improve solution (3.92 seconds)\n",
      "Cbc0038I After 3.92 seconds - Feasibility pump exiting with objective of -3696 - took 3.54 seconds\n",
      "Cbc0012I Integer solution of -3696 found by feasibility pump after 0 iterations and 0 nodes (3.92 seconds)\n",
      "Cbc0030I Thread 0 used 0 times,  waiting to start 0.03910017, 0 cpu time, 0 locks, 0 locked, 0 waiting for locks\n",
      "Cbc0030I Thread 1 used 0 times,  waiting to start 0.037729263, 0 cpu time, 0 locks, 0 locked, 0 waiting for locks\n",
      "Cbc0030I Thread 2 used 0 times,  waiting to start 0.035860777, 0 cpu time, 0 locks, 0 locked, 0 waiting for locks\n",
      "Cbc0030I Thread 3 used 0 times,  waiting to start 0.034235954, 0 cpu time, 0 locks, 0 locked, 0 waiting for locks\n",
      "Cbc0030I Thread 4 used 0 times,  waiting to start 0.032502174, 0 cpu time, 0 locks, 0 locked, 0 waiting for locks\n",
      "Cbc0030I Thread 5 used 0 times,  waiting to start 0.030632496, 0 cpu time, 0 locks, 0 locked, 0 waiting for locks\n",
      "Cbc0030I Thread 6 used 0 times,  waiting to start 0.028613806, 0 cpu time, 0 locks, 0 locked, 0 waiting for locks\n",
      "Cbc0030I Thread 7 used 0 times,  waiting to start 0.026712656, 0 cpu time, 0 locks, 0 locked, 0 waiting for locks\n",
      "Cbc0030I Thread 8 used 0 times,  waiting to start 0.024844408, 0 cpu time, 0 locks, 0 locked, 0 waiting for locks\n",
      "Cbc0030I Thread 9 used 0 times,  waiting to start 0.022599936, 0 cpu time, 0 locks, 0 locked, 0 waiting for locks\n",
      "Cbc0030I Thread 10 used 0 times,  waiting to start 0.020697594, 0 cpu time, 0 locks, 0 locked, 0 waiting for locks\n",
      "Cbc0030I Thread 11 used 0 times,  waiting to start 0.018942833, 0 cpu time, 0 locks, 0 locked, 0 waiting for locks\n",
      "Cbc0030I Thread 12 used 0 times,  waiting to start 0.016968012, 0 cpu time, 0 locks, 0 locked, 0 waiting for locks\n",
      "Cbc0030I Thread 13 used 0 times,  waiting to start 0.015091896, 0 cpu time, 0 locks, 0 locked, 0 waiting for locks\n",
      "Cbc0030I Thread 14 used 0 times,  waiting to start 0.013318777, 0 cpu time, 0 locks, 0 locked, 0 waiting for locks\n",
      "Cbc0030I Thread 15 used 0 times,  waiting to start 0.01146841, 0 cpu time, 0 locks, 0 locked, 0 waiting for locks\n",
      "Cbc0030I Thread 16 used 0 times,  waiting to start 0.009449482, 0 cpu time, 0 locks, 0 locked, 0 waiting for locks\n",
      "Cbc0030I Thread 17 used 0 times,  waiting to start 0.0075492859, 0 cpu time, 0 locks, 0 locked, 0 waiting for locks\n",
      "Cbc0030I Thread 18 used 0 times,  waiting to start 0.0057370663, 0 cpu time, 0 locks, 0 locked, 0 waiting for locks\n",
      "Cbc0030I Thread 19 used 0 times,  waiting to start 0.0037910938, 0 cpu time, 0 locks, 0 locked, 0 waiting for locks\n",
      "Cbc0030I Main thread 0 waiting for threads,  1 locks, 1.4305115e-06 locked, 4.7683716e-07 waiting for locks\n",
      "Cbc0011I Exiting as integer gap of 2014 less than 1e-10 or 50%\n",
      "Cbc0001I Search completed - best objective -3696, took 0 iterations and 0 nodes (3.96 seconds)\n",
      "Cbc0035I Maximum depth 0, 0 variables fixed on reduced cost\n",
      "Total time (CPU seconds):       4.17   (Wallclock seconds):       4.19\n",
      "\n"
     ]
    }
   ],
   "source": [
    "model = min_vertex_k_cut.trisect_connected_graph(coarsed_main_component, part_min_frac=0.15, emphasis=1, max_mip_gap=0.5)"
   ]
  },
  {
   "cell_type": "code",
   "execution_count": 8,
   "metadata": {},
   "outputs": [
    {
     "data": {
      "text/plain": [
       "<OptimizationStatus.OPTIMAL: 0>"
      ]
     },
     "execution_count": 8,
     "metadata": {},
     "output_type": "execute_result"
    }
   ],
   "source": [
    "model.status"
   ]
  },
  {
   "cell_type": "code",
   "execution_count": 9,
   "metadata": {},
   "outputs": [
    {
     "name": "stdout",
     "output_type": "stream",
     "text": [
      "[2014 1978  860  858]\n"
     ]
    }
   ],
   "source": [
    "split = min_vertex_k_cut.process_trisect_results(model, coarsed_main_component, main_component, node_to_cluster)"
   ]
  },
  {
   "cell_type": "code",
   "execution_count": 11,
   "metadata": {},
   "outputs": [],
   "source": [
    "first_idx = []\n",
    "second_idx = []\n",
    "third_idx = []\n",
    "\n",
    "for S_idx, partition in enumerate(split):\n",
    "    G_idx = new_nodes_to_old[S_idx]\n",
    "    if partition == 0:\n",
    "        first_idx.append(G_idx)\n",
    "    if partition == 1:\n",
    "        second_idx.append(G_idx)\n",
    "    if partition == 2:\n",
    "        third_idx.append(G_idx)"
   ]
  },
  {
   "cell_type": "code",
   "execution_count": 16,
   "metadata": {},
   "outputs": [],
   "source": [
    "for component in small_components:\n",
    "    i = np.argmin([len(first_idx), len(second_idx), len(third_idx)])\n",
    "    if i == 0:\n",
    "        first_idx.extend(component)\n",
    "    if i == 1:\n",
    "        second_idx.extend(component)\n",
    "    if i == 2:\n",
    "        third_idx.extend(component)"
   ]
  },
  {
   "cell_type": "code",
   "execution_count": 17,
   "metadata": {},
   "outputs": [
    {
     "data": {
      "text/plain": [
       "[1978, 1138, 1147]"
      ]
     },
     "execution_count": 17,
     "metadata": {},
     "output_type": "execute_result"
    }
   ],
   "source": [
    "[len(first_idx), len(second_idx), len(third_idx)]"
   ]
  },
  {
   "cell_type": "code",
   "execution_count": 19,
   "metadata": {},
   "outputs": [],
   "source": [
    "part_first = kdr_hi.iloc[first_idx]\n",
    "part_second = kdr_hi.iloc[second_idx]\n",
    "part_third = kdr_hi.iloc[third_idx]\n"
   ]
  },
  {
   "cell_type": "code",
   "execution_count": 20,
   "metadata": {},
   "outputs": [
    {
     "data": {
      "text/plain": [
       "<matplotlib_venn._common.VennDiagram at 0x7fe9633539a0>"
      ]
     },
     "execution_count": 20,
     "metadata": {},
     "output_type": "execute_result"
    },
    {
     "data": {
      "image/png": "[encoded data removed]",
      "text/plain": [
       "<Figure size 640x480 with 1 Axes>"
      ]
     },
     "metadata": {},
     "output_type": "display_data"
    }
   ],
   "source": [
    "venn3([\n",
    "    set(part_first['smiles'].tolist()),\n",
    "    set(part_second['smiles'].tolist()),\n",
    "    set(part_third['smiles'].tolist()),\n",
    "])"
   ]
  },
  {
   "cell_type": "code",
   "execution_count": 21,
   "metadata": {},
   "outputs": [],
   "source": [
    "test_1 = pd.concat([part_first, part_second])\n",
    "train_1 = part_third.copy()\n",
    "\n",
    "test_2 = pd.concat([part_first, part_third])\n",
    "train_2 = part_second.copy()\n",
    "\n",
    "test_3 = pd.concat([part_second, part_third])\n",
    "train_3 = part_first.copy()"
   ]
  },
  {
   "cell_type": "code",
   "execution_count": 24,
   "metadata": {},
   "outputs": [],
   "source": [
    "train_1 = train_1[:500]\n",
    "train_2 = train_2[:500]\n",
    "train_3 = train_3[:500]"
   ]
  },
  {
   "cell_type": "code",
   "execution_count": 26,
   "metadata": {},
   "outputs": [],
   "source": [
    "min_vertex_k_cut.test_split(train_1['smiles'], test_1['smiles'], threshold=0.4)\n",
    "min_vertex_k_cut.test_split(train_2['smiles'], test_2['smiles'], threshold=0.4)\n",
    "min_vertex_k_cut.test_split(train_3['smiles'], test_3['smiles'], threshold=0.4)"
   ]
  },
  {
   "cell_type": "code",
   "execution_count": 27,
   "metadata": {},
   "outputs": [
    {
     "data": {
      "text/plain": [
       "<matplotlib_venn._common.VennDiagram at 0x7fe963395e40>"
      ]
     },
     "execution_count": 27,
     "metadata": {},
     "output_type": "execute_result"
    },
    {
     "data": {
      "image/png": "[encoded data removed]",
      "text/plain": [
       "<Figure size 640x480 with 1 Axes>"
      ]
     },
     "metadata": {},
     "output_type": "display_data"
    }
   ],
   "source": [
    "venn3([\n",
    "    set(test_1['smiles'].tolist()),\n",
    "    set(test_2['smiles'].tolist()),\n",
    "    set(test_3['smiles'].tolist()),\n",
    "])"
   ]
  },
  {
   "cell_type": "code",
   "execution_count": 28,
   "metadata": {},
   "outputs": [],
   "source": [
    "train_1.to_csv('../../data/hi/kdr/train_1.csv')\n",
    "train_2.to_csv('../../data/hi/kdr/train_2.csv')\n",
    "train_3.to_csv('../../data/hi/kdr/train_3.csv')"
   ]
  },
  {
   "cell_type": "code",
   "execution_count": 29,
   "metadata": {},
   "outputs": [],
   "source": [
    "test_1.to_csv('../../data/hi/kdr/test_1.csv')\n",
    "test_2.to_csv('../../data/hi/kdr/test_2.csv')\n",
    "test_3.to_csv('../../data/hi/kdr/test_3.csv')"
   ]
  },
  {
   "cell_type": "code",
   "execution_count": null,
   "metadata": {},
   "outputs": [],
   "source": []
  }
 ],
 "metadata": {
  "kernelspec": {
   "display_name": "lohi_benchmark",
   "language": "python",
   "name": "python3"
  },
  "language_info": {
   "codemirror_mode": {
    "name": "ipython",
    "version": 3
   },
   "file_extension": ".py",
   "mimetype": "text/x-python",
   "name": "python",
   "nbconvert_exporter": "python",
   "pygments_lexer": "ipython3",
   "version": "3.10.12"
  },
  "orig_nbformat": 4
 },
 "nbformat": 4,
 "nbformat_minor": 2
}
