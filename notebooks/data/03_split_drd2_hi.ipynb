{
 "cells": [
  {
   "cell_type": "code",
   "execution_count": 1,
   "metadata": {},
   "outputs": [],
   "source": [
    "import pandas as pd\n",
    "import numpy as np\n",
    "import matplotlib.pyplot as plt\n",
    "from matplotlib_venn import venn3\n",
    "import networkx as nx"
   ]
  },
  {
   "cell_type": "code",
   "execution_count": 2,
   "metadata": {},
   "outputs": [],
   "source": [
    "import sys\n",
    "sys.path.append('../../code')\n",
    "\n",
    "import min_vertex_k_cut"
   ]
  },
  {
   "cell_type": "code",
   "execution_count": 3,
   "metadata": {},
   "outputs": [
    {
     "data": {
      "text/html": [
       "<div>\n",
       "<style scoped>\n",
       "    .dataframe tbody tr th:only-of-type {\n",
       "        vertical-align: middle;\n",
       "    }\n",
       "\n",
       "    .dataframe tbody tr th {\n",
       "        vertical-align: top;\n",
       "    }\n",
       "\n",
       "    .dataframe thead th {\n",
       "        text-align: right;\n",
       "    }\n",
       "</style>\n",
       "<table border=\"1\" class=\"dataframe\">\n",
       "  <thead>\n",
       "    <tr style=\"text-align: right;\">\n",
       "      <th></th>\n",
       "      <th>smiles</th>\n",
       "      <th>value</th>\n",
       "    </tr>\n",
       "  </thead>\n",
       "  <tbody>\n",
       "    <tr>\n",
       "      <th>0</th>\n",
       "      <td>Brc1ccc(-[n+]2cc[n+](Cc3ccccc3)cc2)c2cc[nH]c12</td>\n",
       "      <td>True</td>\n",
       "    </tr>\n",
       "    <tr>\n",
       "      <th>1</th>\n",
       "      <td>Brc1ccc(CNCCN2CCN(Cc3cc4ccccc4[nH]3)CC2)cc1</td>\n",
       "      <td>False</td>\n",
       "    </tr>\n",
       "    <tr>\n",
       "      <th>2</th>\n",
       "      <td>Brc1ccc(N2CCN(Cc3ccccc3)CC2)c2cc[nH]c12</td>\n",
       "      <td>True</td>\n",
       "    </tr>\n",
       "    <tr>\n",
       "      <th>3</th>\n",
       "      <td>Brc1ccc(NCCN2CCN(CCc3c[nH]c4ccccc34)CC2)cc1</td>\n",
       "      <td>True</td>\n",
       "    </tr>\n",
       "    <tr>\n",
       "      <th>4</th>\n",
       "      <td>Brc1ccc(NCCN2CCN(Cc3cc4ccccc4[nH]3)CC2)cc1</td>\n",
       "      <td>True</td>\n",
       "    </tr>\n",
       "    <tr>\n",
       "      <th>...</th>\n",
       "      <td>...</td>\n",
       "      <td>...</td>\n",
       "    </tr>\n",
       "    <tr>\n",
       "      <th>6262</th>\n",
       "      <td>c1cnc(N2CCN(CCCOc3ccc(-c4nc5ccccc5o4)cc3)CC2)nc1</td>\n",
       "      <td>True</td>\n",
       "    </tr>\n",
       "    <tr>\n",
       "      <th>6263</th>\n",
       "      <td>c1cnc(N2CCN(CCCSc3nc4ccccc4s3)CC2)nc1</td>\n",
       "      <td>True</td>\n",
       "    </tr>\n",
       "    <tr>\n",
       "      <th>6264</th>\n",
       "      <td>c1cnc(N2CCN(Cc3c[nH]c4ncccc34)CC2)nc1</td>\n",
       "      <td>False</td>\n",
       "    </tr>\n",
       "    <tr>\n",
       "      <th>6265</th>\n",
       "      <td>c1cncc(CN[C@H]2C3C4CC5C6C4CC3C6C52)c1</td>\n",
       "      <td>False</td>\n",
       "    </tr>\n",
       "    <tr>\n",
       "      <th>6266</th>\n",
       "      <td>c1nc2c(s1)CCN(CCCCN1CCc3ncsc3CC1)CC2</td>\n",
       "      <td>False</td>\n",
       "    </tr>\n",
       "  </tbody>\n",
       "</table>\n",
       "<p>6267 rows × 2 columns</p>\n",
       "</div>"
      ],
      "text/plain": [
       "                                                smiles  value\n",
       "0       Brc1ccc(-[n+]2cc[n+](Cc3ccccc3)cc2)c2cc[nH]c12   True\n",
       "1          Brc1ccc(CNCCN2CCN(Cc3cc4ccccc4[nH]3)CC2)cc1  False\n",
       "2              Brc1ccc(N2CCN(Cc3ccccc3)CC2)c2cc[nH]c12   True\n",
       "3          Brc1ccc(NCCN2CCN(CCc3c[nH]c4ccccc34)CC2)cc1   True\n",
       "4           Brc1ccc(NCCN2CCN(Cc3cc4ccccc4[nH]3)CC2)cc1   True\n",
       "...                                                ...    ...\n",
       "6262  c1cnc(N2CCN(CCCOc3ccc(-c4nc5ccccc5o4)cc3)CC2)nc1   True\n",
       "6263             c1cnc(N2CCN(CCCSc3nc4ccccc4s3)CC2)nc1   True\n",
       "6264             c1cnc(N2CCN(Cc3c[nH]c4ncccc34)CC2)nc1  False\n",
       "6265             c1cncc(CN[C@H]2C3C4CC5C6C4CC3C6C52)c1  False\n",
       "6266              c1nc2c(s1)CCN(CCCCN1CCc3ncsc3CC1)CC2  False\n",
       "\n",
       "[6267 rows x 2 columns]"
      ]
     },
     "execution_count": 3,
     "metadata": {},
     "output_type": "execute_result"
    }
   ],
   "source": [
    "drd2_hi = pd.read_csv('../../data/raw/drd2_hi.csv', index_col=0)\n",
    "drd2_hi"
   ]
  },
  {
   "cell_type": "code",
   "execution_count": 4,
   "metadata": {},
   "outputs": [],
   "source": [
    "smiles = drd2_hi['smiles'].to_list()\n",
    "threshold = 0.4\n",
    "\n",
    "neighborhood_graph = min_vertex_k_cut.get_neighborhood_graph(smiles, threshold)\n",
    "main_component, small_components = min_vertex_k_cut.get_main_component(neighborhood_graph)\n",
    "\n",
    "old_nodes_to_new = dict(zip(main_component.nodes(), range(main_component.number_of_nodes())))\n",
    "new_nodes_to_old = {v: k for k, v in old_nodes_to_new.items()}\n",
    "main_component = nx.relabel_nodes(main_component, old_nodes_to_new)"
   ]
  },
  {
   "cell_type": "code",
   "execution_count": 5,
   "metadata": {},
   "outputs": [
    {
     "name": "stdout",
     "output_type": "stream",
     "text": [
      "0.9 5160 86.87093023255814\n",
      "0.8 3696 56.81547619047619\n",
      "0.7 1963 34.751910341314314\n",
      "0.6 1128 24.48049645390071\n",
      "0.5 648 17.126543209876544\n",
      "0.4 387 11.534883720930232\n"
     ]
    }
   ],
   "source": [
    "for coarse_threhold in [0.90, 0.80, 0.70, 0.60, 0.50, 0.40]:\n",
    "    coarsed_main_component, _ = min_vertex_k_cut.coarse_graph(main_component, coarse_threhold)\n",
    "    node_degrees = list(dict(coarsed_main_component.degree()).values())\n",
    "    print(coarse_threhold, len(coarsed_main_component), np.mean(node_degrees))"
   ]
  },
  {
   "cell_type": "code",
   "execution_count": 6,
   "metadata": {},
   "outputs": [],
   "source": [
    "coarsed_main_component, node_to_cluster = min_vertex_k_cut.coarse_graph(main_component, 0.4)"
   ]
  },
  {
   "cell_type": "code",
   "execution_count": 7,
   "metadata": {},
   "outputs": [
    {
     "name": "stdout",
     "output_type": "stream",
     "text": [
      "Total molecules: 6082\n",
      "Min size of a partition: 1094\n",
      "Welcome to the CBC MILP Solver \n",
      "Version: Trunk\n",
      "Build Date: Oct 24 2021 \n",
      "\n",
      "Starting solution of the Linear programming relaxation problem using Primal Simplex\n",
      "\n",
      "Coin0506I Presolve 12621 (-1161) rows, 1161 (0) columns and 26784 (-2322) elements\n",
      "Clp1000I sum of infeasibilities 7.43375e-07 - average 5.88998e-11, 0 fixed columns\n",
      "Coin0506I Presolve 12621 (0) rows, 1161 (0) columns and 26784 (0) elements\n",
      "Clp0029I End of values pass after 1161 iterations\n",
      "Clp0000I Optimal - objective value 6082\n",
      "Clp0000I Optimal - objective value 6082\n",
      "Clp0000I Optimal - objective value 6082\n",
      "Coin0511I After Postsolve, objective 6082, infeasibilities - dual 0 (0), primal 0 (0)\n",
      "Clp0032I Optimal objective 6082 - 0 iterations time 0.642, Presolve 0.01, Idiot 0.63\n",
      "\n",
      "Starting MIP optimization\n",
      "Cgl0003I 0 fixed, 0 tightened bounds, 10464 strengthened rows, 0 substitutions\n",
      "Cgl0003I 0 fixed, 0 tightened bounds, 1714 strengthened rows, 0 substitutions\n",
      "Cgl0003I 0 fixed, 0 tightened bounds, 53 strengthened rows, 0 substitutions\n",
      "Cgl0004I processed model has 10811 rows, 1161 columns (1161 integer (1161 of which binary)) and 33585 elements\n",
      "Coin3009W Conflict graph built in 0.002 seconds, density: 0.497%\n",
      "Cgl0015I Clique Strengthening extended 0 cliques, 0 were dominated\n",
      "Cbc0045I Nauty: 13928 orbits (9 useful covering 18 variables), 3 generators, group size: 8 - sparse size 101394 - took 0.056423 seconds\n",
      "Cbc0038I Initial state - 1161 integers unsatisfied sum - 278.447\n",
      "Cbc0038I Pass   1: (1.73 seconds) suminf.   87.13622 (284) obj. -4237.52 iterations 3245\n",
      "Cbc0038I Pass   2: (1.81 seconds) suminf.   46.85362 (110) obj. -3548.02 iterations 460\n",
      "Cbc0038I Pass   3: (1.82 seconds) suminf.   40.04460 (97) obj. -3488.52 iterations 61\n",
      "Cbc0038I Pass   4: (1.82 seconds) suminf.   37.89598 (95) obj. -3484.44 iterations 23\n",
      "Cbc0038I Pass   5: (1.83 seconds) suminf.   36.91035 (94) obj. -3475.11 iterations 48\n",
      "Cbc0038I Pass   6: (1.85 seconds) suminf.   33.49012 (82) obj. -3357.47 iterations 97\n",
      "Cbc0038I Pass   7: (1.86 seconds) suminf.   32.78893 (83) obj. -3358 iterations 76\n",
      "Cbc0038I Pass   8: (1.87 seconds) suminf.   30.07705 (73) obj. -3341.38 iterations 82\n",
      "Cbc0038I Pass   9: (1.88 seconds) suminf.   30.00715 (73) obj. -3341.74 iterations 34\n",
      "Cbc0038I Pass  10: (1.89 seconds) suminf.   29.89931 (77) obj. -3345.81 iterations 69\n",
      "Cbc0038I Pass  11: (1.90 seconds) suminf.   30.00715 (73) obj. -3341.74 iterations 61\n",
      "Cbc0038I Pass  12: (1.99 seconds) suminf.   58.39230 (167) obj. -3282 iterations 533\n",
      "Cbc0038I Pass  13: (2.05 seconds) suminf.   28.39067 (74) obj. -3282 iterations 310\n",
      "Cbc0038I Pass  14: (2.05 seconds) suminf.   27.25817 (74) obj. -3282 iterations 28\n",
      "Cbc0038I Pass  15: (2.06 seconds) suminf.   25.16452 (78) obj. -3282 iterations 54\n",
      "Cbc0038I Pass  16: (2.07 seconds) suminf.   24.51957 (66) obj. -3282 iterations 30\n",
      "Cbc0038I Pass  17: (2.08 seconds) suminf.   24.50153 (69) obj. -3282 iterations 12\n",
      "Cbc0038I Pass  18: (2.09 seconds) suminf.   23.21391 (69) obj. -3282 iterations 61\n",
      "Cbc0038I Pass  19: (2.10 seconds) suminf.   22.84212 (63) obj. -3282 iterations 30\n",
      "Cbc0038I Pass  20: (2.11 seconds) suminf.   22.71025 (61) obj. -3282 iterations 24\n",
      "Cbc0038I Pass  21: (2.11 seconds) suminf.   22.03717 (65) obj. -3282 iterations 47\n",
      "Cbc0038I Pass  22: (2.12 seconds) suminf.   21.93805 (62) obj. -3282 iterations 21\n",
      "Cbc0038I Pass  23: (2.13 seconds) suminf.   18.05764 (55) obj. -3282 iterations 67\n",
      "Cbc0038I Pass  24: (2.14 seconds) suminf.   17.40644 (48) obj. -3282 iterations 24\n",
      "Cbc0038I Pass  25: (2.15 seconds) suminf.   14.03074 (44) obj. -3282 iterations 73\n",
      "Cbc0038I Pass  26: (2.16 seconds) suminf.   13.67773 (43) obj. -3282 iterations 33\n",
      "Cbc0038I Pass  27: (2.17 seconds) suminf.   13.89980 (50) obj. -3282 iterations 46\n",
      "Cbc0038I Pass  28: (2.18 seconds) suminf.   13.50581 (40) obj. -3282 iterations 35\n",
      "Cbc0038I Pass  29: (2.19 seconds) suminf.   13.22794 (47) obj. -3282 iterations 47\n",
      "Cbc0038I Pass  30: (2.20 seconds) suminf.   12.99241 (51) obj. -3282 iterations 28\n",
      "Cbc0038I No solution found this major pass\n",
      "Cbc0038I Before mini branch and bound, 0 integers at bound fixed and 0 continuous\n",
      "Cbc0038I Full problem 10811 rows 1161 columns, reduced to 10811 rows 1161 columns - too large\n",
      "Cbc0038I Mini branch and bound did not improve solution (2.23 seconds)\n",
      "Cbc0038I After 2.75 seconds - Feasibility pump exiting - took 1.89 seconds\n",
      "Cbc0013I At root node, 0 cuts changed objective from -6082 to -6082 in 1 passes\n",
      "Cbc0014I Cut generator 0 (Probing) - 0 row cuts average 0.0 elements, 0 column cuts (0 active)  in 0.028 seconds - new frequency is -100\n",
      "Cbc0014I Cut generator 1 (Gomory) - 0 row cuts average 0.0 elements, 0 column cuts (0 active)  in 0.046 seconds - new frequency is -100\n",
      "Cbc0014I Cut generator 2 (Knapsack) - 0 row cuts average 0.0 elements, 0 column cuts (0 active)  in 0.004 seconds - new frequency is -100\n",
      "Cbc0014I Cut generator 3 (Clique) - 0 row cuts average 0.0 elements, 0 column cuts (0 active)  in 0.015 seconds - new frequency is -100\n",
      "Cbc0014I Cut generator 4 (OddWheel) - 0 row cuts average 0.0 elements, 0 column cuts (0 active)  in 0.180 seconds - new frequency is -100\n",
      "Cbc0014I Cut generator 5 (MixedIntegerRounding2) - 0 row cuts average 0.0 elements, 0 column cuts (0 active)  in 0.007 seconds - new frequency is -100\n",
      "Cbc0014I Cut generator 6 (FlowCover) - 0 row cuts average 0.0 elements, 0 column cuts (0 active)  in 0.000 seconds - new frequency is -100\n",
      "Cbc0010I After 0 nodes, 1 on tree, 1e+50 best solution, best possible -6082 (6.01 seconds)\n",
      "Cbc0010I After 2 nodes, 1 on tree, 1e+50 best solution, best possible -6081.6401 (7.21 seconds)\n",
      "Cbc0010I After 3 nodes, 2 on tree, 1e+50 best solution, best possible -6081.6401 (8.53 seconds)\n",
      "Cbc0010I After 4 nodes, 2 on tree, 1e+50 best solution, best possible -6081.6401 (11.96 seconds)\n",
      "Cbc0010I After 5 nodes, 2 on tree, 1e+50 best solution, best possible -6081.6401 (13.04 seconds)\n",
      "Cbc0010I After 7 nodes, 1 on tree, 1e+50 best solution, best possible -6081.6401 (14.22 seconds)\n",
      "Cbc0010I After 8 nodes, 2 on tree, 1e+50 best solution, best possible -6081.6401 (15.12 seconds)\n",
      "Cbc0010I After 10 nodes, 1 on tree, 1e+50 best solution, best possible -6081.28 (16.72 seconds)\n",
      "Cbc0010I After 12 nodes, 2 on tree, 1e+50 best solution, best possible -6081.28 (17.91 seconds)\n",
      "Cbc0010I After 13 nodes, 2 on tree, 1e+50 best solution, best possible -6081.28 (18.69 seconds)\n",
      "Cbc0010I After 16 nodes, 1 on tree, 1e+50 best solution, best possible -6081.28 (20.62 seconds)\n",
      "Cbc0010I After 19 nodes, 2 on tree, 1e+50 best solution, best possible -6081.28 (21.54 seconds)\n",
      "Cbc0010I After 22 nodes, 1 on tree, 1e+50 best solution, best possible -6081.28 (22.83 seconds)\n",
      "Cbc0010I After 25 nodes, 2 on tree, 1e+50 best solution, best possible -6081.28 (23.89 seconds)\n",
      "Cbc0010I After 27 nodes, 2 on tree, 1e+50 best solution, best possible -6081.28 (25.65 seconds)\n",
      "Cbc0010I After 30 nodes, 4 on tree, 1e+50 best solution, best possible -6081.28 (26.76 seconds)\n",
      "Cbc0010I After 33 nodes, 6 on tree, 1e+50 best solution, best possible -6080.9197 (27.89 seconds)\n",
      "Cbc0010I After 36 nodes, 9 on tree, 1e+50 best solution, best possible -6080.9197 (28.60 seconds)\n",
      "Cbc0010I After 39 nodes, 12 on tree, 1e+50 best solution, best possible -6080.9197 (29.53 seconds)\n",
      "Cbc0010I After 44 nodes, 16 on tree, 1e+50 best solution, best possible -6080.9197 (30.31 seconds)\n",
      "Cbc0010I After 47 nodes, 18 on tree, 1e+50 best solution, best possible -6080.9197 (31.20 seconds)\n",
      "Cbc0010I After 51 nodes, 20 on tree, 1e+50 best solution, best possible -6080.9197 (32.14 seconds)\n",
      "Cbc0010I After 54 nodes, 21 on tree, 1e+50 best solution, best possible -6080.9197 (33.00 seconds)\n",
      "Cbc0010I After 62 nodes, 27 on tree, 1e+50 best solution, best possible -6080.9197 (34.00 seconds)\n",
      "Cbc0010I After 68 nodes, 32 on tree, 1e+50 best solution, best possible -6080.9197 (34.78 seconds)\n",
      "Cbc0010I After 70 nodes, 34 on tree, 1e+50 best solution, best possible -6080.9197 (35.69 seconds)\n",
      "Cbc0010I After 74 nodes, 37 on tree, 1e+50 best solution, best possible -6080.9197 (36.81 seconds)\n",
      "Cbc0010I After 77 nodes, 39 on tree, 1e+50 best solution, best possible -6080.9197 (37.60 seconds)\n",
      "Cbc0010I After 81 nodes, 42 on tree, 1e+50 best solution, best possible -6080.9197 (38.39 seconds)\n",
      "Cbc0010I After 84 nodes, 43 on tree, 1e+50 best solution, best possible -6080.9197 (39.11 seconds)\n",
      "Cbc0010I After 88 nodes, 46 on tree, 1e+50 best solution, best possible -6080.9197 (39.98 seconds)\n",
      "Cbc0010I After 95 nodes, 50 on tree, 1e+50 best solution, best possible -6080.9197 (40.73 seconds)\n",
      "Cbc0010I After 101 nodes, 56 on tree, 1e+50 best solution, best possible -6080.9197 (41.48 seconds)\n",
      "Cbc0010I After 107 nodes, 60 on tree, 1e+50 best solution, best possible -6080.9197 (42.37 seconds)\n",
      "Cbc0010I After 115 nodes, 66 on tree, 1e+50 best solution, best possible -6080.9197 (43.13 seconds)\n",
      "Cbc0010I After 118 nodes, 68 on tree, 1e+50 best solution, best possible -6080.9197 (43.93 seconds)\n",
      "Cbc0010I After 125 nodes, 73 on tree, 1e+50 best solution, best possible -6080.9197 (44.77 seconds)\n",
      "Cbc0010I After 134 nodes, 77 on tree, 1e+50 best solution, best possible -6080.9197 (45.63 seconds)\n",
      "Cbc0010I After 139 nodes, 81 on tree, 1e+50 best solution, best possible -6080.9197 (46.53 seconds)\n",
      "Cbc0010I After 145 nodes, 85 on tree, 1e+50 best solution, best possible -6080.9197 (47.34 seconds)\n",
      "Cbc0010I After 155 nodes, 88 on tree, 1e+50 best solution, best possible -6080.9197 (48.06 seconds)\n",
      "Cbc0010I After 160 nodes, 91 on tree, 1e+50 best solution, best possible -6080.9197 (48.84 seconds)\n",
      "Cbc0010I After 168 nodes, 98 on tree, 1e+50 best solution, best possible -6080.9197 (49.64 seconds)\n",
      "Cbc0010I After 176 nodes, 104 on tree, 1e+50 best solution, best possible -6080.9197 (50.59 seconds)\n",
      "Cbc0010I After 186 nodes, 109 on tree, 1e+50 best solution, best possible -6080.9197 (51.33 seconds)\n",
      "Cbc0010I After 193 nodes, 115 on tree, 1e+50 best solution, best possible -6080.9197 (52.18 seconds)\n",
      "Cbc0010I After 206 nodes, 123 on tree, 1e+50 best solution, best possible -6080.9197 (53.06 seconds)\n",
      "Cbc0010I After 217 nodes, 132 on tree, 1e+50 best solution, best possible -6080.9197 (53.96 seconds)\n",
      "Cbc0010I After 226 nodes, 136 on tree, 1e+50 best solution, best possible -6080.9197 (54.74 seconds)\n",
      "Cbc0010I After 239 nodes, 144 on tree, 1e+50 best solution, best possible -6080.9197 (55.47 seconds)\n",
      "Cbc0010I After 251 nodes, 149 on tree, 1e+50 best solution, best possible -6080.9197 (56.27 seconds)\n",
      "Cbc0010I After 268 nodes, 155 on tree, 1e+50 best solution, best possible -6080.9197 (57.12 seconds)\n",
      "Cbc0010I After 289 nodes, 168 on tree, 1e+50 best solution, best possible -6080.9197 (57.95 seconds)\n",
      "Cbc0010I After 309 nodes, 174 on tree, 1e+50 best solution, best possible -6080.9197 (58.67 seconds)\n",
      "Cbc0010I After 328 nodes, 173 on tree, 1e+50 best solution, best possible -6080.9197 (59.46 seconds)\n",
      "Cbc0010I After 351 nodes, 181 on tree, 1e+50 best solution, best possible -6080.9197 (60.19 seconds)\n",
      "Cbc0004I Integer solution of -3284 found after 156839 iterations and 377 nodes (60.90 seconds)\n",
      "Cbc0012I Integer solution of -3284 found by heuristic after 157558 iterations and 378 nodes (60.90 seconds)\n",
      "Cbc0010I After 379 nodes, 197 on tree, -3284 best solution, best possible -6080.9197 (60.90 seconds)\n",
      "Cbc0004I Integer solution of -3284 found after 154323 iterations and 346 nodes (60.97 seconds)\n",
      "Cbc0012I Integer solution of -3390 found by heuristic after 157640 iterations and 380 nodes (61.91 seconds)\n",
      "Cbc0030I Thread 0 used 30 times,  waiting to start 0.8841145,  149 locks, 0.0011029243 locked, 3.2901764e-05 waiting for locks\n",
      "Cbc0030I Thread 1 used 29 times,  waiting to start 1.3851204,  142 locks, 0.001131773 locked, 3.2901764e-05 waiting for locks\n",
      "Cbc0030I Thread 2 used 24 times,  waiting to start 3.2346435,  119 locks, 0.0010251999 locked, 3.0994415e-05 waiting for locks\n",
      "Cbc0030I Thread 3 used 25 times,  waiting to start 6.8744073,  123 locks, 0.00096821785 locked, 3.0994415e-05 waiting for locks\n",
      "Cbc0030I Thread 4 used 26 times,  waiting to start 8.0865619,  129 locks, 0.0010609627 locked, 0.00019717216 waiting for locks\n",
      "Cbc0030I Thread 5 used 22 times,  waiting to start 9.1470482,  112 locks, 0.0051388741 locked, 2.5987625e-05 waiting for locks\n",
      "Cbc0030I Thread 6 used 29 times,  waiting to start 10.768192,  142 locks, 0.0012004375 locked, 3.8862228e-05 waiting for locks\n",
      "Cbc0030I Thread 7 used 29 times,  waiting to start 12.052212,  144 locks, 0.001139164 locked, 3.7908554e-05 waiting for locks\n",
      "Cbc0030I Thread 8 used 23 times,  waiting to start 12.688021,  111 locks, 0.0012397766 locked, 2.9325485e-05 waiting for locks\n",
      "Cbc0030I Thread 9 used 22 times,  waiting to start 13.536081,  109 locks, 0.00085425377 locked, 2.5749207e-05 waiting for locks\n",
      "Cbc0030I Thread 10 used 23 times,  waiting to start 13.976015,  113 locks, 0.0037610531 locked, 3.1471252e-05 waiting for locks\n",
      "Cbc0030I Thread 11 used 18 times,  waiting to start 15.62985,  87 locks, 0.00079250336 locked, 2.2649765e-05 waiting for locks\n",
      "Cbc0030I Thread 12 used 23 times,  waiting to start 15.925876,  114 locks, 0.00095057487 locked, 3.027916e-05 waiting for locks\n",
      "Cbc0030I Thread 13 used 28 times,  waiting to start 16.534795,  138 locks, 0.0012464523 locked, 3.3140182e-05 waiting for locks\n",
      "Cbc0030I Thread 14 used 18 times,  waiting to start 16.473678,  89 locks, 0.00069880486 locked, 1.7166138e-05 waiting for locks\n",
      "Cbc0030I Thread 15 used 26 times,  waiting to start 16.781872,  128 locks, 0.0010666847 locked, 2.9802322e-05 waiting for locks\n",
      "Cbc0030I Main thread 54.80454 waiting for threads,  862 locks, 0.00091266632 locked, 4.3153763e-05 waiting for locks\n",
      "Cbc0011I Exiting as integer gap of 2690.9197 less than 1e-10 or 50%\n",
      "Cbc0045I Orbital branching succeeded 37 times - average extra   0.027, fixing (0,   0.000)\n",
      "Cbc0001I Search completed - best objective -3390, took 157640 iterations and 380 nodes (61.92 seconds)\n",
      "Cbc0032I Strong branching done 7196 times (527182 iterations), fathomed 16 nodes and fixed 36 variables\n",
      "Cbc0035I Maximum depth 30, 0 variables fixed on reduced cost\n",
      "Total time (CPU seconds):       701.36   (Wallclock seconds):       62.43\n",
      "\n"
     ]
    }
   ],
   "source": [
    "model = min_vertex_k_cut.trisect_connected_graph(coarsed_main_component, part_min_frac=0.18, emphasis=1, max_mip_gap=0.5)"
   ]
  },
  {
   "cell_type": "code",
   "execution_count": 8,
   "metadata": {},
   "outputs": [
    {
     "data": {
      "text/plain": [
       "<OptimizationStatus.OPTIMAL: 0>"
      ]
     },
     "execution_count": 8,
     "metadata": {},
     "output_type": "execute_result"
    }
   ],
   "source": [
    "model.status"
   ]
  },
  {
   "cell_type": "code",
   "execution_count": 9,
   "metadata": {},
   "outputs": [
    {
     "name": "stdout",
     "output_type": "stream",
     "text": [
      "[2692 1098 1194 1098]\n"
     ]
    }
   ],
   "source": [
    "split = min_vertex_k_cut.process_trisect_results(model, coarsed_main_component, main_component, node_to_cluster)"
   ]
  },
  {
   "cell_type": "code",
   "execution_count": 10,
   "metadata": {},
   "outputs": [],
   "source": [
    "first_idx = []\n",
    "second_idx = []\n",
    "third_idx = []\n",
    "\n",
    "for S_idx, partition in enumerate(split):\n",
    "    G_idx = new_nodes_to_old[S_idx]\n",
    "    if partition == 0:\n",
    "        first_idx.append(G_idx)\n",
    "    if partition == 1:\n",
    "        second_idx.append(G_idx)\n",
    "    if partition == 2:\n",
    "        third_idx.append(G_idx)"
   ]
  },
  {
   "cell_type": "code",
   "execution_count": 16,
   "metadata": {},
   "outputs": [],
   "source": [
    "for component in small_components:\n",
    "    i = np.argmin([len(first_idx), len(second_idx), len(third_idx)])\n",
    "    if i == 0:\n",
    "        first_idx.extend(component)\n",
    "    if i == 1:\n",
    "        second_idx.extend(component)\n",
    "    if i == 2:\n",
    "        third_idx.extend(component)"
   ]
  },
  {
   "cell_type": "code",
   "execution_count": 17,
   "metadata": {},
   "outputs": [
    {
     "data": {
      "text/plain": [
       "[1191, 1194, 1190]"
      ]
     },
     "execution_count": 17,
     "metadata": {},
     "output_type": "execute_result"
    }
   ],
   "source": [
    "[len(first_idx), len(second_idx), len(third_idx)]"
   ]
  },
  {
   "cell_type": "code",
   "execution_count": 19,
   "metadata": {},
   "outputs": [],
   "source": [
    "part_first = drd2_hi.iloc[first_idx]\n",
    "part_second = drd2_hi.iloc[second_idx]\n",
    "part_third = drd2_hi.iloc[third_idx]\n"
   ]
  },
  {
   "cell_type": "code",
   "execution_count": 21,
   "metadata": {},
   "outputs": [
    {
     "data": {
      "text/plain": [
       "<matplotlib_venn._common.VennDiagram at 0x7f65a3cdd300>"
      ]
     },
     "execution_count": 21,
     "metadata": {},
     "output_type": "execute_result"
    },
    {
     "data": {
      "image/png": "[encoded data removed]",
      "text/plain": [
       "<Figure size 640x480 with 1 Axes>"
      ]
     },
     "metadata": {},
     "output_type": "display_data"
    }
   ],
   "source": [
    "venn3([\n",
    "    set(part_first['smiles'].tolist()),\n",
    "    set(part_second['smiles'].tolist()),\n",
    "    set(part_third['smiles'].tolist()),\n",
    "])"
   ]
  },
  {
   "cell_type": "code",
   "execution_count": 23,
   "metadata": {},
   "outputs": [],
   "source": [
    "train_1 = pd.concat([part_first, part_second])\n",
    "test_1 = part_third.copy()\n",
    "\n",
    "train_2 = pd.concat([part_first, part_third])\n",
    "test_2 = part_second.copy()\n",
    "\n",
    "train_3 = pd.concat([part_second, part_third])\n",
    "test_3 = part_first.copy()"
   ]
  },
  {
   "cell_type": "code",
   "execution_count": 24,
   "metadata": {},
   "outputs": [],
   "source": [
    "min_vertex_k_cut.test_split(train_1['smiles'], test_1['smiles'], threshold=0.4)"
   ]
  },
  {
   "cell_type": "code",
   "execution_count": 25,
   "metadata": {},
   "outputs": [],
   "source": [
    "min_vertex_k_cut.test_split(train_2['smiles'], test_2['smiles'], threshold=0.4)"
   ]
  },
  {
   "cell_type": "code",
   "execution_count": 26,
   "metadata": {},
   "outputs": [],
   "source": [
    "min_vertex_k_cut.test_split(train_3['smiles'], test_3['smiles'], threshold=0.4)"
   ]
  },
  {
   "cell_type": "code",
   "execution_count": 27,
   "metadata": {},
   "outputs": [
    {
     "data": {
      "text/plain": [
       "<matplotlib_venn._common.VennDiagram at 0x7f65a3cc23b0>"
      ]
     },
     "execution_count": 27,
     "metadata": {},
     "output_type": "execute_result"
    },
    {
     "data": {
      "image/png": "[encoded data removed]",
      "text/plain": [
       "<Figure size 640x480 with 1 Axes>"
      ]
     },
     "metadata": {},
     "output_type": "display_data"
    }
   ],
   "source": [
    "venn3([\n",
    "    set(test_1['smiles'].tolist()),\n",
    "    set(test_2['smiles'].tolist()),\n",
    "    set(test_3['smiles'].tolist()),\n",
    "])"
   ]
  },
  {
   "cell_type": "code",
   "execution_count": 28,
   "metadata": {},
   "outputs": [
    {
     "data": {
      "text/plain": [
       "<matplotlib_venn._common.VennDiagram at 0x7f65a40c5cc0>"
      ]
     },
     "execution_count": 28,
     "metadata": {},
     "output_type": "execute_result"
    },
    {
     "data": {
      "image/png": "[encoded data removed]",
      "text/plain": [
       "<Figure size 640x480 with 1 Axes>"
      ]
     },
     "metadata": {},
     "output_type": "display_data"
    }
   ],
   "source": [
    "venn3([\n",
    "    set(train_1['smiles'].tolist()),\n",
    "    set(train_2['smiles'].tolist()),\n",
    "    set(train_3['smiles'].tolist()),\n",
    "])"
   ]
  },
  {
   "cell_type": "code",
   "execution_count": 29,
   "metadata": {},
   "outputs": [],
   "source": [
    "train_1.to_csv('../../data/hi/drd2/train_1.csv')\n",
    "train_2.to_csv('../../data/hi/drd2/train_2.csv')\n",
    "train_3.to_csv('../../data/hi/drd2/train_3.csv')"
   ]
  },
  {
   "cell_type": "code",
   "execution_count": 30,
   "metadata": {},
   "outputs": [],
   "source": [
    "test_1.to_csv('../../data/hi/drd2/test_1.csv')\n",
    "test_2.to_csv('../../data/hi/drd2/test_2.csv')\n",
    "test_3.to_csv('../../data/hi/drd2/test_3.csv')"
   ]
  },
  {
   "cell_type": "code",
   "execution_count": null,
   "metadata": {},
   "outputs": [],
   "source": []
  }
 ],
 "metadata": {
  "kernelspec": {
   "display_name": "lohi_benchmark",
   "language": "python",
   "name": "python3"
  },
  "language_info": {
   "codemirror_mode": {
    "name": "ipython",
    "version": 3
   },
   "file_extension": ".py",
   "mimetype": "text/x-python",
   "name": "python",
   "nbconvert_exporter": "python",
   "pygments_lexer": "ipython3",
   "version": "3.10.9"
  },
  "orig_nbformat": 4
 },
 "nbformat": 4,
 "nbformat_minor": 2
}
