{
 "cells": [
  {
   "cell_type": "code",
   "execution_count": 1,
   "metadata": {},
   "outputs": [],
   "source": [
    "import pandas as pd"
   ]
  },
  {
   "cell_type": "code",
   "execution_count": 4,
   "metadata": {},
   "outputs": [],
   "source": [
    "files = [\n",
    "    '/data/steshin/gero_benchmark/data/hi/hiv/train_1.csv',\n",
    "    '/data/steshin/gero_benchmark/data/hi/hiv/train_2.csv',\n",
    "    '/data/steshin/gero_benchmark/data/hi/hiv/train_3.csv',\n",
    "]\n",
    "\n",
    "results = []\n",
    "\n",
    "for file in files:\n",
    "    train = pd.read_csv(file)\n",
    "    df_majority = train[train.value==0]\n",
    "    df_minority = train[train.value==1]\n",
    "    count_majority = len(df_majority)\n",
    "    count_minority = len(df_minority)\n",
    "    df_minority_oversampled = df_minority.sample(int(count_majority * 0.66), replace=True)\n",
    "    df_oversampled = pd.concat([df_majority, df_minority_oversampled])\n",
    "    results.append(df_oversampled)\n"
   ]
  },
  {
   "cell_type": "code",
   "execution_count": 5,
   "metadata": {},
   "outputs": [
    {
     "data": {
      "text/html": [
       "<div>\n",
       "<style scoped>\n",
       "    .dataframe tbody tr th:only-of-type {\n",
       "        vertical-align: middle;\n",
       "    }\n",
       "\n",
       "    .dataframe tbody tr th {\n",
       "        vertical-align: top;\n",
       "    }\n",
       "\n",
       "    .dataframe thead th {\n",
       "        text-align: right;\n",
       "    }\n",
       "</style>\n",
       "<table border=\"1\" class=\"dataframe\">\n",
       "  <thead>\n",
       "    <tr style=\"text-align: right;\">\n",
       "      <th></th>\n",
       "      <th>Unnamed: 0</th>\n",
       "      <th>smiles</th>\n",
       "      <th>value</th>\n",
       "    </tr>\n",
       "  </thead>\n",
       "  <tbody>\n",
       "    <tr>\n",
       "      <th>0</th>\n",
       "      <td>4</td>\n",
       "      <td>O=S(=O)(O)CCS(=O)(=O)O</td>\n",
       "      <td>0</td>\n",
       "    </tr>\n",
       "    <tr>\n",
       "      <th>1</th>\n",
       "      <td>21</td>\n",
       "      <td>CC(C)CCS(=O)(=O)O</td>\n",
       "      <td>0</td>\n",
       "    </tr>\n",
       "    <tr>\n",
       "      <th>2</th>\n",
       "      <td>90</td>\n",
       "      <td>O=S(=O)(O)CCO</td>\n",
       "      <td>0</td>\n",
       "    </tr>\n",
       "    <tr>\n",
       "      <th>3</th>\n",
       "      <td>106</td>\n",
       "      <td>O=S(=O)(O)CO</td>\n",
       "      <td>0</td>\n",
       "    </tr>\n",
       "    <tr>\n",
       "      <th>4</th>\n",
       "      <td>117</td>\n",
       "      <td>O=S(=O)(O)CCCCBr</td>\n",
       "      <td>0</td>\n",
       "    </tr>\n",
       "    <tr>\n",
       "      <th>...</th>\n",
       "      <td>...</td>\n",
       "      <td>...</td>\n",
       "      <td>...</td>\n",
       "    </tr>\n",
       "    <tr>\n",
       "      <th>12040</th>\n",
       "      <td>28612</td>\n",
       "      <td>COc1cc(Nc2n[nH]c(NS(=O)(=O)c3cc(C)c(Cl)cc3S)n2...</td>\n",
       "      <td>1</td>\n",
       "    </tr>\n",
       "    <tr>\n",
       "      <th>15556</th>\n",
       "      <td>38268</td>\n",
       "      <td>COC(c1ccc(O)cc1)C1NC(=O)C(CCC(N)=O)N(C)C(=O)C(...</td>\n",
       "      <td>1</td>\n",
       "    </tr>\n",
       "    <tr>\n",
       "      <th>1130</th>\n",
       "      <td>31867</td>\n",
       "      <td>COC(=O)Cc1cc(O)c(CC=C(C)CCC=C(C)C(O)C(=O)C=C(C...</td>\n",
       "      <td>1</td>\n",
       "    </tr>\n",
       "    <tr>\n",
       "      <th>3189</th>\n",
       "      <td>18862</td>\n",
       "      <td>CCCCC(C)CCCC1=C(O)C(=CC(=O)O)OC1=O</td>\n",
       "      <td>1</td>\n",
       "    </tr>\n",
       "    <tr>\n",
       "      <th>692</th>\n",
       "      <td>28435</td>\n",
       "      <td>O=C(O)c1cccc(S(=O)(=O)NN2C(=O)CSC2c2ccccc2Cl)c1</td>\n",
       "      <td>1</td>\n",
       "    </tr>\n",
       "  </tbody>\n",
       "</table>\n",
       "<p>25061 rows × 3 columns</p>\n",
       "</div>"
      ],
      "text/plain": [
       "       Unnamed: 0                                             smiles  value\n",
       "0               4                             O=S(=O)(O)CCS(=O)(=O)O      0\n",
       "1              21                                  CC(C)CCS(=O)(=O)O      0\n",
       "2              90                                      O=S(=O)(O)CCO      0\n",
       "3             106                                       O=S(=O)(O)CO      0\n",
       "4             117                                   O=S(=O)(O)CCCCBr      0\n",
       "...           ...                                                ...    ...\n",
       "12040       28612  COc1cc(Nc2n[nH]c(NS(=O)(=O)c3cc(C)c(Cl)cc3S)n2...      1\n",
       "15556       38268  COC(c1ccc(O)cc1)C1NC(=O)C(CCC(N)=O)N(C)C(=O)C(...      1\n",
       "1130        31867  COC(=O)Cc1cc(O)c(CC=C(C)CCC=C(C)C(O)C(=O)C=C(C...      1\n",
       "3189        18862                 CCCCC(C)CCCC1=C(O)C(=CC(=O)O)OC1=O      1\n",
       "692         28435    O=C(O)c1cccc(S(=O)(=O)NN2C(=O)CSC2c2ccccc2Cl)c1      1\n",
       "\n",
       "[25061 rows x 3 columns]"
      ]
     },
     "execution_count": 5,
     "metadata": {},
     "output_type": "execute_result"
    }
   ],
   "source": [
    "results[0]"
   ]
  },
  {
   "cell_type": "code",
   "execution_count": 6,
   "metadata": {},
   "outputs": [],
   "source": [
    "results[0].to_csv('/data/steshin/gero_benchmark/data/raw/hiv_oversampled_train_1.csv')\n",
    "results[1].to_csv('/data/steshin/gero_benchmark/data/raw/hiv_oversampled_train_2.csv')\n",
    "results[2].to_csv('/data/steshin/gero_benchmark/data/raw/hiv_oversampled_train_3.csv')"
   ]
  },
  {
   "cell_type": "code",
   "execution_count": null,
   "metadata": {},
   "outputs": [],
   "source": []
  }
 ],
 "metadata": {
  "kernelspec": {
   "display_name": "lohi_benchmark",
   "language": "python",
   "name": "python3"
  },
  "language_info": {
   "codemirror_mode": {
    "name": "ipython",
    "version": 3
   },
   "file_extension": ".py",
   "mimetype": "text/x-python",
   "name": "python",
   "nbconvert_exporter": "python",
   "pygments_lexer": "ipython3",
   "version": "3.10.9"
  },
  "orig_nbformat": 4
 },
 "nbformat": 4,
 "nbformat_minor": 2
}
