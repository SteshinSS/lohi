{
 "cells": [
  {
   "cell_type": "code",
   "execution_count": 1,
   "metadata": {},
   "outputs": [],
   "source": [
    "import pandas as pd\n",
    "import numpy as np\n",
    "import matplotlib.pyplot as plt\n",
    "from rdkit import Chem, DataStructs\n",
    "from rdkit.Chem import AllChem\n",
    "from rdkit.ML.Cluster import Butina\n",
    "\n",
    "from matplotlib_venn import venn3\n",
    "import networkx as nx"
   ]
  },
  {
   "cell_type": "code",
   "execution_count": 2,
   "metadata": {},
   "outputs": [],
   "source": [
    "import sys\n",
    "sys.path.append('../../code')\n",
    "\n",
    "import min_vertex_k_cut"
   ]
  },
  {
   "cell_type": "code",
   "execution_count": 3,
   "metadata": {},
   "outputs": [],
   "source": [
    "raw = pd.read_csv('../../data/raw/ADME_public_set_3521.csv')\n",
    "raw = raw.dropna(subset=['LOG SOLUBILITY PH 6.8 (ug/mL)'])\n",
    "solubility = np.array(raw['LOG SOLUBILITY PH 6.8 (ug/mL)'].to_list())\n",
    "solubility = solubility < 1.0\n",
    "smiles = raw['SMILES'].to_list()"
   ]
  },
  {
   "cell_type": "code",
   "execution_count": 4,
   "metadata": {},
   "outputs": [
    {
     "data": {
      "text/html": [
       "<div>\n",
       "<style scoped>\n",
       "    .dataframe tbody tr th:only-of-type {\n",
       "        vertical-align: middle;\n",
       "    }\n",
       "\n",
       "    .dataframe tbody tr th {\n",
       "        vertical-align: top;\n",
       "    }\n",
       "\n",
       "    .dataframe thead th {\n",
       "        text-align: right;\n",
       "    }\n",
       "</style>\n",
       "<table border=\"1\" class=\"dataframe\">\n",
       "  <thead>\n",
       "    <tr style=\"text-align: right;\">\n",
       "      <th></th>\n",
       "      <th>smiles</th>\n",
       "      <th>value</th>\n",
       "    </tr>\n",
       "  </thead>\n",
       "  <tbody>\n",
       "    <tr>\n",
       "      <th>0</th>\n",
       "      <td>CNc1cc(Nc2cccn(-c3ccccn3)c2=O)nn2c(C(=O)N[C@@H...</td>\n",
       "      <td>True</td>\n",
       "    </tr>\n",
       "    <tr>\n",
       "      <th>1</th>\n",
       "      <td>CCOc1cc2nn(CCC(C)(C)O)cc2cc1NC(=O)c1cccc(C(F)F)n1</td>\n",
       "      <td>True</td>\n",
       "    </tr>\n",
       "    <tr>\n",
       "      <th>2</th>\n",
       "      <td>CC(C)(Oc1ccc(-c2cnc(N)c(-c3ccc(Cl)cc3)c2)cc1)C...</td>\n",
       "      <td>False</td>\n",
       "    </tr>\n",
       "    <tr>\n",
       "      <th>3</th>\n",
       "      <td>CC#CC(=O)N[C@H]1CCCN(c2c(F)cc(C(N)=O)c3[nH]c(C...</td>\n",
       "      <td>False</td>\n",
       "    </tr>\n",
       "    <tr>\n",
       "      <th>4</th>\n",
       "      <td>C=CC(=O)N1CCC[C@@H](n2nc(-c3ccc(Oc4ccccc4)cc3)...</td>\n",
       "      <td>True</td>\n",
       "    </tr>\n",
       "    <tr>\n",
       "      <th>...</th>\n",
       "      <td>...</td>\n",
       "      <td>...</td>\n",
       "    </tr>\n",
       "    <tr>\n",
       "      <th>2168</th>\n",
       "      <td>Cc1cc(C)cc(C(=O)NCCCNc2ncccn2)c1</td>\n",
       "      <td>False</td>\n",
       "    </tr>\n",
       "    <tr>\n",
       "      <th>2169</th>\n",
       "      <td>CCc1noc(COc2c(C)ccnc2Cl)n1</td>\n",
       "      <td>False</td>\n",
       "    </tr>\n",
       "    <tr>\n",
       "      <th>2170</th>\n",
       "      <td>CC(C)(C)Cc1nnc(-c2cnc3onc(C4CCCC4)c3c2)o1</td>\n",
       "      <td>True</td>\n",
       "    </tr>\n",
       "    <tr>\n",
       "      <th>2171</th>\n",
       "      <td>Cc1nonc1C(=O)NCCc1c[nH]c2cccc(C3(O)CCOCC3)c12</td>\n",
       "      <td>False</td>\n",
       "    </tr>\n",
       "    <tr>\n",
       "      <th>2172</th>\n",
       "      <td>CN1CC(=O)N(CCOc2ccccc2)C1=O</td>\n",
       "      <td>False</td>\n",
       "    </tr>\n",
       "  </tbody>\n",
       "</table>\n",
       "<p>2173 rows × 2 columns</p>\n",
       "</div>"
      ],
      "text/plain": [
       "                                                 smiles  value\n",
       "0     CNc1cc(Nc2cccn(-c3ccccn3)c2=O)nn2c(C(=O)N[C@@H...   True\n",
       "1     CCOc1cc2nn(CCC(C)(C)O)cc2cc1NC(=O)c1cccc(C(F)F)n1   True\n",
       "2     CC(C)(Oc1ccc(-c2cnc(N)c(-c3ccc(Cl)cc3)c2)cc1)C...  False\n",
       "3     CC#CC(=O)N[C@H]1CCCN(c2c(F)cc(C(N)=O)c3[nH]c(C...  False\n",
       "4     C=CC(=O)N1CCC[C@@H](n2nc(-c3ccc(Oc4ccccc4)cc3)...   True\n",
       "...                                                 ...    ...\n",
       "2168                   Cc1cc(C)cc(C(=O)NCCCNc2ncccn2)c1  False\n",
       "2169                         CCc1noc(COc2c(C)ccnc2Cl)n1  False\n",
       "2170          CC(C)(C)Cc1nnc(-c2cnc3onc(C4CCCC4)c3c2)o1   True\n",
       "2171      Cc1nonc1C(=O)NCCc1c[nH]c2cccc(C3(O)CCOCC3)c12  False\n",
       "2172                        CN1CC(=O)N(CCOc2ccccc2)C1=O  False\n",
       "\n",
       "[2173 rows x 2 columns]"
      ]
     },
     "execution_count": 4,
     "metadata": {},
     "output_type": "execute_result"
    }
   ],
   "source": [
    "data = pd.DataFrame({\n",
    "    'smiles': smiles,\n",
    "    'value': solubility\n",
    "})\n",
    "data"
   ]
  },
  {
   "cell_type": "code",
   "execution_count": 5,
   "metadata": {},
   "outputs": [],
   "source": [
    "smiles = data['smiles'].to_list()\n",
    "threshold = 0.4\n",
    "\n",
    "neighborhood_graph = min_vertex_k_cut.get_neighborhood_graph(smiles, threshold)\n",
    "main_component, small_components = min_vertex_k_cut.get_main_component(neighborhood_graph)\n",
    "\n",
    "old_nodes_to_new = dict(zip(main_component.nodes(), range(main_component.number_of_nodes())))\n",
    "new_nodes_to_old = {v: k for k, v in old_nodes_to_new.items()}\n",
    "main_component = nx.relabel_nodes(main_component, old_nodes_to_new)"
   ]
  },
  {
   "cell_type": "code",
   "execution_count": 6,
   "metadata": {},
   "outputs": [
    {
     "name": "stdout",
     "output_type": "stream",
     "text": [
      "0.9 599 6.504173622704507\n",
      "0.8 581 6.209982788296041\n",
      "0.7 558 5.810035842293907\n",
      "0.6 507 4.986193293885601\n",
      "0.5 399 4.516290726817043\n",
      "0.4 203 4.354679802955665\n"
     ]
    }
   ],
   "source": [
    "for coarse_threhold in [0.90, 0.80, 0.70, 0.60, 0.50, 0.40]:\n",
    "    coarsed_main_component, _ = min_vertex_k_cut.coarse_graph(main_component, coarse_threhold)\n",
    "    node_degrees = list(dict(coarsed_main_component.degree()).values())\n",
    "    print(coarse_threhold, len(coarsed_main_component), np.mean(node_degrees))"
   ]
  },
  {
   "cell_type": "code",
   "execution_count": 7,
   "metadata": {},
   "outputs": [],
   "source": [
    "coarsed_main_component, node_to_cluster = min_vertex_k_cut.coarse_graph(main_component, 0.9)"
   ]
  },
  {
   "cell_type": "code",
   "execution_count": 8,
   "metadata": {},
   "outputs": [
    {
     "name": "stdout",
     "output_type": "stream",
     "text": [
      "Total molecules: 599\n",
      "Min size of a partition: 119\n",
      "Welcome to the CBC MILP Solver \n",
      "Version: Trunk\n",
      "Build Date: Oct 24 2021 \n",
      "\n",
      "Starting solution of the Linear programming relaxation problem using Primal Simplex\n",
      "\n",
      "Coin0506I Presolve 10493 (-1797) rows, 1797 (0) columns and 23376 (-3594) elements\n",
      "Clp0014I Perturbing problem by 0.001% of 1.0288039 - largest nonzero change 9.9998062e-05 ( 0.0099998062%) - largest zero change 0\n",
      "Clp0000I Optimal - objective value 599\n",
      "Coin0511I After Postsolve, objective 599, infeasibilities - dual 0 (0), primal 0 (0)\n",
      "Clp0032I Optimal objective 599 - 2511 iterations time 0.092, Presolve 0.00, Idiot 0.02\n",
      "\n",
      "Starting MIP optimization\n",
      "Cgl0003I 0 fixed, 0 tightened bounds, 7862 strengthened rows, 0 substitutions\n",
      "Cgl0003I 0 fixed, 0 tightened bounds, 1909 strengthened rows, 0 substitutions\n",
      "Cgl0003I 0 fixed, 0 tightened bounds, 120 strengthened rows, 0 substitutions\n",
      "Cgl0004I processed model has 8247 rows, 1797 columns (1797 integer (1797 of which binary)) and 26529 elements\n",
      "Coin3009W Conflict graph built in 0.001 seconds, density: 0.181%\n",
      "Cgl0015I Clique Strengthening extended 0 cliques, 0 were dominated\n",
      "Cbc0045I Nauty: 11829 orbits (3 useful covering 6 variables), 1 generators, group size: 2 - sparse size 83930 - took 0.041241 seconds\n",
      "Cbc0038I Initial state - 1797 integers unsatisfied sum - 476\n",
      "Cbc0038I Pass   1: (1.10 seconds) suminf.  476.00000 (1797) obj. -599 iterations 342\n",
      "Cbc0038I Pass   2: (1.17 seconds) suminf.  444.04242 (1775) obj. -597.133 iterations 216\n",
      "Cbc0038I Pass   3: (1.21 seconds) suminf.  433.61214 (1723) obj. -596.797 iterations 121\n",
      "Cbc0038I Pass   4: (1.23 seconds) suminf.  423.21184 (1711) obj. -596.788 iterations 36\n",
      "Cbc0038I Pass   5: (1.36 seconds) suminf.  383.01892 (1657) obj. -592.635 iterations 527\n",
      "Cbc0038I Pass   6: (1.44 seconds) suminf.  378.06679 (1628) obj. -590.933 iterations 259\n",
      "Cbc0038I Pass   7: (1.57 seconds) suminf.  323.25852 (1376) obj. -586.799 iterations 512\n",
      "Cbc0038I Pass   8: (1.69 seconds) suminf.  261.40580 (1194) obj. -584.249 iterations 551\n",
      "Cbc0038I Pass   9: (1.78 seconds) suminf.  186.40905 (1068) obj. -583.234 iterations 371\n",
      "Cbc0038I Pass  10: (1.83 seconds) suminf.  174.22049 (1015) obj. -582.33 iterations 196\n",
      "Cbc0038I Pass  11: (1.86 seconds) suminf.  170.69730 (889) obj. -582.303 iterations 82\n",
      "Cbc0038I Pass  12: (2.03 seconds) suminf.   11.00000 (33) obj. -577 iterations 974\n",
      "Cbc0038I Solution found of -574\n",
      "Cbc0038I Before mini branch and bound, 0 integers at bound fixed and 0 continuous\n",
      "Cbc0038I Full problem 8247 rows 1797 columns, reduced to 8247 rows 1797 columns - 167 fixed gives 1558, 672 - ok now\n",
      "Cbc0038I Full problem 8247 rows 1797 columns, reduced to 1558 rows 672 columns\n",
      "Cbc0038I Mini branch and bound improved solution from -574 to -580 (2.26 seconds)\n",
      "Cbc0038I Round again with cutoff of -582.8\n",
      "Cbc0038I Pass  13: (2.27 seconds) suminf.  476.00000 (1797) obj. -599 iterations 0\n",
      "Cbc0038I Pass  14: (2.35 seconds) suminf.  428.17525 (1754) obj. -596.736 iterations 230\n",
      "Cbc0038I Pass  15: (2.42 seconds) suminf.  391.13081 (1652) obj. -595.869 iterations 255\n",
      "Cbc0038I Pass  16: (2.50 seconds) suminf.  297.94189 (1592) obj. -593.754 iterations 295\n",
      "Cbc0038I Pass  17: (2.58 seconds) suminf.  237.13646 (1426) obj. -592.864 iterations 334\n",
      "Cbc0038I Pass  18: (2.59 seconds) suminf.  237.13646 (1426) obj. -592.864 iterations 6\n",
      "Cbc0038I Pass  19: (2.65 seconds) suminf.  191.03176 (1395) obj. -589.478 iterations 239\n",
      "Cbc0038I Pass  20: (2.70 seconds) suminf.  185.01703 (1336) obj. -588.983 iterations 199\n",
      "Cbc0038I Pass  21: (2.82 seconds) suminf.   88.39002 (1281) obj. -586.872 iterations 534\n",
      "Cbc0038I Pass  22: (2.88 seconds) suminf.   81.29509 (913) obj. -586.705 iterations 288\n",
      "Cbc0038I Pass  23: (2.95 seconds) suminf.   49.40431 (779) obj. -585.412 iterations 267\n",
      "Cbc0038I Pass  24: (3.06 seconds) suminf.   33.70867 (1010) obj. -585.291 iterations 599\n",
      "Cbc0038I Pass  25: (3.12 seconds) suminf.   23.21342 (93) obj. -582.8 iterations 665\n",
      "Cbc0038I Pass  26: (3.17 seconds) suminf.   12.69245 (119) obj. -582.8 iterations 740\n",
      "Cbc0038I Pass  27: (3.21 seconds) suminf.   12.29288 (141) obj. -582.8 iterations 250\n",
      "Cbc0038I Pass  28: (3.28 seconds) suminf.    8.14639 (36) obj. -582.8 iterations 1111\n",
      "Cbc0038I Pass  29: (3.33 seconds) suminf.    5.24187 (27) obj. -582.8 iterations 729\n",
      "Cbc0038I Pass  30: (3.37 seconds) suminf.    0.60027 (3) obj. -582.8 iterations 853\n",
      "Cbc0038I Solution found of -583\n",
      "Cbc0038I Before mini branch and bound, 0 integers at bound fixed and 0 continuous\n",
      "Cbc0038I Full problem 8247 rows 1797 columns, reduced to 8247 rows 1797 columns - 254 fixed gives 3972, 976 - ok now\n",
      "Cbc0038I Full problem 8247 rows 1797 columns, reduced to 3972 rows 976 columns\n",
      "Cbc0038I Mini branch and bound improved solution from -583 to -589 (5.22 seconds)\n",
      "Cbc0038I Round again with cutoff of -591.8\n",
      "Cbc0038I Pass  31: (5.22 seconds) suminf.  476.00000 (1797) obj. -599 iterations 0\n",
      "Cbc0038I Pass  32: (5.34 seconds) suminf.  428.18635 (1752) obj. -596.091 iterations 419\n",
      "Cbc0038I Pass  33: (5.41 seconds) suminf.  391.05796 (1649) obj. -595.228 iterations 230\n",
      "Cbc0038I Pass  34: (5.44 seconds) suminf.  384.83725 (1637) obj. -595.06 iterations 87\n",
      "Cbc0038I Pass  35: (5.45 seconds) suminf.  379.64938 (1632) obj. -595.052 iterations 23\n",
      "Cbc0038I Pass  36: (5.48 seconds) suminf.  357.33209 (1607) obj. -594.668 iterations 77\n",
      "Cbc0038I Pass  37: (5.49 seconds) suminf.  357.33209 (1607) obj. -594.668 iterations 22\n",
      "Cbc0038I Pass  38: (5.64 seconds) suminf.  315.10372 (1549) obj. -591.8 iterations 604\n",
      "Cbc0038I Pass  39: (5.73 seconds) suminf.  306.15400 (1503) obj. -591.8 iterations 341\n",
      "Cbc0038I Pass  40: (5.75 seconds) suminf.  306.15400 (1503) obj. -591.8 iterations 48\n",
      "Cbc0038I Pass  41: (5.81 seconds) suminf.  298.20727 (1492) obj. -591.8 iterations 169\n",
      "Cbc0038I Pass  42: (5.84 seconds) suminf.  292.75156 (1543) obj. -591.8 iterations 104\n",
      "Cbc0038I Pass  43: (5.86 seconds) suminf.  292.75156 (1543) obj. -591.8 iterations 49\n",
      "Cbc0038I Pass  44: (5.90 seconds) suminf.  291.10026 (1552) obj. -591.8 iterations 120\n",
      "Cbc0038I Pass  45: (5.92 seconds) suminf.  291.10026 (1552) obj. -591.8 iterations 73\n",
      "Cbc0038I Pass  46: (5.98 seconds) suminf.  286.84813 (1542) obj. -591.8 iterations 198\n",
      "Cbc0038I Pass  47: (6.02 seconds) suminf.  286.80111 (1550) obj. -591.8 iterations 132\n",
      "Cbc0038I Pass  48: (6.05 seconds) suminf.  249.60874 (1528) obj. -591.8 iterations 115\n",
      "Cbc0038I Pass  49: (6.12 seconds) suminf.  247.62798 (1435) obj. -591.8 iterations 240\n",
      "Cbc0038I Pass  50: (6.15 seconds) suminf.  247.89872 (1429) obj. -591.8 iterations 78\n",
      "Cbc0038I Pass  51: (6.17 seconds) suminf.  242.64508 (1433) obj. -591.8 iterations 96\n",
      "Cbc0038I Pass  52: (6.25 seconds) suminf.  222.16270 (1409) obj. -591.8 iterations 300\n",
      "Cbc0038I Pass  53: (6.26 seconds) suminf.  222.16270 (1409) obj. -591.8 iterations 7\n",
      "Cbc0038I Pass  54: (6.30 seconds) suminf.  208.34425 (1401) obj. -591.8 iterations 141\n",
      "Cbc0038I Pass  55: (6.33 seconds) suminf.  206.01212 (1379) obj. -591.8 iterations 114\n",
      "Cbc0038I Pass  56: (6.41 seconds) suminf.  207.66819 (1392) obj. -591.8 iterations 273\n",
      "Cbc0038I Pass  57: (6.50 seconds) suminf.  146.65481 (1368) obj. -591.8 iterations 366\n",
      "Cbc0038I Pass  58: (6.59 seconds) suminf.  129.67547 (1352) obj. -591.8 iterations 384\n",
      "Cbc0038I Pass  59: (6.76 seconds) suminf.  122.02462 (848) obj. -591.8 iterations 846\n",
      "Cbc0038I Pass  60: (6.91 seconds) suminf.  119.73971 (880) obj. -591.8 iterations 716\n",
      "Cbc0038I No solution found this major pass\n",
      "Cbc0038I Before mini branch and bound, 0 integers at bound fixed and 0 continuous\n",
      "Cbc0038I Full problem 8247 rows 1797 columns, reduced to 8247 rows 1797 columns - 254 fixed gives 3972, 976 - ok now\n",
      "Cbc0038I Mini branch and bound did not improve solution (7.11 seconds)\n",
      "Cbc0038I After 7.11 seconds - Feasibility pump exiting with objective of -589 - took 6.03 seconds\n",
      "Cbc0012I Integer solution of -589 found by feasibility pump after 0 iterations and 0 nodes (7.11 seconds)\n",
      "Cbc0030I Thread 0 used 0 times,  waiting to start 0.10091782, 0 cpu time, 0 locks, 0 locked, 0 waiting for locks\n",
      "Cbc0030I Thread 1 used 0 times,  waiting to start 0.096705198, 0 cpu time, 0 locks, 0 locked, 0 waiting for locks\n",
      "Cbc0030I Thread 2 used 0 times,  waiting to start 0.091658831, 0 cpu time, 0 locks, 0 locked, 0 waiting for locks\n",
      "Cbc0030I Thread 3 used 0 times,  waiting to start 0.086484909, 0 cpu time, 0 locks, 0 locked, 0 waiting for locks\n",
      "Cbc0030I Thread 4 used 0 times,  waiting to start 0.081468344, 0 cpu time, 0 locks, 0 locked, 0 waiting for locks\n",
      "Cbc0030I Thread 5 used 0 times,  waiting to start 0.076312304, 0 cpu time, 0 locks, 0 locked, 0 waiting for locks\n",
      "Cbc0030I Thread 6 used 0 times,  waiting to start 0.071182013, 0 cpu time, 0 locks, 0 locked, 0 waiting for locks\n",
      "Cbc0030I Thread 7 used 0 times,  waiting to start 0.066244602, 0 cpu time, 0 locks, 0 locked, 0 waiting for locks\n",
      "Cbc0030I Thread 8 used 0 times,  waiting to start 0.06122756, 0 cpu time, 0 locks, 0 locked, 0 waiting for locks\n",
      "Cbc0030I Thread 9 used 0 times,  waiting to start 0.056023359, 0 cpu time, 0 locks, 0 locked, 0 waiting for locks\n",
      "Cbc0030I Thread 10 used 0 times,  waiting to start 0.051067114, 0 cpu time, 0 locks, 0 locked, 0 waiting for locks\n",
      "Cbc0030I Thread 11 used 0 times,  waiting to start 0.046200514, 0 cpu time, 0 locks, 0 locked, 0 waiting for locks\n",
      "Cbc0030I Thread 12 used 0 times,  waiting to start 0.041158915, 0 cpu time, 0 locks, 0 locked, 0 waiting for locks\n",
      "Cbc0030I Thread 13 used 0 times,  waiting to start 0.036133051, 0 cpu time, 0 locks, 0 locked, 0 waiting for locks\n",
      "Cbc0030I Thread 14 used 0 times,  waiting to start 0.031060934, 0 cpu time, 0 locks, 0 locked, 0 waiting for locks\n",
      "Cbc0030I Thread 15 used 0 times,  waiting to start 0.026322126, 0 cpu time, 0 locks, 0 locked, 0 waiting for locks\n",
      "Cbc0030I Thread 16 used 0 times,  waiting to start 0.021531582, 0 cpu time, 0 locks, 0 locked, 0 waiting for locks\n",
      "Cbc0030I Thread 17 used 0 times,  waiting to start 0.016790152, 0 cpu time, 0 locks, 0 locked, 0 waiting for locks\n",
      "Cbc0030I Thread 18 used 0 times,  waiting to start 0.012053967, 0 cpu time, 0 locks, 0 locked, 0 waiting for locks\n",
      "Cbc0030I Thread 19 used 0 times,  waiting to start 0.0073268414, 0 cpu time, 0 locks, 0 locked, 0 waiting for locks\n",
      "Cbc0030I Main thread 0 waiting for threads,  1 locks, 1.9073486e-06 locked, 4.7683716e-07 waiting for locks\n",
      "Cbc0011I Exiting as integer gap of 10 less than 1e-10 or 2%\n",
      "Cbc0001I Search completed - best objective -589, took 0 iterations and 0 nodes (7.22 seconds)\n",
      "Cbc0035I Maximum depth 0, 0 variables fixed on reduced cost\n",
      "Total time (CPU seconds):       7.42   (Wallclock seconds):       7.54\n",
      "\n"
     ]
    }
   ],
   "source": [
    "model = min_vertex_k_cut.trisect_connected_graph(coarsed_main_component, part_min_frac=0.20, emphasis=1, max_mip_gap=0.02)"
   ]
  },
  {
   "cell_type": "code",
   "execution_count": 9,
   "metadata": {},
   "outputs": [
    {
     "name": "stdout",
     "output_type": "stream",
     "text": [
      "[ 10 119 120 350]\n"
     ]
    }
   ],
   "source": [
    "split = min_vertex_k_cut.process_trisect_results(model, coarsed_main_component, main_component, node_to_cluster)"
   ]
  },
  {
   "cell_type": "code",
   "execution_count": 10,
   "metadata": {},
   "outputs": [],
   "source": [
    "first_idx = []\n",
    "second_idx = []\n",
    "third_idx = []\n",
    "\n",
    "for S_idx, partition in enumerate(split):\n",
    "    G_idx = new_nodes_to_old[S_idx]\n",
    "    if partition == 0:\n",
    "        first_idx.append(G_idx)\n",
    "    if partition == 1:\n",
    "        second_idx.append(G_idx)\n",
    "    if partition == 2:\n",
    "        third_idx.append(G_idx)"
   ]
  },
  {
   "cell_type": "code",
   "execution_count": 11,
   "metadata": {},
   "outputs": [],
   "source": [
    "for component in small_components:\n",
    "    i = np.argmin([len(first_idx), len(second_idx), len(third_idx)])\n",
    "    if i == 0:\n",
    "        first_idx.extend(component)\n",
    "    if i == 1:\n",
    "        second_idx.extend(component)\n",
    "    if i == 2:\n",
    "        third_idx.extend(component)"
   ]
  },
  {
   "cell_type": "code",
   "execution_count": 12,
   "metadata": {},
   "outputs": [
    {
     "data": {
      "text/plain": [
       "[721, 721, 721]"
      ]
     },
     "execution_count": 12,
     "metadata": {},
     "output_type": "execute_result"
    }
   ],
   "source": [
    "[len(first_idx), len(second_idx), len(third_idx)]"
   ]
  },
  {
   "cell_type": "code",
   "execution_count": 14,
   "metadata": {},
   "outputs": [],
   "source": [
    "part_first = data.iloc[first_idx]\n",
    "part_second = data.iloc[second_idx]\n",
    "part_third = data.iloc[third_idx]\n"
   ]
  },
  {
   "cell_type": "code",
   "execution_count": 15,
   "metadata": {},
   "outputs": [
    {
     "data": {
      "text/plain": [
       "<matplotlib_venn._common.VennDiagram at 0x7f7c021b1540>"
      ]
     },
     "execution_count": 15,
     "metadata": {},
     "output_type": "execute_result"
    },
    {
     "data": {
      "image/png": "[encoded data removed]",
      "text/plain": [
       "<Figure size 640x480 with 1 Axes>"
      ]
     },
     "metadata": {},
     "output_type": "display_data"
    }
   ],
   "source": [
    "venn3([\n",
    "    set(part_first['smiles'].tolist()),\n",
    "    set(part_second['smiles'].tolist()),\n",
    "    set(part_third['smiles'].tolist()),\n",
    "])"
   ]
  },
  {
   "cell_type": "code",
   "execution_count": 16,
   "metadata": {},
   "outputs": [],
   "source": [
    "train_1 = pd.concat([part_first, part_second])\n",
    "test_1 = part_third.copy()\n",
    "\n",
    "train_2 = pd.concat([part_first, part_third])\n",
    "test_2 = part_second.copy()\n",
    "\n",
    "train_3 = pd.concat([part_second, part_third])\n",
    "test_3 = part_first.copy()"
   ]
  },
  {
   "cell_type": "code",
   "execution_count": 17,
   "metadata": {},
   "outputs": [],
   "source": [
    "min_vertex_k_cut.test_split(train_1['smiles'], test_1['smiles'], threshold=0.4)\n",
    "min_vertex_k_cut.test_split(train_2['smiles'], test_2['smiles'], threshold=0.4)\n",
    "min_vertex_k_cut.test_split(train_3['smiles'], test_3['smiles'], threshold=0.4)"
   ]
  },
  {
   "cell_type": "code",
   "execution_count": 18,
   "metadata": {},
   "outputs": [
    {
     "data": {
      "text/plain": [
       "<matplotlib_venn._common.VennDiagram at 0x7f7c0148e890>"
      ]
     },
     "execution_count": 18,
     "metadata": {},
     "output_type": "execute_result"
    },
    {
     "data": {
      "image/png": "[encoded data removed]",
      "text/plain": [
       "<Figure size 640x480 with 1 Axes>"
      ]
     },
     "metadata": {},
     "output_type": "display_data"
    }
   ],
   "source": [
    "venn3([\n",
    "    set(test_1['smiles'].tolist()),\n",
    "    set(test_2['smiles'].tolist()),\n",
    "    set(test_3['smiles'].tolist()),\n",
    "])"
   ]
  },
  {
   "cell_type": "code",
   "execution_count": 19,
   "metadata": {},
   "outputs": [
    {
     "data": {
      "text/plain": [
       "<matplotlib_venn._common.VennDiagram at 0x7f7c014b1cf0>"
      ]
     },
     "execution_count": 19,
     "metadata": {},
     "output_type": "execute_result"
    },
    {
     "data": {
      "image/png": "[encoded data removed]",
      "text/plain": [
       "<Figure size 640x480 with 1 Axes>"
      ]
     },
     "metadata": {},
     "output_type": "display_data"
    }
   ],
   "source": [
    "venn3([\n",
    "    set(train_1['smiles'].tolist()),\n",
    "    set(train_2['smiles'].tolist()),\n",
    "    set(train_3['smiles'].tolist()),\n",
    "])"
   ]
  },
  {
   "cell_type": "code",
   "execution_count": 20,
   "metadata": {},
   "outputs": [],
   "source": [
    "train_1.to_csv('../../data/hi/sol/train_1.csv')\n",
    "train_2.to_csv('../../data/hi/sol/train_2.csv')\n",
    "train_3.to_csv('../../data/hi/sol/train_3.csv')"
   ]
  },
  {
   "cell_type": "code",
   "execution_count": 21,
   "metadata": {},
   "outputs": [],
   "source": [
    "test_1.to_csv('../../data/hi/sol/test_1.csv')\n",
    "test_2.to_csv('../../data/hi/sol/test_2.csv')\n",
    "test_3.to_csv('../../data/hi/sol/test_3.csv')"
   ]
  },
  {
   "cell_type": "code",
   "execution_count": null,
   "metadata": {},
   "outputs": [],
   "source": []
  }
 ],
 "metadata": {
  "kernelspec": {
   "display_name": "lohi_benchmark",
   "language": "python",
   "name": "python3"
  },
  "language_info": {
   "codemirror_mode": {
    "name": "ipython",
    "version": 3
   },
   "file_extension": ".py",
   "mimetype": "text/x-python",
   "name": "python",
   "nbconvert_exporter": "python",
   "pygments_lexer": "ipython3",
   "version": "3.10.12"
  },
  "orig_nbformat": 4
 },
 "nbformat": 4,
 "nbformat_minor": 2
}
