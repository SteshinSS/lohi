{
 "cells": [
  {
   "cell_type": "code",
   "execution_count": 1,
   "metadata": {},
   "outputs": [],
   "source": [
    "import pandas as pd\n",
    "import numpy as np\n",
    "import matplotlib.pyplot as plt\n",
    "from rdkit import Chem\n",
    "from rdkit.Chem import AllChem\n",
    "from tqdm import tqdm\n",
    "\n",
    "from matplotlib_venn import venn3"
   ]
  },
  {
   "cell_type": "code",
   "execution_count": 2,
   "metadata": {},
   "outputs": [],
   "source": [
    "import sys\n",
    "sys.path.append('../../code')\n",
    "\n",
    "from splits import get_lo_split, set_cluster_columns, get_nearest_mols, select_distinct_clusters"
   ]
  },
  {
   "cell_type": "code",
   "execution_count": 3,
   "metadata": {},
   "outputs": [
    {
     "data": {
      "text/html": [
       "<div>\n",
       "<style scoped>\n",
       "    .dataframe tbody tr th:only-of-type {\n",
       "        vertical-align: middle;\n",
       "    }\n",
       "\n",
       "    .dataframe tbody tr th {\n",
       "        vertical-align: top;\n",
       "    }\n",
       "\n",
       "    .dataframe thead th {\n",
       "        text-align: right;\n",
       "    }\n",
       "</style>\n",
       "<table border=\"1\" class=\"dataframe\">\n",
       "  <thead>\n",
       "    <tr style=\"text-align: right;\">\n",
       "      <th></th>\n",
       "      <th>smiles</th>\n",
       "      <th>value</th>\n",
       "    </tr>\n",
       "  </thead>\n",
       "  <tbody>\n",
       "    <tr>\n",
       "      <th>0</th>\n",
       "      <td>Brc1ccc(-c2nc3ccc(Nc4ccnc5ccccc45)cc3[nH]2)cc1</td>\n",
       "      <td>6.742321</td>\n",
       "    </tr>\n",
       "    <tr>\n",
       "      <th>1</th>\n",
       "      <td>Brc1ccc(-c2nc3ccc(Nc4ncnc5ccccc45)cc3[nH]2)cc1</td>\n",
       "      <td>6.419075</td>\n",
       "    </tr>\n",
       "    <tr>\n",
       "      <th>2</th>\n",
       "      <td>C#CC(C)OC1=CC(=O)C(Nc2ncnc3cc(OCCCN4CCCC4)c(OC...</td>\n",
       "      <td>7.432974</td>\n",
       "    </tr>\n",
       "    <tr>\n",
       "      <th>3</th>\n",
       "      <td>C#CC(OC1=CC(=O)C(Nc2ncnc3cc(OCCCN4CCCC4)c(OC)c...</td>\n",
       "      <td>8.108191</td>\n",
       "    </tr>\n",
       "    <tr>\n",
       "      <th>4</th>\n",
       "      <td>C#CCO/N=C/c1c(N)ncnc1Oc1ccc2[nH]c(C)cc2c1F</td>\n",
       "      <td>7.275724</td>\n",
       "    </tr>\n",
       "    <tr>\n",
       "      <th>...</th>\n",
       "      <td>...</td>\n",
       "      <td>...</td>\n",
       "    </tr>\n",
       "    <tr>\n",
       "      <th>4890</th>\n",
       "      <td>c1cn(Cc2ccc3c(c2)-c2[nH]nc(-c4ccsc4)c2C3)cn1</td>\n",
       "      <td>6.680695</td>\n",
       "    </tr>\n",
       "    <tr>\n",
       "      <th>4891</th>\n",
       "      <td>c1cnc(CCc2ccncc2)c(-c2nnc(NCc3ccc4c(c3)OCO4)o2)c1</td>\n",
       "      <td>6.800804</td>\n",
       "    </tr>\n",
       "    <tr>\n",
       "      <th>4892</th>\n",
       "      <td>c1cnc(CCc2ccncc2)c(-c2nnc(Nc3cnc4ccccc4c3)o2)c1</td>\n",
       "      <td>6.419075</td>\n",
       "    </tr>\n",
       "    <tr>\n",
       "      <th>4893</th>\n",
       "      <td>c1cncc(-c2cnn3cc(-c4ccc(OCCN5CCCCC5)cc4)cnc23)c1</td>\n",
       "      <td>7.677781</td>\n",
       "    </tr>\n",
       "    <tr>\n",
       "      <th>4894</th>\n",
       "      <td>c1csc(-c2n[nH]c3c2Cc2ccccc2-3)c1</td>\n",
       "      <td>6.031050</td>\n",
       "    </tr>\n",
       "  </tbody>\n",
       "</table>\n",
       "<p>4895 rows × 2 columns</p>\n",
       "</div>"
      ],
      "text/plain": [
       "                                                 smiles     value\n",
       "0        Brc1ccc(-c2nc3ccc(Nc4ccnc5ccccc45)cc3[nH]2)cc1  6.742321\n",
       "1        Brc1ccc(-c2nc3ccc(Nc4ncnc5ccccc45)cc3[nH]2)cc1  6.419075\n",
       "2     C#CC(C)OC1=CC(=O)C(Nc2ncnc3cc(OCCCN4CCCC4)c(OC...  7.432974\n",
       "3     C#CC(OC1=CC(=O)C(Nc2ncnc3cc(OCCCN4CCCC4)c(OC)c...  8.108191\n",
       "4            C#CCO/N=C/c1c(N)ncnc1Oc1ccc2[nH]c(C)cc2c1F  7.275724\n",
       "...                                                 ...       ...\n",
       "4890       c1cn(Cc2ccc3c(c2)-c2[nH]nc(-c4ccsc4)c2C3)cn1  6.680695\n",
       "4891  c1cnc(CCc2ccncc2)c(-c2nnc(NCc3ccc4c(c3)OCO4)o2)c1  6.800804\n",
       "4892    c1cnc(CCc2ccncc2)c(-c2nnc(Nc3cnc4ccccc4c3)o2)c1  6.419075\n",
       "4893   c1cncc(-c2cnn3cc(-c4ccc(OCCN5CCCCC5)cc4)cnc23)c1  7.677781\n",
       "4894                   c1csc(-c2n[nH]c3c2Cc2ccccc2-3)c1  6.031050\n",
       "\n",
       "[4895 rows x 2 columns]"
      ]
     },
     "execution_count": 3,
     "metadata": {},
     "output_type": "execute_result"
    }
   ],
   "source": [
    "kdr = pd.read_csv('../../data/raw/kdr_lo.csv', index_col=0)\n",
    "kdr"
   ]
  },
  {
   "cell_type": "code",
   "execution_count": 13,
   "metadata": {},
   "outputs": [
    {
     "name": "stderr",
     "output_type": "stream",
     "text": [
      "100%|██████████| 3/3 [05:49<00:00, 116.53s/it]\n"
     ]
    }
   ],
   "source": [
    "splits = []\n",
    "\n",
    "smiles = np.array(kdr['smiles'].to_list())\n",
    "values = np.array(kdr['value'].to_list())\n",
    "\n",
    "for i in tqdm(range(3)):\n",
    "    idx = np.arange(len(smiles))\n",
    "    np.random.seed(i)\n",
    "    np.random.shuffle(idx)\n",
    "\n",
    "    shuffled_smiles = smiles[idx]\n",
    "    shuffled_values = values[idx]\n",
    "\n",
    "    cluster_smiles, train_smiles = select_distinct_clusters(shuffled_smiles, 0.4, 5, 130, shuffled_values, 0.70)\n",
    "    train_size = 500 - len(cluster_smiles)\n",
    "    train_smiles = list(train_smiles)[:train_size]\n",
    "    # Move one molecule from each test cluster to the train\n",
    "    leave_one_clusters = []\n",
    "    for cluster in cluster_smiles:\n",
    "        train_smiles.append(cluster[-1])\n",
    "        leave_one_clusters.append(cluster[:-1])\n",
    "    split = set_cluster_columns(kdr, leave_one_clusters, train_smiles)\n",
    "    splits.append(split)"
   ]
  },
  {
   "cell_type": "code",
   "execution_count": 14,
   "metadata": {},
   "outputs": [
    {
     "data": {
      "text/html": [
       "<div>\n",
       "<style scoped>\n",
       "    .dataframe tbody tr th:only-of-type {\n",
       "        vertical-align: middle;\n",
       "    }\n",
       "\n",
       "    .dataframe tbody tr th {\n",
       "        vertical-align: top;\n",
       "    }\n",
       "\n",
       "    .dataframe thead th {\n",
       "        text-align: right;\n",
       "    }\n",
       "</style>\n",
       "<table border=\"1\" class=\"dataframe\">\n",
       "  <thead>\n",
       "    <tr style=\"text-align: right;\">\n",
       "      <th></th>\n",
       "      <th>smiles</th>\n",
       "      <th>value</th>\n",
       "      <th>cluster</th>\n",
       "    </tr>\n",
       "  </thead>\n",
       "  <tbody>\n",
       "    <tr>\n",
       "      <th>1</th>\n",
       "      <td>Brc1ccc(-c2nc3ccc(Nc4ncnc5ccccc45)cc3[nH]2)cc1</td>\n",
       "      <td>6.419075</td>\n",
       "      <td>52</td>\n",
       "    </tr>\n",
       "    <tr>\n",
       "      <th>4</th>\n",
       "      <td>C#CCO/N=C/c1c(N)ncnc1Oc1ccc2[nH]c(C)cc2c1F</td>\n",
       "      <td>7.275724</td>\n",
       "      <td>0</td>\n",
       "    </tr>\n",
       "    <tr>\n",
       "      <th>15</th>\n",
       "      <td>C(#Cc1cc(-c2n[nH]c3c2Cc2ccccc2-3)cs1)COc1ccccc1</td>\n",
       "      <td>5.329661</td>\n",
       "      <td>0</td>\n",
       "    </tr>\n",
       "    <tr>\n",
       "      <th>18</th>\n",
       "      <td>C/C(=N\\O)c1ccc2[nH]c3c4c(c5c(c3c2c1)CNC5=O)-c1...</td>\n",
       "      <td>8.698970</td>\n",
       "      <td>0</td>\n",
       "    </tr>\n",
       "    <tr>\n",
       "      <th>20</th>\n",
       "      <td>C/C(=N\\OC(C)C)c1ccc2[nH]c3c4c(c5c(c3c2c1)CNC5=...</td>\n",
       "      <td>8.349485</td>\n",
       "      <td>0</td>\n",
       "    </tr>\n",
       "    <tr>\n",
       "      <th>...</th>\n",
       "      <td>...</td>\n",
       "      <td>...</td>\n",
       "      <td>...</td>\n",
       "    </tr>\n",
       "    <tr>\n",
       "      <th>4884</th>\n",
       "      <td>c1ccc2c(-c3nc4cc(N5CCOCC5)ccc4[nH]3)[nH]nc2c1</td>\n",
       "      <td>6.793174</td>\n",
       "      <td>48</td>\n",
       "    </tr>\n",
       "    <tr>\n",
       "      <th>4886</th>\n",
       "      <td>c1ccc2c(c1)c(-c1cncc(-c3ccsc3)c1)cn2CCCN1CCCCC1</td>\n",
       "      <td>7.408935</td>\n",
       "      <td>0</td>\n",
       "    </tr>\n",
       "    <tr>\n",
       "      <th>4887</th>\n",
       "      <td>c1ccc2c(c1)c(-c1cncc(-c3ccsc3)c1)cn2CCN1CCCCC1</td>\n",
       "      <td>6.950782</td>\n",
       "      <td>0</td>\n",
       "    </tr>\n",
       "    <tr>\n",
       "      <th>4888</th>\n",
       "      <td>c1ccc2c(c1)c(-c1cncc(-c3ccsc3)c1)cn2CCN1CCOCC1</td>\n",
       "      <td>7.214670</td>\n",
       "      <td>0</td>\n",
       "    </tr>\n",
       "    <tr>\n",
       "      <th>4891</th>\n",
       "      <td>c1cnc(CCc2ccncc2)c(-c2nnc(NCc3ccc4c(c3)OCO4)o2)c1</td>\n",
       "      <td>6.800804</td>\n",
       "      <td>0</td>\n",
       "    </tr>\n",
       "  </tbody>\n",
       "</table>\n",
       "<p>917 rows × 3 columns</p>\n",
       "</div>"
      ],
      "text/plain": [
       "                                                 smiles     value  cluster\n",
       "1        Brc1ccc(-c2nc3ccc(Nc4ncnc5ccccc45)cc3[nH]2)cc1  6.419075       52\n",
       "4            C#CCO/N=C/c1c(N)ncnc1Oc1ccc2[nH]c(C)cc2c1F  7.275724        0\n",
       "15      C(#Cc1cc(-c2n[nH]c3c2Cc2ccccc2-3)cs1)COc1ccccc1  5.329661        0\n",
       "18    C/C(=N\\O)c1ccc2[nH]c3c4c(c5c(c3c2c1)CNC5=O)-c1...  8.698970        0\n",
       "20    C/C(=N\\OC(C)C)c1ccc2[nH]c3c4c(c5c(c3c2c1)CNC5=...  8.349485        0\n",
       "...                                                 ...       ...      ...\n",
       "4884      c1ccc2c(-c3nc4cc(N5CCOCC5)ccc4[nH]3)[nH]nc2c1  6.793174       48\n",
       "4886    c1ccc2c(c1)c(-c1cncc(-c3ccsc3)c1)cn2CCCN1CCCCC1  7.408935        0\n",
       "4887     c1ccc2c(c1)c(-c1cncc(-c3ccsc3)c1)cn2CCN1CCCCC1  6.950782        0\n",
       "4888     c1ccc2c(c1)c(-c1cncc(-c3ccsc3)c1)cn2CCN1CCOCC1  7.214670        0\n",
       "4891  c1cnc(CCc2ccncc2)c(-c2nnc(NCc3ccc4c(c3)OCO4)o2)c1  6.800804        0\n",
       "\n",
       "[917 rows x 3 columns]"
      ]
     },
     "execution_count": 14,
     "metadata": {},
     "output_type": "execute_result"
    }
   ],
   "source": [
    "splits[2]"
   ]
  },
  {
   "cell_type": "code",
   "execution_count": 15,
   "metadata": {},
   "outputs": [
    {
     "data": {
      "text/plain": [
       "417"
      ]
     },
     "execution_count": 15,
     "metadata": {},
     "output_type": "execute_result"
    }
   ],
   "source": [
    "sum([len(x) for x in leave_one_clusters])"
   ]
  },
  {
   "cell_type": "code",
   "execution_count": 16,
   "metadata": {},
   "outputs": [
    {
     "data": {
      "text/plain": [
       "(array([1., 0., 0., 0., 1., 1., 0., 0., 0., 0., 0., 1., 0., 0., 1., 0., 0.,\n",
       "        0., 1., 2., 4., 3., 1., 2., 2., 0., 6., 2., 3., 1., 0., 1., 2., 1.,\n",
       "        4., 0., 2., 2., 1., 1., 2., 0., 1., 1., 0., 0., 2., 0., 0., 2.]),\n",
       " array([0.33794748, 0.35787203, 0.37779658, 0.39772113, 0.41764569,\n",
       "        0.43757024, 0.45749479, 0.47741934, 0.49734389, 0.51726844,\n",
       "        0.53719299, 0.55711754, 0.57704209, 0.59696664, 0.61689119,\n",
       "        0.63681575, 0.6567403 , 0.67666485, 0.6965894 , 0.71651395,\n",
       "        0.7364385 , 0.75636305, 0.7762876 , 0.79621215, 0.8161367 ,\n",
       "        0.83606126, 0.85598581, 0.87591036, 0.89583491, 0.91575946,\n",
       "        0.93568401, 0.95560856, 0.97553311, 0.99545766, 1.01538221,\n",
       "        1.03530676, 1.05523132, 1.07515587, 1.09508042, 1.11500497,\n",
       "        1.13492952, 1.15485407, 1.17477862, 1.19470317, 1.21462772,\n",
       "        1.23455227, 1.25447683, 1.27440138, 1.29432593, 1.31425048,\n",
       "        1.33417503]),\n",
       " <BarContainer object of 50 artists>)"
      ]
     },
     "execution_count": 16,
     "metadata": {},
     "output_type": "execute_result"
    },
    {
     "data": {
      "image/png": "[encoded data removed]",
      "text/plain": [
       "<Figure size 640x480 with 1 Axes>"
      ]
     },
     "metadata": {},
     "output_type": "display_data"
    }
   ],
   "source": [
    "per_cluster_std = []\n",
    "for i in range(split['cluster'].max()):\n",
    "    cluster = split[split['cluster'] == i]\n",
    "    std = cluster['value'].std()\n",
    "    per_cluster_std.append(std)\n",
    "plt.hist(per_cluster_std, bins=50)"
   ]
  },
  {
   "cell_type": "code",
   "execution_count": 17,
   "metadata": {},
   "outputs": [],
   "source": [
    "data = splits[0]\n",
    "test_0 = data[data['cluster'] != 0]['smiles'].to_list()\n",
    "\n",
    "data = splits[1]\n",
    "test_1 = data[data['cluster'] != 0]['smiles'].to_list()\n",
    "\n",
    "data = splits[2]\n",
    "test_2 = data[data['cluster'] != 0]['smiles'].to_list()"
   ]
  },
  {
   "cell_type": "code",
   "execution_count": 18,
   "metadata": {},
   "outputs": [
    {
     "data": {
      "text/plain": [
       "<matplotlib_venn._common.VennDiagram at 0x7f181caa10c0>"
      ]
     },
     "execution_count": 18,
     "metadata": {},
     "output_type": "execute_result"
    },
    {
     "data": {
      "image/png": "[encoded data removed]",
      "text/plain": [
       "<Figure size 640x480 with 1 Axes>"
      ]
     },
     "metadata": {},
     "output_type": "display_data"
    }
   ],
   "source": [
    "venn3([\n",
    "    set(test_0),\n",
    "    set(test_1),\n",
    "    set(test_2),\n",
    "])"
   ]
  },
  {
   "cell_type": "code",
   "execution_count": 19,
   "metadata": {},
   "outputs": [],
   "source": [
    "data = splits[0]\n",
    "is_train = data['cluster'] == 0\n",
    "train_0 = data[is_train].reset_index(drop=True)\n",
    "train_0.to_csv('../../data/lo/kdr/train_1.csv')\n",
    "test_0 = data[~is_train].reset_index(drop=True)\n",
    "test_0.to_csv('../../data/lo/kdr/test_1.csv')"
   ]
  },
  {
   "cell_type": "code",
   "execution_count": 20,
   "metadata": {},
   "outputs": [
    {
     "data": {
      "text/html": [
       "<div>\n",
       "<style scoped>\n",
       "    .dataframe tbody tr th:only-of-type {\n",
       "        vertical-align: middle;\n",
       "    }\n",
       "\n",
       "    .dataframe tbody tr th {\n",
       "        vertical-align: top;\n",
       "    }\n",
       "\n",
       "    .dataframe thead th {\n",
       "        text-align: right;\n",
       "    }\n",
       "</style>\n",
       "<table border=\"1\" class=\"dataframe\">\n",
       "  <thead>\n",
       "    <tr style=\"text-align: right;\">\n",
       "      <th></th>\n",
       "      <th>smiles</th>\n",
       "      <th>value</th>\n",
       "      <th>cluster</th>\n",
       "    </tr>\n",
       "  </thead>\n",
       "  <tbody>\n",
       "    <tr>\n",
       "      <th>0</th>\n",
       "      <td>C/C(=N\\OC(C)C)c1ccc2c(c1)c1c3c(c4c(c1n2CC(C)C)...</td>\n",
       "      <td>7.897940</td>\n",
       "      <td>0</td>\n",
       "    </tr>\n",
       "    <tr>\n",
       "      <th>1</th>\n",
       "      <td>C/C(=N\\OCC(C)C)c1ccc2[nH]c3c4c(c5c(c3c2c1)CNC5...</td>\n",
       "      <td>8.129819</td>\n",
       "      <td>0</td>\n",
       "    </tr>\n",
       "    <tr>\n",
       "      <th>2</th>\n",
       "      <td>C=CC(=O)Nc1cc2c(Nc3c(F)cc(Br)cc3F)ncnc2cc1OCC1...</td>\n",
       "      <td>6.826814</td>\n",
       "      <td>0</td>\n",
       "    </tr>\n",
       "    <tr>\n",
       "      <th>3</th>\n",
       "      <td>C=CC(=O)Nc1cc2c(Nc3cc(Cl)c(Br)cc3F)ncnc2cc1OCC...</td>\n",
       "      <td>6.376751</td>\n",
       "      <td>0</td>\n",
       "    </tr>\n",
       "    <tr>\n",
       "      <th>4</th>\n",
       "      <td>C=CC(=O)Nc1cc2c(Nc3cc(Cl)c(Cl)cc3Cl)ncnc2cc1OC...</td>\n",
       "      <td>6.102373</td>\n",
       "      <td>0</td>\n",
       "    </tr>\n",
       "    <tr>\n",
       "      <th>...</th>\n",
       "      <td>...</td>\n",
       "      <td>...</td>\n",
       "      <td>...</td>\n",
       "    </tr>\n",
       "    <tr>\n",
       "      <th>495</th>\n",
       "      <td>c1ccc(-c2ccc(Nc3nnc(-c4cccnc4CCc4ccncc4)o3)cc2...</td>\n",
       "      <td>5.579879</td>\n",
       "      <td>0</td>\n",
       "    </tr>\n",
       "    <tr>\n",
       "      <th>496</th>\n",
       "      <td>c1ccc(Nc2ncc3c(n2)-c2ccccc2SC3)cc1</td>\n",
       "      <td>5.086133</td>\n",
       "      <td>0</td>\n",
       "    </tr>\n",
       "    <tr>\n",
       "      <th>497</th>\n",
       "      <td>c1ccc(Oc2ccc(Nc3ncnc4ccccc34)cc2)cc1</td>\n",
       "      <td>5.565271</td>\n",
       "      <td>0</td>\n",
       "    </tr>\n",
       "    <tr>\n",
       "      <th>498</th>\n",
       "      <td>c1ccc2c(c1)c(-c1cncc(-c3ccsc3)c1)cn2CCN1CCOCC1</td>\n",
       "      <td>7.214670</td>\n",
       "      <td>0</td>\n",
       "    </tr>\n",
       "    <tr>\n",
       "      <th>499</th>\n",
       "      <td>c1ccc2c3c([nH]c2c1)-c1n[nH]cc1CCC3</td>\n",
       "      <td>6.135953</td>\n",
       "      <td>0</td>\n",
       "    </tr>\n",
       "  </tbody>\n",
       "</table>\n",
       "<p>500 rows × 3 columns</p>\n",
       "</div>"
      ],
      "text/plain": [
       "                                                smiles     value  cluster\n",
       "0    C/C(=N\\OC(C)C)c1ccc2c(c1)c1c3c(c4c(c1n2CC(C)C)...  7.897940        0\n",
       "1    C/C(=N\\OCC(C)C)c1ccc2[nH]c3c4c(c5c(c3c2c1)CNC5...  8.129819        0\n",
       "2    C=CC(=O)Nc1cc2c(Nc3c(F)cc(Br)cc3F)ncnc2cc1OCC1...  6.826814        0\n",
       "3    C=CC(=O)Nc1cc2c(Nc3cc(Cl)c(Br)cc3F)ncnc2cc1OCC...  6.376751        0\n",
       "4    C=CC(=O)Nc1cc2c(Nc3cc(Cl)c(Cl)cc3Cl)ncnc2cc1OC...  6.102373        0\n",
       "..                                                 ...       ...      ...\n",
       "495  c1ccc(-c2ccc(Nc3nnc(-c4cccnc4CCc4ccncc4)o3)cc2...  5.579879        0\n",
       "496                 c1ccc(Nc2ncc3c(n2)-c2ccccc2SC3)cc1  5.086133        0\n",
       "497               c1ccc(Oc2ccc(Nc3ncnc4ccccc34)cc2)cc1  5.565271        0\n",
       "498     c1ccc2c(c1)c(-c1cncc(-c3ccsc3)c1)cn2CCN1CCOCC1  7.214670        0\n",
       "499                 c1ccc2c3c([nH]c2c1)-c1n[nH]cc1CCC3  6.135953        0\n",
       "\n",
       "[500 rows x 3 columns]"
      ]
     },
     "execution_count": 20,
     "metadata": {},
     "output_type": "execute_result"
    }
   ],
   "source": [
    "train_0"
   ]
  },
  {
   "cell_type": "code",
   "execution_count": 21,
   "metadata": {},
   "outputs": [
    {
     "data": {
      "text/plain": [
       "(54,)"
      ]
     },
     "execution_count": 21,
     "metadata": {},
     "output_type": "execute_result"
    }
   ],
   "source": [
    "test_0['cluster'].unique().shape"
   ]
  },
  {
   "cell_type": "code",
   "execution_count": 22,
   "metadata": {},
   "outputs": [],
   "source": [
    "data = splits[1]\n",
    "is_train = data['cluster'] == 0\n",
    "train_1 = data[is_train].reset_index(drop=True)\n",
    "train_1.to_csv('../../data/lo/kdr/train_2.csv')\n",
    "test_1 = data[~is_train].reset_index(drop=True)\n",
    "test_1.to_csv('../../data/lo/kdr/test_2.csv')"
   ]
  },
  {
   "cell_type": "code",
   "execution_count": 23,
   "metadata": {},
   "outputs": [],
   "source": [
    "data = splits[2]\n",
    "is_train = data['cluster'] == 0\n",
    "train_2 = data[is_train].reset_index(drop=True)\n",
    "train_2.to_csv('../../data/lo/kdr/train_3.csv')\n",
    "test_2 = data[~is_train].reset_index(drop=True)\n",
    "test_2.to_csv('../../data/lo/kdr/test_3.csv')"
   ]
  },
  {
   "cell_type": "markdown",
   "metadata": {},
   "source": [
    "# t-SNE"
   ]
  },
  {
   "cell_type": "code",
   "execution_count": 24,
   "metadata": {},
   "outputs": [],
   "source": [
    "mols = [Chem.MolFromSmiles(smile) for smile in data['smiles']]\n",
    "fps = [AllChem.GetMorganFingerprintAsBitVect(x, 2, 1024) for x in mols]"
   ]
  },
  {
   "cell_type": "code",
   "execution_count": 25,
   "metadata": {},
   "outputs": [],
   "source": [
    "fps_np = []\n",
    "for f in fps:\n",
    "    fps_np.append(np.array(f))\n",
    "fps_np = np.array(fps_np)"
   ]
  },
  {
   "cell_type": "code",
   "execution_count": 26,
   "metadata": {},
   "outputs": [],
   "source": [
    "from sklearn import manifold\n",
    "\n",
    "sr_tsne = manifold.TSNE(n_components=2, perplexity=40, random_state=0).fit_transform(\n",
    "    fps_np\n",
    ")"
   ]
  },
  {
   "cell_type": "code",
   "execution_count": 27,
   "metadata": {},
   "outputs": [
    {
     "data": {
      "text/plain": [
       "<matplotlib.collections.PathCollection at 0x7f1813a4e770>"
      ]
     },
     "execution_count": 27,
     "metadata": {},
     "output_type": "execute_result"
    },
    {
     "data": {
      "image/png": "[encoded data removed]",
      "text/plain": [
       "<Figure size 640x480 with 1 Axes>"
      ]
     },
     "metadata": {},
     "output_type": "display_data"
    }
   ],
   "source": [
    "plt.scatter(sr_tsne[:, 0], sr_tsne[:, 1], c=data['cluster'])"
   ]
  },
  {
   "cell_type": "markdown",
   "metadata": {},
   "source": [
    "# Tests"
   ]
  },
  {
   "cell_type": "code",
   "execution_count": 30,
   "metadata": {},
   "outputs": [],
   "source": [
    "# Ensure that for each test cluster there is only one similar molecule in the train\n",
    "data = splits[2]\n",
    "is_train = data['cluster'] == 0\n",
    "train_smiles = data[is_train]['smiles'].to_list()\n",
    "\n",
    "for i in data['cluster'].unique():\n",
    "    if i == 0:\n",
    "        continue\n",
    "    is_in_cluster = data['cluster'] == i\n",
    "    cluster = data[is_in_cluster]\n",
    "    cluster_smiles = cluster['smiles'].to_list()\n",
    "    nearest_sim = get_nearest_mols(train_smiles, cluster_smiles)\n",
    "    nearest_sim = np.array(nearest_sim)\n",
    "    is_too_close = nearest_sim > 0.4\n",
    "    assert is_too_close.sum() == 1 "
   ]
  },
  {
   "cell_type": "code",
   "execution_count": 21,
   "metadata": {},
   "outputs": [
    {
     "data": {
      "text/html": [
       "<div>\n",
       "<style scoped>\n",
       "    .dataframe tbody tr th:only-of-type {\n",
       "        vertical-align: middle;\n",
       "    }\n",
       "\n",
       "    .dataframe tbody tr th {\n",
       "        vertical-align: top;\n",
       "    }\n",
       "\n",
       "    .dataframe thead th {\n",
       "        text-align: right;\n",
       "    }\n",
       "</style>\n",
       "<table border=\"1\" class=\"dataframe\">\n",
       "  <thead>\n",
       "    <tr style=\"text-align: right;\">\n",
       "      <th></th>\n",
       "      <th>smiles</th>\n",
       "      <th>value</th>\n",
       "      <th>cluster</th>\n",
       "    </tr>\n",
       "  </thead>\n",
       "  <tbody>\n",
       "    <tr>\n",
       "      <th>1</th>\n",
       "      <td>Brc1ccc(-c2nc3ccc(Nc4ncnc5ccccc45)cc3[nH]2)cc1</td>\n",
       "      <td>6.419075</td>\n",
       "      <td>51</td>\n",
       "    </tr>\n",
       "    <tr>\n",
       "      <th>867</th>\n",
       "      <td>CCc1ccc(-c2nc3ccc(Nc4ncnc5ccccc45)cc3[nH]2)cc1</td>\n",
       "      <td>5.060930</td>\n",
       "      <td>51</td>\n",
       "    </tr>\n",
       "    <tr>\n",
       "      <th>3147</th>\n",
       "      <td>Cc1ccc(-c2nc3ccc(Nc4ncnc5ccccc45)cc3[nH]2)cc1</td>\n",
       "      <td>5.322302</td>\n",
       "      <td>51</td>\n",
       "    </tr>\n",
       "    <tr>\n",
       "      <th>3390</th>\n",
       "      <td>Cc1cccc(-c2nc3ccc(Nc4ncnc5ccccc45)cc3[nH]2)c1</td>\n",
       "      <td>5.182369</td>\n",
       "      <td>51</td>\n",
       "    </tr>\n",
       "    <tr>\n",
       "      <th>3560</th>\n",
       "      <td>Cc1ccccc1-c1nc2ccc(Nc3ncnc4ccccc34)cc2[nH]1</td>\n",
       "      <td>5.029142</td>\n",
       "      <td>51</td>\n",
       "    </tr>\n",
       "    <tr>\n",
       "      <th>3738</th>\n",
       "      <td>Clc1cc(Cl)cc(-c2nc3ccc(Nc4ncnc5ccccc45)cc3[nH]...</td>\n",
       "      <td>5.734946</td>\n",
       "      <td>51</td>\n",
       "    </tr>\n",
       "    <tr>\n",
       "      <th>3742</th>\n",
       "      <td>Clc1ccc(-c2nc3ccc(Nc4ncnc5ccccc45)cc3[nH]2)cc1</td>\n",
       "      <td>7.040959</td>\n",
       "      <td>51</td>\n",
       "    </tr>\n",
       "    <tr>\n",
       "      <th>3743</th>\n",
       "      <td>Clc1ccc(-c2nc3ccc(Nc4ncnc5ccccc45)cc3[nH]2)cc1Cl</td>\n",
       "      <td>6.118615</td>\n",
       "      <td>51</td>\n",
       "    </tr>\n",
       "    <tr>\n",
       "      <th>3762</th>\n",
       "      <td>Clc1cccc(-c2nc3ccc(Nc4ncnc5ccccc45)cc3[nH]2)c1</td>\n",
       "      <td>5.801068</td>\n",
       "      <td>51</td>\n",
       "    </tr>\n",
       "    <tr>\n",
       "      <th>3764</th>\n",
       "      <td>Clc1ccccc1-c1nc2ccc(Nc3ncnc4ccccc34)cc2[nH]1</td>\n",
       "      <td>5.060431</td>\n",
       "      <td>51</td>\n",
       "    </tr>\n",
       "    <tr>\n",
       "      <th>3936</th>\n",
       "      <td>FC(F)(F)c1ccc(-c2nc3ccc(Nc4ncnc5ccccc45)cc3[nH...</td>\n",
       "      <td>5.053008</td>\n",
       "      <td>51</td>\n",
       "    </tr>\n",
       "    <tr>\n",
       "      <th>3949</th>\n",
       "      <td>Fc1ccc(-c2nc3ccc(Nc4ncnc5ccccc45)cc3[nH]2)cc1</td>\n",
       "      <td>7.677781</td>\n",
       "      <td>51</td>\n",
       "    </tr>\n",
       "    <tr>\n",
       "      <th>3952</th>\n",
       "      <td>Fc1ccc(Br)c(-c2nc3ccc(Nc4ncnc5ccccc45)cc3[nH]2)c1</td>\n",
       "      <td>5.069509</td>\n",
       "      <td>51</td>\n",
       "    </tr>\n",
       "    <tr>\n",
       "      <th>3958</th>\n",
       "      <td>Fc1cccc(-c2nc3ccc(Nc4ncnc5ccccc45)cc3[nH]2)c1</td>\n",
       "      <td>6.085657</td>\n",
       "      <td>51</td>\n",
       "    </tr>\n",
       "    <tr>\n",
       "      <th>3964</th>\n",
       "      <td>Fc1ccccc1-c1nc2ccc(Nc3ncnc4ccccc34)cc2[nH]1</td>\n",
       "      <td>5.197158</td>\n",
       "      <td>51</td>\n",
       "    </tr>\n",
       "    <tr>\n",
       "      <th>4862</th>\n",
       "      <td>c1ccc(-c2nc3ccc(Nc4ncnc5ccccc45)cc3[nH]2)cc1</td>\n",
       "      <td>6.080399</td>\n",
       "      <td>51</td>\n",
       "    </tr>\n",
       "  </tbody>\n",
       "</table>\n",
       "</div>"
      ],
      "text/plain": [
       "                                                 smiles     value  cluster\n",
       "1        Brc1ccc(-c2nc3ccc(Nc4ncnc5ccccc45)cc3[nH]2)cc1  6.419075       51\n",
       "867      CCc1ccc(-c2nc3ccc(Nc4ncnc5ccccc45)cc3[nH]2)cc1  5.060930       51\n",
       "3147      Cc1ccc(-c2nc3ccc(Nc4ncnc5ccccc45)cc3[nH]2)cc1  5.322302       51\n",
       "3390      Cc1cccc(-c2nc3ccc(Nc4ncnc5ccccc45)cc3[nH]2)c1  5.182369       51\n",
       "3560        Cc1ccccc1-c1nc2ccc(Nc3ncnc4ccccc34)cc2[nH]1  5.029142       51\n",
       "3738  Clc1cc(Cl)cc(-c2nc3ccc(Nc4ncnc5ccccc45)cc3[nH]...  5.734946       51\n",
       "3742     Clc1ccc(-c2nc3ccc(Nc4ncnc5ccccc45)cc3[nH]2)cc1  7.040959       51\n",
       "3743   Clc1ccc(-c2nc3ccc(Nc4ncnc5ccccc45)cc3[nH]2)cc1Cl  6.118615       51\n",
       "3762     Clc1cccc(-c2nc3ccc(Nc4ncnc5ccccc45)cc3[nH]2)c1  5.801068       51\n",
       "3764       Clc1ccccc1-c1nc2ccc(Nc3ncnc4ccccc34)cc2[nH]1  5.060431       51\n",
       "3936  FC(F)(F)c1ccc(-c2nc3ccc(Nc4ncnc5ccccc45)cc3[nH...  5.053008       51\n",
       "3949      Fc1ccc(-c2nc3ccc(Nc4ncnc5ccccc45)cc3[nH]2)cc1  7.677781       51\n",
       "3952  Fc1ccc(Br)c(-c2nc3ccc(Nc4ncnc5ccccc45)cc3[nH]2)c1  5.069509       51\n",
       "3958      Fc1cccc(-c2nc3ccc(Nc4ncnc5ccccc45)cc3[nH]2)c1  6.085657       51\n",
       "3964        Fc1ccccc1-c1nc2ccc(Nc3ncnc4ccccc34)cc2[nH]1  5.197158       51\n",
       "4862       c1ccc(-c2nc3ccc(Nc4ncnc5ccccc45)cc3[nH]2)cc1  6.080399       51"
      ]
     },
     "execution_count": 21,
     "metadata": {},
     "output_type": "execute_result"
    }
   ],
   "source": [
    "cluster"
   ]
  },
  {
   "cell_type": "code",
   "execution_count": 23,
   "metadata": {},
   "outputs": [
    {
     "data": {
      "text/plain": [
       "0"
      ]
     },
     "execution_count": 23,
     "metadata": {},
     "output_type": "execute_result"
    }
   ],
   "source": [
    "sum(is_too_close)"
   ]
  },
  {
   "cell_type": "code",
   "execution_count": null,
   "metadata": {},
   "outputs": [],
   "source": []
  }
 ],
 "metadata": {
  "kernelspec": {
   "display_name": "lohi_benchmark",
   "language": "python",
   "name": "python3"
  },
  "language_info": {
   "codemirror_mode": {
    "name": "ipython",
    "version": 3
   },
   "file_extension": ".py",
   "mimetype": "text/x-python",
   "name": "python",
   "nbconvert_exporter": "python",
   "pygments_lexer": "ipython3",
   "version": "3.10.12"
  },
  "orig_nbformat": 4
 },
 "nbformat": 4,
 "nbformat_minor": 2
}
